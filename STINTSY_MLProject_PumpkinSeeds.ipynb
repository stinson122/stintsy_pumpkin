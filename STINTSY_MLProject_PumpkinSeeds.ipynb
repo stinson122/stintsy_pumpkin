{
 "cells": [
  {
   "cell_type": "markdown",
   "metadata": {},
   "source": [
    "# **STINTSY Machine Learning Project: Pumpkin Seeds Dataset**"
   ]
  },
  {
   "cell_type": "markdown",
   "metadata": {},
   "source": [
    "**STINTSY S11 - Milky Way** \\\n",
    "*Group Members:*\n",
    "- Gutierrez, Mark Daniel\n",
    "- Refuerzo, Lloyd Dominic\n",
    "- Romblon, Kathleen Mae\n",
    "- Stinson, Audrey Lauren"
   ]
  },
  {
   "cell_type": "markdown",
   "metadata": {},
   "source": [
    "## **1** | **Introduction**"
   ]
  },
  {
   "cell_type": "markdown",
   "metadata": {},
   "source": [
    "The pumpkin plant belongs to the Cucurbitaceae family and has seasonal varieties. Confectionery pumpkins, grown in Turkey, are usually produced from the pumpkin species, *Cucurbita pepo* L and sometimes from the *Cucurbita moschata* Duchesne type. Pumpkin seeds are considered as important for human health because it contains 37 percent of carbohydrate, 35 percent to 40 percent of fat and protein along with calcium, potassium, phosphorus, magnesium, iron, and zinc. Pumpkins are divided into many types, and one of these species is known as “Urgup Sivrisi”. Urgup Sivrisi is a type of pumpkin seed that has a long, white, very bright, thin, and hardly distinguishable shell with a pointed tip. The other type of pumpkin seeds is “Cercevelik”. It is a particular species grown in Turkey, Nevsehir, Karacaoren, and known as “Topak” in Turkey. <span style=\"color:#42adf5\">(*taken directly from* Details *section of the Pumpkin Seeds Dataset pdf*)</span>"
   ]
  },
  {
   "cell_type": "markdown",
   "metadata": {},
   "source": [
    "The target task for this dataset is to correctly classify whether an image of a pumpkin seed is of the species type \"Urgup Sivrisi\" or \"Cercevelik\". The dataset then offers a <span style=\"color:#f5b942\">classification problem</span> that the group will address through the use of various machine learning models, namely **k-Nearest Neighbors**, **Decision Trees**, and **Logistic Regression**."
   ]
  },
  {
   "cell_type": "markdown",
   "metadata": {},
   "source": [
    "## **2** | **About the Dataset**"
   ]
  },
  {
   "cell_type": "markdown",
   "metadata": {},
   "source": [
    "The dataset, collected by Koklu et al. (2021), contains extracted features from 2500 images of two varieties of pumpkin seeds, Urgup Sivrisi and Cercevelik. These images were taken inside a product shooting box to prevent shadows from showing if light from outside of the box were to get in. To process the original RGB images, they were converted to gray-toned images, and then to binary images to simplify the value of each pixel in the image. As the RGB images will be converted to binary images for the image processing part, the shadows can make the acquired size and shape of the seed appear smaller."
   ]
  },
  {
   "cell_type": "markdown",
   "metadata": {},
   "source": [
    "From the image binarization of each of the 2500 images, 12 features were extracted for each instance. The extracted features are based on the shape of the pumpkin seeds, where each pixel in the image was calculated while considering the values of other nearby pixels."
   ]
  },
  {
   "cell_type": "markdown",
   "metadata": {},
   "source": [
    "As such, the extracted features are as follows:"
   ]
  },
  {
   "cell_type": "markdown",
   "metadata": {},
   "source": [
    "1. <span style=\"color:#f5b942\">Area:</span> Number of pixels within the borders of a pumpkin seed\n",
    "2. <span style=\"color:#f5b942\">Perimeter:</span> Circumference in pixels of a pumpkin seed\n",
    "3. <span style=\"color:#f5b942\">Major Axis Length:</span> Large axis distance of a pumpkin seed\n",
    "4. <span style=\"color:#f5b942\">Minor Axis Length:</span> Small axis distance of a pumpkin seed\n",
    "5. <span style=\"color:#f5b942\">Convex Area:</span> Number of pixels of the smallest convex shell at the region formed by the pumpkin seed\n",
    "6. <span style=\"color:#f5b942\">Equiv Diameter:</span> Computed as $\\sqrt{4a/\\pi}$, where $a$ is the area of the pumpkin seed\n",
    "7. <span style=\"color:#f5b942\">Eccentricity:</span> Eccentricity of a pumpkin seed\n",
    "8. <span style=\"color:#f5b942\">Solidity:</span> Convex condition of the pumpkin seeds\n",
    "9. <span style=\"color:#f5b942\">Extent:</span> Ratio of a pumpkin seed area to the bounding box pixels\n",
    "10. <span style=\"color:#f5b942\">Roundness:</span> Ovality of pumpkin seeds without considering the distortion of the edges\n",
    "11. <span style=\"color:#f5b942\">Aspect Ration:</span> Aspect ratio of the pumpkin seeds\n",
    "12. <span style=\"color:#f5b942\">Compactness:</span> Proportion of the area of the pumpkin seed relative to the area of the circle with the same circumference"
   ]
  },
  {
   "cell_type": "markdown",
   "metadata": {},
   "source": [
    "## **3** | **List of Requirements**"
   ]
  },
  {
   "cell_type": "markdown",
   "metadata": {},
   "source": [
    "The following cell imports the libraries needed to run the notebook:"
   ]
  },
  {
   "cell_type": "code",
   "execution_count": 1,
   "metadata": {},
   "outputs": [],
   "source": [
    "import pandas as pd\n",
    "import numpy as np\n",
    "from sklearn.preprocessing import LabelEncoder, MinMaxScaler\n",
    "\n",
    "import matplotlib.pyplot as plt\n",
    "import seaborn as sns"
   ]
  },
  {
   "cell_type": "markdown",
   "metadata": {},
   "source": [
    "## **4** | **Data Preprocessing**"
   ]
  },
  {
   "cell_type": "markdown",
   "metadata": {},
   "source": [
    "### *Importing the dataset*"
   ]
  },
  {
   "cell_type": "markdown",
   "metadata": {},
   "source": [
    "For the following cell, we will be using the `read_csv` function to import the pumpkin seeds dataset to our notebook."
   ]
  },
  {
   "cell_type": "code",
   "execution_count": 2,
   "metadata": {},
   "outputs": [],
   "source": [
    "data = pd.read_csv('pumpkin_seeds.csv')"
   ]
  },
  {
   "cell_type": "markdown",
   "metadata": {},
   "source": [
    "To check that we have imported the data, we can take a look at the first and last 10 instances in the dataset."
   ]
  },
  {
   "cell_type": "code",
   "execution_count": 3,
   "metadata": {},
   "outputs": [
    {
     "data": {
      "text/html": [
       "<div>\n",
       "<style scoped>\n",
       "    .dataframe tbody tr th:only-of-type {\n",
       "        vertical-align: middle;\n",
       "    }\n",
       "\n",
       "    .dataframe tbody tr th {\n",
       "        vertical-align: top;\n",
       "    }\n",
       "\n",
       "    .dataframe thead th {\n",
       "        text-align: right;\n",
       "    }\n",
       "</style>\n",
       "<table border=\"1\" class=\"dataframe\">\n",
       "  <thead>\n",
       "    <tr style=\"text-align: right;\">\n",
       "      <th></th>\n",
       "      <th>Area</th>\n",
       "      <th>Perimeter</th>\n",
       "      <th>Major_Axis_Length</th>\n",
       "      <th>Minor_Axis_Length</th>\n",
       "      <th>Convex_Area</th>\n",
       "      <th>Equiv_Diameter</th>\n",
       "      <th>Eccentricity</th>\n",
       "      <th>Solidity</th>\n",
       "      <th>Extent</th>\n",
       "      <th>Roundness</th>\n",
       "      <th>Aspect_Ration</th>\n",
       "      <th>Compactness</th>\n",
       "      <th>Class</th>\n",
       "    </tr>\n",
       "  </thead>\n",
       "  <tbody>\n",
       "    <tr>\n",
       "      <th>0</th>\n",
       "      <td>56276</td>\n",
       "      <td>888.242</td>\n",
       "      <td>326.1485</td>\n",
       "      <td>220.2388</td>\n",
       "      <td>56831</td>\n",
       "      <td>267.6805</td>\n",
       "      <td>0.7376</td>\n",
       "      <td>0.9902</td>\n",
       "      <td>0.7453</td>\n",
       "      <td>0.8963</td>\n",
       "      <td>1.4809</td>\n",
       "      <td>0.8207</td>\n",
       "      <td>Çerçevelik</td>\n",
       "    </tr>\n",
       "    <tr>\n",
       "      <th>1</th>\n",
       "      <td>76631</td>\n",
       "      <td>1068.146</td>\n",
       "      <td>417.1932</td>\n",
       "      <td>234.2289</td>\n",
       "      <td>77280</td>\n",
       "      <td>312.3614</td>\n",
       "      <td>0.8275</td>\n",
       "      <td>0.9916</td>\n",
       "      <td>0.7151</td>\n",
       "      <td>0.8440</td>\n",
       "      <td>1.7811</td>\n",
       "      <td>0.7487</td>\n",
       "      <td>Çerçevelik</td>\n",
       "    </tr>\n",
       "    <tr>\n",
       "      <th>2</th>\n",
       "      <td>71623</td>\n",
       "      <td>1082.987</td>\n",
       "      <td>435.8328</td>\n",
       "      <td>211.0457</td>\n",
       "      <td>72663</td>\n",
       "      <td>301.9822</td>\n",
       "      <td>0.8749</td>\n",
       "      <td>0.9857</td>\n",
       "      <td>0.7400</td>\n",
       "      <td>0.7674</td>\n",
       "      <td>2.0651</td>\n",
       "      <td>0.6929</td>\n",
       "      <td>Çerçevelik</td>\n",
       "    </tr>\n",
       "    <tr>\n",
       "      <th>3</th>\n",
       "      <td>66458</td>\n",
       "      <td>992.051</td>\n",
       "      <td>381.5638</td>\n",
       "      <td>222.5322</td>\n",
       "      <td>67118</td>\n",
       "      <td>290.8899</td>\n",
       "      <td>0.8123</td>\n",
       "      <td>0.9902</td>\n",
       "      <td>0.7396</td>\n",
       "      <td>0.8486</td>\n",
       "      <td>1.7146</td>\n",
       "      <td>0.7624</td>\n",
       "      <td>Çerçevelik</td>\n",
       "    </tr>\n",
       "    <tr>\n",
       "      <th>4</th>\n",
       "      <td>66107</td>\n",
       "      <td>998.146</td>\n",
       "      <td>383.8883</td>\n",
       "      <td>220.4545</td>\n",
       "      <td>67117</td>\n",
       "      <td>290.1207</td>\n",
       "      <td>0.8187</td>\n",
       "      <td>0.9850</td>\n",
       "      <td>0.6752</td>\n",
       "      <td>0.8338</td>\n",
       "      <td>1.7413</td>\n",
       "      <td>0.7557</td>\n",
       "      <td>Çerçevelik</td>\n",
       "    </tr>\n",
       "    <tr>\n",
       "      <th>5</th>\n",
       "      <td>73191</td>\n",
       "      <td>1041.460</td>\n",
       "      <td>405.8132</td>\n",
       "      <td>231.4261</td>\n",
       "      <td>73969</td>\n",
       "      <td>305.2698</td>\n",
       "      <td>0.8215</td>\n",
       "      <td>0.9895</td>\n",
       "      <td>0.7165</td>\n",
       "      <td>0.8480</td>\n",
       "      <td>1.7535</td>\n",
       "      <td>0.7522</td>\n",
       "      <td>Çerçevelik</td>\n",
       "    </tr>\n",
       "    <tr>\n",
       "      <th>6</th>\n",
       "      <td>73338</td>\n",
       "      <td>1020.055</td>\n",
       "      <td>392.2516</td>\n",
       "      <td>238.5494</td>\n",
       "      <td>73859</td>\n",
       "      <td>305.5762</td>\n",
       "      <td>0.7938</td>\n",
       "      <td>0.9929</td>\n",
       "      <td>0.7187</td>\n",
       "      <td>0.8857</td>\n",
       "      <td>1.6443</td>\n",
       "      <td>0.7790</td>\n",
       "      <td>Çerçevelik</td>\n",
       "    </tr>\n",
       "    <tr>\n",
       "      <th>7</th>\n",
       "      <td>69692</td>\n",
       "      <td>1049.108</td>\n",
       "      <td>421.4875</td>\n",
       "      <td>211.7707</td>\n",
       "      <td>70442</td>\n",
       "      <td>297.8836</td>\n",
       "      <td>0.8646</td>\n",
       "      <td>0.9894</td>\n",
       "      <td>0.6736</td>\n",
       "      <td>0.7957</td>\n",
       "      <td>1.9903</td>\n",
       "      <td>0.7067</td>\n",
       "      <td>Çerçevelik</td>\n",
       "    </tr>\n",
       "    <tr>\n",
       "      <th>8</th>\n",
       "      <td>95727</td>\n",
       "      <td>1231.609</td>\n",
       "      <td>488.1199</td>\n",
       "      <td>251.3086</td>\n",
       "      <td>96831</td>\n",
       "      <td>349.1180</td>\n",
       "      <td>0.8573</td>\n",
       "      <td>0.9886</td>\n",
       "      <td>0.6188</td>\n",
       "      <td>0.7930</td>\n",
       "      <td>1.9423</td>\n",
       "      <td>0.7152</td>\n",
       "      <td>Çerçevelik</td>\n",
       "    </tr>\n",
       "    <tr>\n",
       "      <th>9</th>\n",
       "      <td>73465</td>\n",
       "      <td>1047.767</td>\n",
       "      <td>413.6504</td>\n",
       "      <td>227.2644</td>\n",
       "      <td>74089</td>\n",
       "      <td>305.8407</td>\n",
       "      <td>0.8356</td>\n",
       "      <td>0.9916</td>\n",
       "      <td>0.7443</td>\n",
       "      <td>0.8409</td>\n",
       "      <td>1.8201</td>\n",
       "      <td>0.7394</td>\n",
       "      <td>Çerçevelik</td>\n",
       "    </tr>\n",
       "  </tbody>\n",
       "</table>\n",
       "</div>"
      ],
      "text/plain": [
       "    Area  Perimeter  Major_Axis_Length  Minor_Axis_Length  Convex_Area  \\\n",
       "0  56276    888.242           326.1485           220.2388        56831   \n",
       "1  76631   1068.146           417.1932           234.2289        77280   \n",
       "2  71623   1082.987           435.8328           211.0457        72663   \n",
       "3  66458    992.051           381.5638           222.5322        67118   \n",
       "4  66107    998.146           383.8883           220.4545        67117   \n",
       "5  73191   1041.460           405.8132           231.4261        73969   \n",
       "6  73338   1020.055           392.2516           238.5494        73859   \n",
       "7  69692   1049.108           421.4875           211.7707        70442   \n",
       "8  95727   1231.609           488.1199           251.3086        96831   \n",
       "9  73465   1047.767           413.6504           227.2644        74089   \n",
       "\n",
       "   Equiv_Diameter  Eccentricity  Solidity  Extent  Roundness  Aspect_Ration  \\\n",
       "0        267.6805        0.7376    0.9902  0.7453     0.8963         1.4809   \n",
       "1        312.3614        0.8275    0.9916  0.7151     0.8440         1.7811   \n",
       "2        301.9822        0.8749    0.9857  0.7400     0.7674         2.0651   \n",
       "3        290.8899        0.8123    0.9902  0.7396     0.8486         1.7146   \n",
       "4        290.1207        0.8187    0.9850  0.6752     0.8338         1.7413   \n",
       "5        305.2698        0.8215    0.9895  0.7165     0.8480         1.7535   \n",
       "6        305.5762        0.7938    0.9929  0.7187     0.8857         1.6443   \n",
       "7        297.8836        0.8646    0.9894  0.6736     0.7957         1.9903   \n",
       "8        349.1180        0.8573    0.9886  0.6188     0.7930         1.9423   \n",
       "9        305.8407        0.8356    0.9916  0.7443     0.8409         1.8201   \n",
       "\n",
       "   Compactness       Class  \n",
       "0       0.8207  Çerçevelik  \n",
       "1       0.7487  Çerçevelik  \n",
       "2       0.6929  Çerçevelik  \n",
       "3       0.7624  Çerçevelik  \n",
       "4       0.7557  Çerçevelik  \n",
       "5       0.7522  Çerçevelik  \n",
       "6       0.7790  Çerçevelik  \n",
       "7       0.7067  Çerçevelik  \n",
       "8       0.7152  Çerçevelik  \n",
       "9       0.7394  Çerçevelik  "
      ]
     },
     "execution_count": 3,
     "metadata": {},
     "output_type": "execute_result"
    }
   ],
   "source": [
    "data.head(10)"
   ]
  },
  {
   "cell_type": "code",
   "execution_count": 4,
   "metadata": {},
   "outputs": [
    {
     "data": {
      "text/html": [
       "<div>\n",
       "<style scoped>\n",
       "    .dataframe tbody tr th:only-of-type {\n",
       "        vertical-align: middle;\n",
       "    }\n",
       "\n",
       "    .dataframe tbody tr th {\n",
       "        vertical-align: top;\n",
       "    }\n",
       "\n",
       "    .dataframe thead th {\n",
       "        text-align: right;\n",
       "    }\n",
       "</style>\n",
       "<table border=\"1\" class=\"dataframe\">\n",
       "  <thead>\n",
       "    <tr style=\"text-align: right;\">\n",
       "      <th></th>\n",
       "      <th>Area</th>\n",
       "      <th>Perimeter</th>\n",
       "      <th>Major_Axis_Length</th>\n",
       "      <th>Minor_Axis_Length</th>\n",
       "      <th>Convex_Area</th>\n",
       "      <th>Equiv_Diameter</th>\n",
       "      <th>Eccentricity</th>\n",
       "      <th>Solidity</th>\n",
       "      <th>Extent</th>\n",
       "      <th>Roundness</th>\n",
       "      <th>Aspect_Ration</th>\n",
       "      <th>Compactness</th>\n",
       "      <th>Class</th>\n",
       "    </tr>\n",
       "  </thead>\n",
       "  <tbody>\n",
       "    <tr>\n",
       "      <th>2490</th>\n",
       "      <td>51555</td>\n",
       "      <td>934.911</td>\n",
       "      <td>401.8321</td>\n",
       "      <td>164.7038</td>\n",
       "      <td>52013</td>\n",
       "      <td>256.2067</td>\n",
       "      <td>0.9121</td>\n",
       "      <td>0.9912</td>\n",
       "      <td>0.7187</td>\n",
       "      <td>0.7412</td>\n",
       "      <td>2.4397</td>\n",
       "      <td>0.6376</td>\n",
       "      <td>Ürgüp Sivrisi</td>\n",
       "    </tr>\n",
       "    <tr>\n",
       "      <th>2491</th>\n",
       "      <td>69836</td>\n",
       "      <td>1010.605</td>\n",
       "      <td>396.6286</td>\n",
       "      <td>224.7918</td>\n",
       "      <td>70419</td>\n",
       "      <td>298.1911</td>\n",
       "      <td>0.8239</td>\n",
       "      <td>0.9917</td>\n",
       "      <td>0.6693</td>\n",
       "      <td>0.8593</td>\n",
       "      <td>1.7644</td>\n",
       "      <td>0.7518</td>\n",
       "      <td>Ürgüp Sivrisi</td>\n",
       "    </tr>\n",
       "    <tr>\n",
       "      <th>2492</th>\n",
       "      <td>84236</td>\n",
       "      <td>1274.656</td>\n",
       "      <td>456.9323</td>\n",
       "      <td>237.1540</td>\n",
       "      <td>85248</td>\n",
       "      <td>327.4944</td>\n",
       "      <td>0.8548</td>\n",
       "      <td>0.9881</td>\n",
       "      <td>0.6104</td>\n",
       "      <td>0.6515</td>\n",
       "      <td>1.9267</td>\n",
       "      <td>0.7167</td>\n",
       "      <td>Ürgüp Sivrisi</td>\n",
       "    </tr>\n",
       "    <tr>\n",
       "      <th>2493</th>\n",
       "      <td>58987</td>\n",
       "      <td>977.410</td>\n",
       "      <td>404.0779</td>\n",
       "      <td>186.3710</td>\n",
       "      <td>59518</td>\n",
       "      <td>274.0522</td>\n",
       "      <td>0.8873</td>\n",
       "      <td>0.9911</td>\n",
       "      <td>0.7327</td>\n",
       "      <td>0.7759</td>\n",
       "      <td>2.1681</td>\n",
       "      <td>0.6782</td>\n",
       "      <td>Ürgüp Sivrisi</td>\n",
       "    </tr>\n",
       "    <tr>\n",
       "      <th>2494</th>\n",
       "      <td>79755</td>\n",
       "      <td>1146.431</td>\n",
       "      <td>470.3888</td>\n",
       "      <td>217.8296</td>\n",
       "      <td>80649</td>\n",
       "      <td>318.6647</td>\n",
       "      <td>0.8863</td>\n",
       "      <td>0.9889</td>\n",
       "      <td>0.7175</td>\n",
       "      <td>0.7626</td>\n",
       "      <td>2.1594</td>\n",
       "      <td>0.6774</td>\n",
       "      <td>Ürgüp Sivrisi</td>\n",
       "    </tr>\n",
       "    <tr>\n",
       "      <th>2495</th>\n",
       "      <td>79637</td>\n",
       "      <td>1224.710</td>\n",
       "      <td>533.1513</td>\n",
       "      <td>190.4367</td>\n",
       "      <td>80381</td>\n",
       "      <td>318.4289</td>\n",
       "      <td>0.9340</td>\n",
       "      <td>0.9907</td>\n",
       "      <td>0.4888</td>\n",
       "      <td>0.6672</td>\n",
       "      <td>2.7996</td>\n",
       "      <td>0.5973</td>\n",
       "      <td>Ürgüp Sivrisi</td>\n",
       "    </tr>\n",
       "    <tr>\n",
       "      <th>2496</th>\n",
       "      <td>69647</td>\n",
       "      <td>1084.318</td>\n",
       "      <td>462.9416</td>\n",
       "      <td>191.8210</td>\n",
       "      <td>70216</td>\n",
       "      <td>297.7874</td>\n",
       "      <td>0.9101</td>\n",
       "      <td>0.9919</td>\n",
       "      <td>0.6002</td>\n",
       "      <td>0.7444</td>\n",
       "      <td>2.4134</td>\n",
       "      <td>0.6433</td>\n",
       "      <td>Ürgüp Sivrisi</td>\n",
       "    </tr>\n",
       "    <tr>\n",
       "      <th>2497</th>\n",
       "      <td>87994</td>\n",
       "      <td>1210.314</td>\n",
       "      <td>507.2200</td>\n",
       "      <td>222.1872</td>\n",
       "      <td>88702</td>\n",
       "      <td>334.7199</td>\n",
       "      <td>0.8990</td>\n",
       "      <td>0.9920</td>\n",
       "      <td>0.7643</td>\n",
       "      <td>0.7549</td>\n",
       "      <td>2.2828</td>\n",
       "      <td>0.6599</td>\n",
       "      <td>Ürgüp Sivrisi</td>\n",
       "    </tr>\n",
       "    <tr>\n",
       "      <th>2498</th>\n",
       "      <td>80011</td>\n",
       "      <td>1182.947</td>\n",
       "      <td>501.9065</td>\n",
       "      <td>204.7531</td>\n",
       "      <td>80902</td>\n",
       "      <td>319.1758</td>\n",
       "      <td>0.9130</td>\n",
       "      <td>0.9890</td>\n",
       "      <td>0.7374</td>\n",
       "      <td>0.7185</td>\n",
       "      <td>2.4513</td>\n",
       "      <td>0.6359</td>\n",
       "      <td>Ürgüp Sivrisi</td>\n",
       "    </tr>\n",
       "    <tr>\n",
       "      <th>2499</th>\n",
       "      <td>84934</td>\n",
       "      <td>1159.933</td>\n",
       "      <td>462.8951</td>\n",
       "      <td>234.5597</td>\n",
       "      <td>85781</td>\n",
       "      <td>328.8485</td>\n",
       "      <td>0.8621</td>\n",
       "      <td>0.9901</td>\n",
       "      <td>0.7360</td>\n",
       "      <td>0.7933</td>\n",
       "      <td>1.9735</td>\n",
       "      <td>0.7104</td>\n",
       "      <td>Ürgüp Sivrisi</td>\n",
       "    </tr>\n",
       "  </tbody>\n",
       "</table>\n",
       "</div>"
      ],
      "text/plain": [
       "       Area  Perimeter  Major_Axis_Length  Minor_Axis_Length  Convex_Area  \\\n",
       "2490  51555    934.911           401.8321           164.7038        52013   \n",
       "2491  69836   1010.605           396.6286           224.7918        70419   \n",
       "2492  84236   1274.656           456.9323           237.1540        85248   \n",
       "2493  58987    977.410           404.0779           186.3710        59518   \n",
       "2494  79755   1146.431           470.3888           217.8296        80649   \n",
       "2495  79637   1224.710           533.1513           190.4367        80381   \n",
       "2496  69647   1084.318           462.9416           191.8210        70216   \n",
       "2497  87994   1210.314           507.2200           222.1872        88702   \n",
       "2498  80011   1182.947           501.9065           204.7531        80902   \n",
       "2499  84934   1159.933           462.8951           234.5597        85781   \n",
       "\n",
       "      Equiv_Diameter  Eccentricity  Solidity  Extent  Roundness  \\\n",
       "2490        256.2067        0.9121    0.9912  0.7187     0.7412   \n",
       "2491        298.1911        0.8239    0.9917  0.6693     0.8593   \n",
       "2492        327.4944        0.8548    0.9881  0.6104     0.6515   \n",
       "2493        274.0522        0.8873    0.9911  0.7327     0.7759   \n",
       "2494        318.6647        0.8863    0.9889  0.7175     0.7626   \n",
       "2495        318.4289        0.9340    0.9907  0.4888     0.6672   \n",
       "2496        297.7874        0.9101    0.9919  0.6002     0.7444   \n",
       "2497        334.7199        0.8990    0.9920  0.7643     0.7549   \n",
       "2498        319.1758        0.9130    0.9890  0.7374     0.7185   \n",
       "2499        328.8485        0.8621    0.9901  0.7360     0.7933   \n",
       "\n",
       "      Aspect_Ration  Compactness          Class  \n",
       "2490         2.4397       0.6376  Ürgüp Sivrisi  \n",
       "2491         1.7644       0.7518  Ürgüp Sivrisi  \n",
       "2492         1.9267       0.7167  Ürgüp Sivrisi  \n",
       "2493         2.1681       0.6782  Ürgüp Sivrisi  \n",
       "2494         2.1594       0.6774  Ürgüp Sivrisi  \n",
       "2495         2.7996       0.5973  Ürgüp Sivrisi  \n",
       "2496         2.4134       0.6433  Ürgüp Sivrisi  \n",
       "2497         2.2828       0.6599  Ürgüp Sivrisi  \n",
       "2498         2.4513       0.6359  Ürgüp Sivrisi  \n",
       "2499         1.9735       0.7104  Ürgüp Sivrisi  "
      ]
     },
     "execution_count": 4,
     "metadata": {},
     "output_type": "execute_result"
    }
   ],
   "source": [
    "data.tail(10)"
   ]
  },
  {
   "cell_type": "code",
   "execution_count": 5,
   "metadata": {},
   "outputs": [
    {
     "data": {
      "text/plain": [
       "(2500, 13)"
      ]
     },
     "execution_count": 5,
     "metadata": {},
     "output_type": "execute_result"
    }
   ],
   "source": [
    "# (no. of instances, no. of columns [features + target label])\n",
    "data.shape"
   ]
  },
  {
   "cell_type": "markdown",
   "metadata": {},
   "source": [
    "The dataset consists of 13 columns, where the first 12 columns are the input features and the last column is the target label. There are 2500 instances in total, and the shape of the dataset is `(2500, 13)`."
   ]
  },
  {
   "cell_type": "markdown",
   "metadata": {},
   "source": [
    "Optionally, we can see the statistical summary of the dataset by calling the `describe()` function."
   ]
  },
  {
   "cell_type": "code",
   "execution_count": 6,
   "metadata": {},
   "outputs": [
    {
     "data": {
      "text/html": [
       "<div>\n",
       "<style scoped>\n",
       "    .dataframe tbody tr th:only-of-type {\n",
       "        vertical-align: middle;\n",
       "    }\n",
       "\n",
       "    .dataframe tbody tr th {\n",
       "        vertical-align: top;\n",
       "    }\n",
       "\n",
       "    .dataframe thead th {\n",
       "        text-align: right;\n",
       "    }\n",
       "</style>\n",
       "<table border=\"1\" class=\"dataframe\">\n",
       "  <thead>\n",
       "    <tr style=\"text-align: right;\">\n",
       "      <th></th>\n",
       "      <th>Area</th>\n",
       "      <th>Perimeter</th>\n",
       "      <th>Major_Axis_Length</th>\n",
       "      <th>Minor_Axis_Length</th>\n",
       "      <th>Convex_Area</th>\n",
       "      <th>Equiv_Diameter</th>\n",
       "      <th>Eccentricity</th>\n",
       "      <th>Solidity</th>\n",
       "      <th>Extent</th>\n",
       "      <th>Roundness</th>\n",
       "      <th>Aspect_Ration</th>\n",
       "      <th>Compactness</th>\n",
       "    </tr>\n",
       "  </thead>\n",
       "  <tbody>\n",
       "    <tr>\n",
       "      <th>count</th>\n",
       "      <td>2500.000000</td>\n",
       "      <td>2500.000000</td>\n",
       "      <td>2500.000000</td>\n",
       "      <td>2500.000000</td>\n",
       "      <td>2500.000000</td>\n",
       "      <td>2500.000000</td>\n",
       "      <td>2500.000000</td>\n",
       "      <td>2500.000000</td>\n",
       "      <td>2500.000000</td>\n",
       "      <td>2500.000000</td>\n",
       "      <td>2500.000000</td>\n",
       "      <td>2500.000000</td>\n",
       "    </tr>\n",
       "    <tr>\n",
       "      <th>mean</th>\n",
       "      <td>80658.220800</td>\n",
       "      <td>1130.279015</td>\n",
       "      <td>456.601840</td>\n",
       "      <td>225.794921</td>\n",
       "      <td>81508.084400</td>\n",
       "      <td>319.334230</td>\n",
       "      <td>0.860879</td>\n",
       "      <td>0.989492</td>\n",
       "      <td>0.693205</td>\n",
       "      <td>0.791533</td>\n",
       "      <td>2.041702</td>\n",
       "      <td>0.704121</td>\n",
       "    </tr>\n",
       "    <tr>\n",
       "      <th>std</th>\n",
       "      <td>13664.510228</td>\n",
       "      <td>109.256418</td>\n",
       "      <td>56.235704</td>\n",
       "      <td>23.297245</td>\n",
       "      <td>13764.092788</td>\n",
       "      <td>26.891920</td>\n",
       "      <td>0.045167</td>\n",
       "      <td>0.003494</td>\n",
       "      <td>0.060914</td>\n",
       "      <td>0.055924</td>\n",
       "      <td>0.315997</td>\n",
       "      <td>0.053067</td>\n",
       "    </tr>\n",
       "    <tr>\n",
       "      <th>min</th>\n",
       "      <td>47939.000000</td>\n",
       "      <td>868.485000</td>\n",
       "      <td>320.844600</td>\n",
       "      <td>152.171800</td>\n",
       "      <td>48366.000000</td>\n",
       "      <td>247.058400</td>\n",
       "      <td>0.492100</td>\n",
       "      <td>0.918600</td>\n",
       "      <td>0.468000</td>\n",
       "      <td>0.554600</td>\n",
       "      <td>1.148700</td>\n",
       "      <td>0.560800</td>\n",
       "    </tr>\n",
       "    <tr>\n",
       "      <th>25%</th>\n",
       "      <td>70765.000000</td>\n",
       "      <td>1048.829750</td>\n",
       "      <td>414.957850</td>\n",
       "      <td>211.245925</td>\n",
       "      <td>71512.000000</td>\n",
       "      <td>300.167975</td>\n",
       "      <td>0.831700</td>\n",
       "      <td>0.988300</td>\n",
       "      <td>0.658900</td>\n",
       "      <td>0.751900</td>\n",
       "      <td>1.801050</td>\n",
       "      <td>0.663475</td>\n",
       "    </tr>\n",
       "    <tr>\n",
       "      <th>50%</th>\n",
       "      <td>79076.000000</td>\n",
       "      <td>1123.672000</td>\n",
       "      <td>449.496600</td>\n",
       "      <td>224.703100</td>\n",
       "      <td>79872.000000</td>\n",
       "      <td>317.305350</td>\n",
       "      <td>0.863700</td>\n",
       "      <td>0.990300</td>\n",
       "      <td>0.713050</td>\n",
       "      <td>0.797750</td>\n",
       "      <td>1.984200</td>\n",
       "      <td>0.707700</td>\n",
       "    </tr>\n",
       "    <tr>\n",
       "      <th>75%</th>\n",
       "      <td>89757.500000</td>\n",
       "      <td>1203.340500</td>\n",
       "      <td>492.737650</td>\n",
       "      <td>240.672875</td>\n",
       "      <td>90797.750000</td>\n",
       "      <td>338.057375</td>\n",
       "      <td>0.897025</td>\n",
       "      <td>0.991500</td>\n",
       "      <td>0.740225</td>\n",
       "      <td>0.834325</td>\n",
       "      <td>2.262075</td>\n",
       "      <td>0.743500</td>\n",
       "    </tr>\n",
       "    <tr>\n",
       "      <th>max</th>\n",
       "      <td>136574.000000</td>\n",
       "      <td>1559.450000</td>\n",
       "      <td>661.911300</td>\n",
       "      <td>305.818000</td>\n",
       "      <td>138384.000000</td>\n",
       "      <td>417.002900</td>\n",
       "      <td>0.948100</td>\n",
       "      <td>0.994400</td>\n",
       "      <td>0.829600</td>\n",
       "      <td>0.939600</td>\n",
       "      <td>3.144400</td>\n",
       "      <td>0.904900</td>\n",
       "    </tr>\n",
       "  </tbody>\n",
       "</table>\n",
       "</div>"
      ],
      "text/plain": [
       "                Area    Perimeter  Major_Axis_Length  Minor_Axis_Length  \\\n",
       "count    2500.000000  2500.000000        2500.000000        2500.000000   \n",
       "mean    80658.220800  1130.279015         456.601840         225.794921   \n",
       "std     13664.510228   109.256418          56.235704          23.297245   \n",
       "min     47939.000000   868.485000         320.844600         152.171800   \n",
       "25%     70765.000000  1048.829750         414.957850         211.245925   \n",
       "50%     79076.000000  1123.672000         449.496600         224.703100   \n",
       "75%     89757.500000  1203.340500         492.737650         240.672875   \n",
       "max    136574.000000  1559.450000         661.911300         305.818000   \n",
       "\n",
       "         Convex_Area  Equiv_Diameter  Eccentricity     Solidity       Extent  \\\n",
       "count    2500.000000     2500.000000   2500.000000  2500.000000  2500.000000   \n",
       "mean    81508.084400      319.334230      0.860879     0.989492     0.693205   \n",
       "std     13764.092788       26.891920      0.045167     0.003494     0.060914   \n",
       "min     48366.000000      247.058400      0.492100     0.918600     0.468000   \n",
       "25%     71512.000000      300.167975      0.831700     0.988300     0.658900   \n",
       "50%     79872.000000      317.305350      0.863700     0.990300     0.713050   \n",
       "75%     90797.750000      338.057375      0.897025     0.991500     0.740225   \n",
       "max    138384.000000      417.002900      0.948100     0.994400     0.829600   \n",
       "\n",
       "         Roundness  Aspect_Ration  Compactness  \n",
       "count  2500.000000    2500.000000  2500.000000  \n",
       "mean      0.791533       2.041702     0.704121  \n",
       "std       0.055924       0.315997     0.053067  \n",
       "min       0.554600       1.148700     0.560800  \n",
       "25%       0.751900       1.801050     0.663475  \n",
       "50%       0.797750       1.984200     0.707700  \n",
       "75%       0.834325       2.262075     0.743500  \n",
       "max       0.939600       3.144400     0.904900  "
      ]
     },
     "execution_count": 6,
     "metadata": {},
     "output_type": "execute_result"
    }
   ],
   "source": [
    "data.describe()"
   ]
  },
  {
   "cell_type": "markdown",
   "metadata": {},
   "source": [
    "### *Data Cleaning*"
   ]
  },
  {
   "cell_type": "markdown",
   "metadata": {},
   "source": [
    "As we can see, one of the features, `Aspect_Ration`, is spelled incorrectly. To fix this, we will rename that column to `Aspect_Ratio`."
   ]
  },
  {
   "cell_type": "code",
   "execution_count": 7,
   "metadata": {},
   "outputs": [],
   "source": [
    "#renaming and reformatting the features\n",
    "data.columns = ['Area', 'Perimeter', 'Major_Axis_Length', 'Minor_Axis_Length', 'Convex_Area', 'Equiv_Diameter',\n",
    "                'Eccentricity', 'Solidity', 'Extent', 'Roundness', 'Aspect_Ratio', 'Compactness', 'Class']"
   ]
  },
  {
   "cell_type": "markdown",
   "metadata": {},
   "source": [
    "The class labels can be renamed so that it only includes letters from the English alphabet, and this will be done by running the following cell block."
   ]
  },
  {
   "cell_type": "code",
   "execution_count": 8,
   "metadata": {},
   "outputs": [],
   "source": [
    "data['Class'] = data['Class'].str.strip().str.title().replace({'Çerçevelik': 'Cercevelik'})\n",
    "data['Class'] = data['Class'].str.strip().str.title().replace({'Ürgüp Sivrisi': 'Urgup Sivrisi'})\n",
    "#data.info()\n",
    "#data.hist(figsize=(12,12))\n",
    "#plt.show()"
   ]
  },
  {
   "cell_type": "markdown",
   "metadata": {},
   "source": [
    "In continuation, we can check if there are other representations of the Class column by calling the `unique()` function on it. Since there are only two unique values, we do not need to make any changes for this column for now."
   ]
  },
  {
   "cell_type": "code",
   "execution_count": 9,
   "metadata": {},
   "outputs": [
    {
     "data": {
      "text/plain": [
       "array(['Cercevelik', 'Urgup Sivrisi'], dtype=object)"
      ]
     },
     "execution_count": 9,
     "metadata": {},
     "output_type": "execute_result"
    }
   ],
   "source": [
    "data['Class'].unique()"
   ]
  },
  {
   "cell_type": "markdown",
   "metadata": {},
   "source": [
    "Using the `info()` function, we can check any feature with incorrect datatype. If there are inconsistencies with the datatype, it is likely to be assigned an `object` datatype. It should also be noted that for features that we would usually assume to have a `string` datatype, it is possible that they have `object` datatype."
   ]
  },
  {
   "cell_type": "code",
   "execution_count": 10,
   "metadata": {},
   "outputs": [
    {
     "name": "stdout",
     "output_type": "stream",
     "text": [
      "<class 'pandas.core.frame.DataFrame'>\n",
      "RangeIndex: 2500 entries, 0 to 2499\n",
      "Data columns (total 13 columns):\n",
      " #   Column             Non-Null Count  Dtype  \n",
      "---  ------             --------------  -----  \n",
      " 0   Area               2500 non-null   int64  \n",
      " 1   Perimeter          2500 non-null   float64\n",
      " 2   Major_Axis_Length  2500 non-null   float64\n",
      " 3   Minor_Axis_Length  2500 non-null   float64\n",
      " 4   Convex_Area        2500 non-null   int64  \n",
      " 5   Equiv_Diameter     2500 non-null   float64\n",
      " 6   Eccentricity       2500 non-null   float64\n",
      " 7   Solidity           2500 non-null   float64\n",
      " 8   Extent             2500 non-null   float64\n",
      " 9   Roundness          2500 non-null   float64\n",
      " 10  Aspect_Ratio       2500 non-null   float64\n",
      " 11  Compactness        2500 non-null   float64\n",
      " 12  Class              2500 non-null   object \n",
      "dtypes: float64(10), int64(2), object(1)\n",
      "memory usage: 254.0+ KB\n"
     ]
    }
   ],
   "source": [
    "data.info()"
   ]
  },
  {
   "cell_type": "markdown",
   "metadata": {},
   "source": [
    "Only one of these features have the `object` datatype assigned to it, which is the `Class` column. However, since we have already queried its unique values in the previous section, we know that there shouldn't be inconsistencies in this column, so we can keep this column as is."
   ]
  },
  {
   "cell_type": "markdown",
   "metadata": {},
   "source": [
    "Next, we need to check if there are any missing values or instances where a default value has been assigned. In a pandas dataframe, these are usually represented as `None` or `NaN`, so we can query for any null values in our dataset. Additionally, we can also check if there are any duplicated instances."
   ]
  },
  {
   "cell_type": "code",
   "execution_count": 11,
   "metadata": {},
   "outputs": [
    {
     "data": {
      "text/plain": [
       "Area                 0\n",
       "Perimeter            0\n",
       "Major_Axis_Length    0\n",
       "Minor_Axis_Length    0\n",
       "Convex_Area          0\n",
       "Equiv_Diameter       0\n",
       "Eccentricity         0\n",
       "Solidity             0\n",
       "Extent               0\n",
       "Roundness            0\n",
       "Aspect_Ratio         0\n",
       "Compactness          0\n",
       "Class                0\n",
       "dtype: int64"
      ]
     },
     "metadata": {},
     "output_type": "display_data"
    },
    {
     "data": {
      "text/plain": [
       "0"
      ]
     },
     "metadata": {},
     "output_type": "display_data"
    }
   ],
   "source": [
    "display(data.isnull().sum())\n",
    "display(data.duplicated().sum())"
   ]
  },
  {
   "cell_type": "markdown",
   "metadata": {},
   "source": [
    "Now that we have finished checking the data, we can now split the data into features (`X`) and the target label (`y`)."
   ]
  },
  {
   "cell_type": "code",
   "execution_count": 12,
   "metadata": {},
   "outputs": [],
   "source": [
    "#split features and label\n",
    "X = data.drop(columns=['Class']).values\n",
    "y = data['Class'].values"
   ]
  },
  {
   "cell_type": "markdown",
   "metadata": {},
   "source": [
    "Some models may require that our features are normalized, so we'll define a normalized X variable using the `MinMaxScaler` library's `fit_transform()` function."
   ]
  },
  {
   "cell_type": "code",
   "execution_count": 13,
   "metadata": {},
   "outputs": [],
   "source": [
    "#normalize\n",
    "scaler = MinMaxScaler()\n",
    "X_norm = scaler.fit_transform(X)"
   ]
  },
  {
   "cell_type": "markdown",
   "metadata": {},
   "source": [
    "Our class labels can be represented numerically. To do this, we use the `LabelEncoder` library's `fit_transform()` function on our target label `y` to represent **Cercevelik** as class `0` and **Urgup Sivrisi** as class `1`."
   ]
  },
  {
   "cell_type": "code",
   "execution_count": 14,
   "metadata": {},
   "outputs": [
    {
     "data": {
      "text/plain": [
       "array([0, 1])"
      ]
     },
     "execution_count": 14,
     "metadata": {},
     "output_type": "execute_result"
    }
   ],
   "source": [
    "#Encode Cercevelik as 0, Urgup Sivrisi as 1\n",
    "label_encoder = LabelEncoder()\n",
    "y = label_encoder.fit_transform(y)\n",
    "\n",
    "#Check if y is properly transformed\n",
    "np.unique(y)"
   ]
  },
  {
   "cell_type": "markdown",
   "metadata": {},
   "source": [
    "Similarly, for the purposes of our exploratory data analysis, we will also transform the `Class` column in our dataframe so that **Cercevelik** is represented as `0` and **Urgup Sivrisi** is represented as class `1`. We will be doing this in a temporary dataframe so as not to affect the original dataframe with the named labels."
   ]
  },
  {
   "cell_type": "code",
   "execution_count": 15,
   "metadata": {},
   "outputs": [
    {
     "data": {
      "text/plain": [
       "array(['Cercevelik', 'Urgup Sivrisi'], dtype=object)"
      ]
     },
     "execution_count": 15,
     "metadata": {},
     "output_type": "execute_result"
    }
   ],
   "source": [
    "temp_df = data\n",
    "\n",
    "# temp_df['Class'] = label_encoder.fit_transform(temp_df['Class'])\n",
    "\n",
    "temp_df['Class'].unique()"
   ]
  },
  {
   "cell_type": "markdown",
   "metadata": {},
   "source": [
    "## **5** | **Exploratory Data Analysis**"
   ]
  },
  {
   "cell_type": "markdown",
   "metadata": {},
   "source": [
    "There are some things that we can take into consideration when trying to classify a pumpkin seed. As this is a dataset that contains morphological features of the two specific species of pumpkin seeds, we can explore the features that represent the size and the shape of the seed. Some of the EDA questions that we have come up with are listed in the following:"
   ]
  },
  {
   "cell_type": "markdown",
   "metadata": {},
   "source": [
    "*General:*\n",
    "- How much of the data are Cercevelik pumpkin seeds and Urgup Sivrisi pumpkin seeds?"
   ]
  },
  {
   "cell_type": "markdown",
   "metadata": {},
   "source": [
    "*Size:*\n",
    "- What are the features of the seed that has the smallest perimeter? The largest?\n",
    "    - What is the average perimeter of each of the pumpkin seeds?\n",
    "- What are the features of the most narrow seed of each pumpkin seed? The widest?\n",
    "    - What is the average width of each of the pumpkin seeds?\n",
    "- What are the features of the shortest seed of each pumpkin seed? The longest?\n",
    "    - What is the average length of each of the pumpkin seeds?"
   ]
  },
  {
   "cell_type": "markdown",
   "metadata": {},
   "source": [
    "*Shape:*\n",
    "- What are the features of the most circular seed for each of the pumpkin seed species? The most elongated?\n",
    "    - What is the average eccentricity of each of the pumpkin seed species?\n",
    "- What are the features of the least round seed for each of the pumpkin seed species? The most round?\n",
    "    - What is the average roundness of each of the pumpkin seed species?\n",
    "- <span style=\"color:red\">Convex area</span>"
   ]
  },
  {
   "cell_type": "markdown",
   "metadata": {},
   "source": [
    "### How much of the data are Cercevelik pumpkin seeds and Urgup Sivrisi pumpkin seeds?"
   ]
  },
  {
   "cell_type": "markdown",
   "metadata": {},
   "source": [
    "To get the count of each of the pumpkin seed species in the dataset, we can group our dataset by `Class` and call the `size()` function on it."
   ]
  },
  {
   "cell_type": "code",
   "execution_count": 16,
   "metadata": {},
   "outputs": [
    {
     "data": {
      "text/plain": [
       "Class\n",
       "Cercevelik       1300\n",
       "Urgup Sivrisi    1200\n",
       "dtype: int64"
      ]
     },
     "execution_count": 16,
     "metadata": {},
     "output_type": "execute_result"
    }
   ],
   "source": [
    "# Count of each pumpkin seed\n",
    "seed_counts = temp_df.groupby('Class').size()\n",
    "\n",
    "seed_counts"
   ]
  },
  {
   "cell_type": "markdown",
   "metadata": {},
   "source": [
    "As we can see, there are 1300 Cercevelik pumpkin seeds and 1200 Urgup Sivrisi pumpkin seeds in the dataset. Since we have grouped our dataset by `Class`, we can assign these groups to their own variables so that we can further explore our data. We would also need to reset the index so that both of the new dataframes start at index `0`."
   ]
  },
  {
   "cell_type": "code",
   "execution_count": 17,
   "metadata": {},
   "outputs": [],
   "source": [
    "# Group according to class (Cercevelik or Urgup Sivrisi)\n",
    "groups = temp_df.groupby('Class')\n",
    "\n",
    "# Assign to their own variables to check in further EDA questions\n",
    "cercevelik_seeds, urgup_seeds = groups.get_group(\"Cercevelik\"), groups.get_group(\"Urgup Sivrisi\")"
   ]
  },
  {
   "cell_type": "code",
   "execution_count": 18,
   "metadata": {},
   "outputs": [],
   "source": [
    "# Reset index for Cercevelik\n",
    "cercevelik_seeds = cercevelik_seeds.reset_index()\n",
    "\n",
    "# Drop index column\n",
    "cercevelik_seeds.drop(columns=\"index\", axis=1, inplace=True)"
   ]
  },
  {
   "cell_type": "code",
   "execution_count": 19,
   "metadata": {},
   "outputs": [],
   "source": [
    "# Reset index for Urgup Sivrisi\n",
    "urgup_seeds = urgup_seeds.reset_index()\n",
    "\n",
    "# Drop index column\n",
    "urgup_seeds.drop(columns=\"index\", axis=1, inplace=True)"
   ]
  },
  {
   "cell_type": "markdown",
   "metadata": {},
   "source": [
    "We can check the new dataframes in the following cells."
   ]
  },
  {
   "cell_type": "code",
   "execution_count": 20,
   "metadata": {},
   "outputs": [
    {
     "data": {
      "text/html": [
       "<div>\n",
       "<style scoped>\n",
       "    .dataframe tbody tr th:only-of-type {\n",
       "        vertical-align: middle;\n",
       "    }\n",
       "\n",
       "    .dataframe tbody tr th {\n",
       "        vertical-align: top;\n",
       "    }\n",
       "\n",
       "    .dataframe thead th {\n",
       "        text-align: right;\n",
       "    }\n",
       "</style>\n",
       "<table border=\"1\" class=\"dataframe\">\n",
       "  <thead>\n",
       "    <tr style=\"text-align: right;\">\n",
       "      <th></th>\n",
       "      <th>Area</th>\n",
       "      <th>Perimeter</th>\n",
       "      <th>Major_Axis_Length</th>\n",
       "      <th>Minor_Axis_Length</th>\n",
       "      <th>Convex_Area</th>\n",
       "      <th>Equiv_Diameter</th>\n",
       "      <th>Eccentricity</th>\n",
       "      <th>Solidity</th>\n",
       "      <th>Extent</th>\n",
       "      <th>Roundness</th>\n",
       "      <th>Aspect_Ratio</th>\n",
       "      <th>Compactness</th>\n",
       "      <th>Class</th>\n",
       "    </tr>\n",
       "  </thead>\n",
       "  <tbody>\n",
       "    <tr>\n",
       "      <th>0</th>\n",
       "      <td>56276</td>\n",
       "      <td>888.242</td>\n",
       "      <td>326.1485</td>\n",
       "      <td>220.2388</td>\n",
       "      <td>56831</td>\n",
       "      <td>267.6805</td>\n",
       "      <td>0.7376</td>\n",
       "      <td>0.9902</td>\n",
       "      <td>0.7453</td>\n",
       "      <td>0.8963</td>\n",
       "      <td>1.4809</td>\n",
       "      <td>0.8207</td>\n",
       "      <td>Cercevelik</td>\n",
       "    </tr>\n",
       "    <tr>\n",
       "      <th>1</th>\n",
       "      <td>76631</td>\n",
       "      <td>1068.146</td>\n",
       "      <td>417.1932</td>\n",
       "      <td>234.2289</td>\n",
       "      <td>77280</td>\n",
       "      <td>312.3614</td>\n",
       "      <td>0.8275</td>\n",
       "      <td>0.9916</td>\n",
       "      <td>0.7151</td>\n",
       "      <td>0.8440</td>\n",
       "      <td>1.7811</td>\n",
       "      <td>0.7487</td>\n",
       "      <td>Cercevelik</td>\n",
       "    </tr>\n",
       "    <tr>\n",
       "      <th>2</th>\n",
       "      <td>71623</td>\n",
       "      <td>1082.987</td>\n",
       "      <td>435.8328</td>\n",
       "      <td>211.0457</td>\n",
       "      <td>72663</td>\n",
       "      <td>301.9822</td>\n",
       "      <td>0.8749</td>\n",
       "      <td>0.9857</td>\n",
       "      <td>0.7400</td>\n",
       "      <td>0.7674</td>\n",
       "      <td>2.0651</td>\n",
       "      <td>0.6929</td>\n",
       "      <td>Cercevelik</td>\n",
       "    </tr>\n",
       "    <tr>\n",
       "      <th>3</th>\n",
       "      <td>66458</td>\n",
       "      <td>992.051</td>\n",
       "      <td>381.5638</td>\n",
       "      <td>222.5322</td>\n",
       "      <td>67118</td>\n",
       "      <td>290.8899</td>\n",
       "      <td>0.8123</td>\n",
       "      <td>0.9902</td>\n",
       "      <td>0.7396</td>\n",
       "      <td>0.8486</td>\n",
       "      <td>1.7146</td>\n",
       "      <td>0.7624</td>\n",
       "      <td>Cercevelik</td>\n",
       "    </tr>\n",
       "    <tr>\n",
       "      <th>4</th>\n",
       "      <td>66107</td>\n",
       "      <td>998.146</td>\n",
       "      <td>383.8883</td>\n",
       "      <td>220.4545</td>\n",
       "      <td>67117</td>\n",
       "      <td>290.1207</td>\n",
       "      <td>0.8187</td>\n",
       "      <td>0.9850</td>\n",
       "      <td>0.6752</td>\n",
       "      <td>0.8338</td>\n",
       "      <td>1.7413</td>\n",
       "      <td>0.7557</td>\n",
       "      <td>Cercevelik</td>\n",
       "    </tr>\n",
       "    <tr>\n",
       "      <th>...</th>\n",
       "      <td>...</td>\n",
       "      <td>...</td>\n",
       "      <td>...</td>\n",
       "      <td>...</td>\n",
       "      <td>...</td>\n",
       "      <td>...</td>\n",
       "      <td>...</td>\n",
       "      <td>...</td>\n",
       "      <td>...</td>\n",
       "      <td>...</td>\n",
       "      <td>...</td>\n",
       "      <td>...</td>\n",
       "      <td>...</td>\n",
       "    </tr>\n",
       "    <tr>\n",
       "      <th>1295</th>\n",
       "      <td>64276</td>\n",
       "      <td>1002.303</td>\n",
       "      <td>366.1481</td>\n",
       "      <td>226.6391</td>\n",
       "      <td>65696</td>\n",
       "      <td>286.0747</td>\n",
       "      <td>0.7854</td>\n",
       "      <td>0.9784</td>\n",
       "      <td>0.7404</td>\n",
       "      <td>0.8040</td>\n",
       "      <td>1.6156</td>\n",
       "      <td>0.7813</td>\n",
       "      <td>Cercevelik</td>\n",
       "    </tr>\n",
       "    <tr>\n",
       "      <th>1296</th>\n",
       "      <td>77715</td>\n",
       "      <td>1059.272</td>\n",
       "      <td>403.2743</td>\n",
       "      <td>246.8762</td>\n",
       "      <td>78525</td>\n",
       "      <td>314.5629</td>\n",
       "      <td>0.7907</td>\n",
       "      <td>0.9897</td>\n",
       "      <td>0.7397</td>\n",
       "      <td>0.8704</td>\n",
       "      <td>1.6335</td>\n",
       "      <td>0.7800</td>\n",
       "      <td>Cercevelik</td>\n",
       "    </tr>\n",
       "    <tr>\n",
       "      <th>1297</th>\n",
       "      <td>69528</td>\n",
       "      <td>1049.346</td>\n",
       "      <td>414.5252</td>\n",
       "      <td>215.1771</td>\n",
       "      <td>70426</td>\n",
       "      <td>297.5329</td>\n",
       "      <td>0.8547</td>\n",
       "      <td>0.9872</td>\n",
       "      <td>0.6144</td>\n",
       "      <td>0.7935</td>\n",
       "      <td>1.9264</td>\n",
       "      <td>0.7178</td>\n",
       "      <td>Cercevelik</td>\n",
       "    </tr>\n",
       "    <tr>\n",
       "      <th>1298</th>\n",
       "      <td>59466</td>\n",
       "      <td>912.152</td>\n",
       "      <td>340.6951</td>\n",
       "      <td>222.9567</td>\n",
       "      <td>59949</td>\n",
       "      <td>275.1626</td>\n",
       "      <td>0.7561</td>\n",
       "      <td>0.9919</td>\n",
       "      <td>0.7382</td>\n",
       "      <td>0.8981</td>\n",
       "      <td>1.5281</td>\n",
       "      <td>0.8077</td>\n",
       "      <td>Cercevelik</td>\n",
       "    </tr>\n",
       "    <tr>\n",
       "      <th>1299</th>\n",
       "      <td>78502</td>\n",
       "      <td>1079.334</td>\n",
       "      <td>421.6898</td>\n",
       "      <td>237.9784</td>\n",
       "      <td>79204</td>\n",
       "      <td>316.1516</td>\n",
       "      <td>0.8255</td>\n",
       "      <td>0.9911</td>\n",
       "      <td>0.7335</td>\n",
       "      <td>0.8468</td>\n",
       "      <td>1.7720</td>\n",
       "      <td>0.7497</td>\n",
       "      <td>Cercevelik</td>\n",
       "    </tr>\n",
       "  </tbody>\n",
       "</table>\n",
       "<p>1300 rows × 13 columns</p>\n",
       "</div>"
      ],
      "text/plain": [
       "       Area  Perimeter  Major_Axis_Length  Minor_Axis_Length  Convex_Area  \\\n",
       "0     56276    888.242           326.1485           220.2388        56831   \n",
       "1     76631   1068.146           417.1932           234.2289        77280   \n",
       "2     71623   1082.987           435.8328           211.0457        72663   \n",
       "3     66458    992.051           381.5638           222.5322        67118   \n",
       "4     66107    998.146           383.8883           220.4545        67117   \n",
       "...     ...        ...                ...                ...          ...   \n",
       "1295  64276   1002.303           366.1481           226.6391        65696   \n",
       "1296  77715   1059.272           403.2743           246.8762        78525   \n",
       "1297  69528   1049.346           414.5252           215.1771        70426   \n",
       "1298  59466    912.152           340.6951           222.9567        59949   \n",
       "1299  78502   1079.334           421.6898           237.9784        79204   \n",
       "\n",
       "      Equiv_Diameter  Eccentricity  Solidity  Extent  Roundness  Aspect_Ratio  \\\n",
       "0           267.6805        0.7376    0.9902  0.7453     0.8963        1.4809   \n",
       "1           312.3614        0.8275    0.9916  0.7151     0.8440        1.7811   \n",
       "2           301.9822        0.8749    0.9857  0.7400     0.7674        2.0651   \n",
       "3           290.8899        0.8123    0.9902  0.7396     0.8486        1.7146   \n",
       "4           290.1207        0.8187    0.9850  0.6752     0.8338        1.7413   \n",
       "...              ...           ...       ...     ...        ...           ...   \n",
       "1295        286.0747        0.7854    0.9784  0.7404     0.8040        1.6156   \n",
       "1296        314.5629        0.7907    0.9897  0.7397     0.8704        1.6335   \n",
       "1297        297.5329        0.8547    0.9872  0.6144     0.7935        1.9264   \n",
       "1298        275.1626        0.7561    0.9919  0.7382     0.8981        1.5281   \n",
       "1299        316.1516        0.8255    0.9911  0.7335     0.8468        1.7720   \n",
       "\n",
       "      Compactness       Class  \n",
       "0          0.8207  Cercevelik  \n",
       "1          0.7487  Cercevelik  \n",
       "2          0.6929  Cercevelik  \n",
       "3          0.7624  Cercevelik  \n",
       "4          0.7557  Cercevelik  \n",
       "...           ...         ...  \n",
       "1295       0.7813  Cercevelik  \n",
       "1296       0.7800  Cercevelik  \n",
       "1297       0.7178  Cercevelik  \n",
       "1298       0.8077  Cercevelik  \n",
       "1299       0.7497  Cercevelik  \n",
       "\n",
       "[1300 rows x 13 columns]"
      ]
     },
     "execution_count": 20,
     "metadata": {},
     "output_type": "execute_result"
    }
   ],
   "source": [
    "cercevelik_seeds"
   ]
  },
  {
   "cell_type": "code",
   "execution_count": 21,
   "metadata": {},
   "outputs": [
    {
     "data": {
      "text/html": [
       "<div>\n",
       "<style scoped>\n",
       "    .dataframe tbody tr th:only-of-type {\n",
       "        vertical-align: middle;\n",
       "    }\n",
       "\n",
       "    .dataframe tbody tr th {\n",
       "        vertical-align: top;\n",
       "    }\n",
       "\n",
       "    .dataframe thead th {\n",
       "        text-align: right;\n",
       "    }\n",
       "</style>\n",
       "<table border=\"1\" class=\"dataframe\">\n",
       "  <thead>\n",
       "    <tr style=\"text-align: right;\">\n",
       "      <th></th>\n",
       "      <th>Area</th>\n",
       "      <th>Perimeter</th>\n",
       "      <th>Major_Axis_Length</th>\n",
       "      <th>Minor_Axis_Length</th>\n",
       "      <th>Convex_Area</th>\n",
       "      <th>Equiv_Diameter</th>\n",
       "      <th>Eccentricity</th>\n",
       "      <th>Solidity</th>\n",
       "      <th>Extent</th>\n",
       "      <th>Roundness</th>\n",
       "      <th>Aspect_Ratio</th>\n",
       "      <th>Compactness</th>\n",
       "      <th>Class</th>\n",
       "    </tr>\n",
       "  </thead>\n",
       "  <tbody>\n",
       "    <tr>\n",
       "      <th>0</th>\n",
       "      <td>76910</td>\n",
       "      <td>1146.880</td>\n",
       "      <td>483.5875</td>\n",
       "      <td>203.5562</td>\n",
       "      <td>77745</td>\n",
       "      <td>312.9295</td>\n",
       "      <td>0.9071</td>\n",
       "      <td>0.9893</td>\n",
       "      <td>0.7629</td>\n",
       "      <td>0.7348</td>\n",
       "      <td>2.3757</td>\n",
       "      <td>0.6471</td>\n",
       "      <td>Urgup Sivrisi</td>\n",
       "    </tr>\n",
       "    <tr>\n",
       "      <th>1</th>\n",
       "      <td>118751</td>\n",
       "      <td>1468.224</td>\n",
       "      <td>629.7230</td>\n",
       "      <td>240.9782</td>\n",
       "      <td>120036</td>\n",
       "      <td>388.8425</td>\n",
       "      <td>0.9239</td>\n",
       "      <td>0.9893</td>\n",
       "      <td>0.7440</td>\n",
       "      <td>0.6922</td>\n",
       "      <td>2.6132</td>\n",
       "      <td>0.6175</td>\n",
       "      <td>Urgup Sivrisi</td>\n",
       "    </tr>\n",
       "    <tr>\n",
       "      <th>2</th>\n",
       "      <td>86565</td>\n",
       "      <td>1215.697</td>\n",
       "      <td>508.1608</td>\n",
       "      <td>218.3103</td>\n",
       "      <td>87292</td>\n",
       "      <td>331.9909</td>\n",
       "      <td>0.9030</td>\n",
       "      <td>0.9917</td>\n",
       "      <td>0.7189</td>\n",
       "      <td>0.7360</td>\n",
       "      <td>2.3277</td>\n",
       "      <td>0.6533</td>\n",
       "      <td>Urgup Sivrisi</td>\n",
       "    </tr>\n",
       "    <tr>\n",
       "      <th>3</th>\n",
       "      <td>72106</td>\n",
       "      <td>1131.138</td>\n",
       "      <td>484.9191</td>\n",
       "      <td>193.0989</td>\n",
       "      <td>72800</td>\n",
       "      <td>302.9987</td>\n",
       "      <td>0.9173</td>\n",
       "      <td>0.9905</td>\n",
       "      <td>0.6187</td>\n",
       "      <td>0.7082</td>\n",
       "      <td>2.5112</td>\n",
       "      <td>0.6248</td>\n",
       "      <td>Urgup Sivrisi</td>\n",
       "    </tr>\n",
       "    <tr>\n",
       "      <th>4</th>\n",
       "      <td>86686</td>\n",
       "      <td>1208.535</td>\n",
       "      <td>509.7207</td>\n",
       "      <td>216.9252</td>\n",
       "      <td>87352</td>\n",
       "      <td>332.2229</td>\n",
       "      <td>0.9049</td>\n",
       "      <td>0.9924</td>\n",
       "      <td>0.7411</td>\n",
       "      <td>0.7458</td>\n",
       "      <td>2.3498</td>\n",
       "      <td>0.6518</td>\n",
       "      <td>Urgup Sivrisi</td>\n",
       "    </tr>\n",
       "    <tr>\n",
       "      <th>...</th>\n",
       "      <td>...</td>\n",
       "      <td>...</td>\n",
       "      <td>...</td>\n",
       "      <td>...</td>\n",
       "      <td>...</td>\n",
       "      <td>...</td>\n",
       "      <td>...</td>\n",
       "      <td>...</td>\n",
       "      <td>...</td>\n",
       "      <td>...</td>\n",
       "      <td>...</td>\n",
       "      <td>...</td>\n",
       "      <td>...</td>\n",
       "    </tr>\n",
       "    <tr>\n",
       "      <th>1195</th>\n",
       "      <td>79637</td>\n",
       "      <td>1224.710</td>\n",
       "      <td>533.1513</td>\n",
       "      <td>190.4367</td>\n",
       "      <td>80381</td>\n",
       "      <td>318.4289</td>\n",
       "      <td>0.9340</td>\n",
       "      <td>0.9907</td>\n",
       "      <td>0.4888</td>\n",
       "      <td>0.6672</td>\n",
       "      <td>2.7996</td>\n",
       "      <td>0.5973</td>\n",
       "      <td>Urgup Sivrisi</td>\n",
       "    </tr>\n",
       "    <tr>\n",
       "      <th>1196</th>\n",
       "      <td>69647</td>\n",
       "      <td>1084.318</td>\n",
       "      <td>462.9416</td>\n",
       "      <td>191.8210</td>\n",
       "      <td>70216</td>\n",
       "      <td>297.7874</td>\n",
       "      <td>0.9101</td>\n",
       "      <td>0.9919</td>\n",
       "      <td>0.6002</td>\n",
       "      <td>0.7444</td>\n",
       "      <td>2.4134</td>\n",
       "      <td>0.6433</td>\n",
       "      <td>Urgup Sivrisi</td>\n",
       "    </tr>\n",
       "    <tr>\n",
       "      <th>1197</th>\n",
       "      <td>87994</td>\n",
       "      <td>1210.314</td>\n",
       "      <td>507.2200</td>\n",
       "      <td>222.1872</td>\n",
       "      <td>88702</td>\n",
       "      <td>334.7199</td>\n",
       "      <td>0.8990</td>\n",
       "      <td>0.9920</td>\n",
       "      <td>0.7643</td>\n",
       "      <td>0.7549</td>\n",
       "      <td>2.2828</td>\n",
       "      <td>0.6599</td>\n",
       "      <td>Urgup Sivrisi</td>\n",
       "    </tr>\n",
       "    <tr>\n",
       "      <th>1198</th>\n",
       "      <td>80011</td>\n",
       "      <td>1182.947</td>\n",
       "      <td>501.9065</td>\n",
       "      <td>204.7531</td>\n",
       "      <td>80902</td>\n",
       "      <td>319.1758</td>\n",
       "      <td>0.9130</td>\n",
       "      <td>0.9890</td>\n",
       "      <td>0.7374</td>\n",
       "      <td>0.7185</td>\n",
       "      <td>2.4513</td>\n",
       "      <td>0.6359</td>\n",
       "      <td>Urgup Sivrisi</td>\n",
       "    </tr>\n",
       "    <tr>\n",
       "      <th>1199</th>\n",
       "      <td>84934</td>\n",
       "      <td>1159.933</td>\n",
       "      <td>462.8951</td>\n",
       "      <td>234.5597</td>\n",
       "      <td>85781</td>\n",
       "      <td>328.8485</td>\n",
       "      <td>0.8621</td>\n",
       "      <td>0.9901</td>\n",
       "      <td>0.7360</td>\n",
       "      <td>0.7933</td>\n",
       "      <td>1.9735</td>\n",
       "      <td>0.7104</td>\n",
       "      <td>Urgup Sivrisi</td>\n",
       "    </tr>\n",
       "  </tbody>\n",
       "</table>\n",
       "<p>1200 rows × 13 columns</p>\n",
       "</div>"
      ],
      "text/plain": [
       "        Area  Perimeter  Major_Axis_Length  Minor_Axis_Length  Convex_Area  \\\n",
       "0      76910   1146.880           483.5875           203.5562        77745   \n",
       "1     118751   1468.224           629.7230           240.9782       120036   \n",
       "2      86565   1215.697           508.1608           218.3103        87292   \n",
       "3      72106   1131.138           484.9191           193.0989        72800   \n",
       "4      86686   1208.535           509.7207           216.9252        87352   \n",
       "...      ...        ...                ...                ...          ...   \n",
       "1195   79637   1224.710           533.1513           190.4367        80381   \n",
       "1196   69647   1084.318           462.9416           191.8210        70216   \n",
       "1197   87994   1210.314           507.2200           222.1872        88702   \n",
       "1198   80011   1182.947           501.9065           204.7531        80902   \n",
       "1199   84934   1159.933           462.8951           234.5597        85781   \n",
       "\n",
       "      Equiv_Diameter  Eccentricity  Solidity  Extent  Roundness  Aspect_Ratio  \\\n",
       "0           312.9295        0.9071    0.9893  0.7629     0.7348        2.3757   \n",
       "1           388.8425        0.9239    0.9893  0.7440     0.6922        2.6132   \n",
       "2           331.9909        0.9030    0.9917  0.7189     0.7360        2.3277   \n",
       "3           302.9987        0.9173    0.9905  0.6187     0.7082        2.5112   \n",
       "4           332.2229        0.9049    0.9924  0.7411     0.7458        2.3498   \n",
       "...              ...           ...       ...     ...        ...           ...   \n",
       "1195        318.4289        0.9340    0.9907  0.4888     0.6672        2.7996   \n",
       "1196        297.7874        0.9101    0.9919  0.6002     0.7444        2.4134   \n",
       "1197        334.7199        0.8990    0.9920  0.7643     0.7549        2.2828   \n",
       "1198        319.1758        0.9130    0.9890  0.7374     0.7185        2.4513   \n",
       "1199        328.8485        0.8621    0.9901  0.7360     0.7933        1.9735   \n",
       "\n",
       "      Compactness          Class  \n",
       "0          0.6471  Urgup Sivrisi  \n",
       "1          0.6175  Urgup Sivrisi  \n",
       "2          0.6533  Urgup Sivrisi  \n",
       "3          0.6248  Urgup Sivrisi  \n",
       "4          0.6518  Urgup Sivrisi  \n",
       "...           ...            ...  \n",
       "1195       0.5973  Urgup Sivrisi  \n",
       "1196       0.6433  Urgup Sivrisi  \n",
       "1197       0.6599  Urgup Sivrisi  \n",
       "1198       0.6359  Urgup Sivrisi  \n",
       "1199       0.7104  Urgup Sivrisi  \n",
       "\n",
       "[1200 rows x 13 columns]"
      ]
     },
     "execution_count": 21,
     "metadata": {},
     "output_type": "execute_result"
    }
   ],
   "source": [
    "urgup_seeds"
   ]
  },
  {
   "cell_type": "markdown",
   "metadata": {},
   "source": [
    "The following plot shows how many seeds there are in each of the species in graph form, and compares them side by side."
   ]
  },
  {
   "cell_type": "code",
   "execution_count": 22,
   "metadata": {},
   "outputs": [
    {
     "data": {
      "text/plain": [
       "<seaborn.axisgrid.FacetGrid at 0x1eecfcd98d0>"
      ]
     },
     "execution_count": 22,
     "metadata": {},
     "output_type": "execute_result"
    },
    {
     "data": {
      "image/png": "[encoded data removed]",
      "text/plain": [
       "<Figure size 500x500 with 1 Axes>"
      ]
     },
     "metadata": {},
     "output_type": "display_data"
    }
   ],
   "source": [
    "g = sns.catplot(data=temp_df,x='Class',kind='count')\n",
    "g.set_axis_labels(\"\", \"Number of seeds\")\n",
    "g.set_xticklabels([\"Cercevelik\", \"Urgup Sivrisi\"])"
   ]
  },
  {
   "cell_type": "markdown",
   "metadata": {},
   "source": [
    "The following few questions are questions created for probing on the **Size** of the seeds. The features that we think are relevant to learning about the difference in size between the two pumpkin seed species are `Perimeter`, `Minor Axis Length`, and `Major Axis Length`."
   ]
  },
  {
   "cell_type": "markdown",
   "metadata": {},
   "source": [
    "### What are the features of the seed that has the smallest perimeter?"
   ]
  },
  {
   "cell_type": "code",
   "execution_count": 23,
   "metadata": {},
   "outputs": [
    {
     "name": "stdout",
     "output_type": "stream",
     "text": [
      "Cercevelik seed with smallest perimeter = 888.242\n"
     ]
    },
    {
     "data": {
      "text/html": [
       "<div>\n",
       "<style scoped>\n",
       "    .dataframe tbody tr th:only-of-type {\n",
       "        vertical-align: middle;\n",
       "    }\n",
       "\n",
       "    .dataframe tbody tr th {\n",
       "        vertical-align: top;\n",
       "    }\n",
       "\n",
       "    .dataframe thead th {\n",
       "        text-align: right;\n",
       "    }\n",
       "</style>\n",
       "<table border=\"1\" class=\"dataframe\">\n",
       "  <thead>\n",
       "    <tr style=\"text-align: right;\">\n",
       "      <th></th>\n",
       "      <th>Area</th>\n",
       "      <th>Perimeter</th>\n",
       "      <th>Major_Axis_Length</th>\n",
       "      <th>Minor_Axis_Length</th>\n",
       "      <th>Convex_Area</th>\n",
       "      <th>Equiv_Diameter</th>\n",
       "      <th>Eccentricity</th>\n",
       "      <th>Solidity</th>\n",
       "      <th>Extent</th>\n",
       "      <th>Roundness</th>\n",
       "      <th>Aspect_Ratio</th>\n",
       "      <th>Compactness</th>\n",
       "      <th>Class</th>\n",
       "    </tr>\n",
       "  </thead>\n",
       "  <tbody>\n",
       "    <tr>\n",
       "      <th>0</th>\n",
       "      <td>56276</td>\n",
       "      <td>888.242</td>\n",
       "      <td>326.1485</td>\n",
       "      <td>220.2388</td>\n",
       "      <td>56831</td>\n",
       "      <td>267.6805</td>\n",
       "      <td>0.7376</td>\n",
       "      <td>0.9902</td>\n",
       "      <td>0.7453</td>\n",
       "      <td>0.8963</td>\n",
       "      <td>1.4809</td>\n",
       "      <td>0.8207</td>\n",
       "      <td>Cercevelik</td>\n",
       "    </tr>\n",
       "  </tbody>\n",
       "</table>\n",
       "</div>"
      ],
      "text/plain": [
       "    Area  Perimeter  Major_Axis_Length  Minor_Axis_Length  Convex_Area  \\\n",
       "0  56276    888.242           326.1485           220.2388        56831   \n",
       "\n",
       "   Equiv_Diameter  Eccentricity  Solidity  Extent  Roundness  Aspect_Ratio  \\\n",
       "0        267.6805        0.7376    0.9902  0.7453     0.8963        1.4809   \n",
       "\n",
       "   Compactness       Class  \n",
       "0       0.8207  Cercevelik  "
      ]
     },
     "execution_count": 23,
     "metadata": {},
     "output_type": "execute_result"
    }
   ],
   "source": [
    "# Cercevelik min perimeter\n",
    "cercevelik_perim_min = cercevelik_seeds['Perimeter'].min()\n",
    "# Index\n",
    "cercevelik_perim_min_idx = cercevelik_seeds['Perimeter'].idxmin()\n",
    "\n",
    "print(\"Cercevelik seed with smallest perimeter =\", cercevelik_perim_min) # Value\n",
    "cercevelik_seeds.iloc[[cercevelik_perim_min_idx]] # Instance"
   ]
  },
  {
   "cell_type": "code",
   "execution_count": 24,
   "metadata": {},
   "outputs": [
    {
     "name": "stdout",
     "output_type": "stream",
     "text": [
      "Urgup Sivrisi seed with smallest perimeter = 868.485\n"
     ]
    },
    {
     "data": {
      "text/html": [
       "<div>\n",
       "<style scoped>\n",
       "    .dataframe tbody tr th:only-of-type {\n",
       "        vertical-align: middle;\n",
       "    }\n",
       "\n",
       "    .dataframe tbody tr th {\n",
       "        vertical-align: top;\n",
       "    }\n",
       "\n",
       "    .dataframe thead th {\n",
       "        text-align: right;\n",
       "    }\n",
       "</style>\n",
       "<table border=\"1\" class=\"dataframe\">\n",
       "  <thead>\n",
       "    <tr style=\"text-align: right;\">\n",
       "      <th></th>\n",
       "      <th>Area</th>\n",
       "      <th>Perimeter</th>\n",
       "      <th>Major_Axis_Length</th>\n",
       "      <th>Minor_Axis_Length</th>\n",
       "      <th>Convex_Area</th>\n",
       "      <th>Equiv_Diameter</th>\n",
       "      <th>Eccentricity</th>\n",
       "      <th>Solidity</th>\n",
       "      <th>Extent</th>\n",
       "      <th>Roundness</th>\n",
       "      <th>Aspect_Ratio</th>\n",
       "      <th>Compactness</th>\n",
       "      <th>Class</th>\n",
       "    </tr>\n",
       "  </thead>\n",
       "  <tbody>\n",
       "    <tr>\n",
       "      <th>521</th>\n",
       "      <td>47939</td>\n",
       "      <td>868.485</td>\n",
       "      <td>359.103</td>\n",
       "      <td>170.1768</td>\n",
       "      <td>48366</td>\n",
       "      <td>247.0584</td>\n",
       "      <td>0.8806</td>\n",
       "      <td>0.9912</td>\n",
       "      <td>0.7378</td>\n",
       "      <td>0.7987</td>\n",
       "      <td>2.1102</td>\n",
       "      <td>0.688</td>\n",
       "      <td>Urgup Sivrisi</td>\n",
       "    </tr>\n",
       "  </tbody>\n",
       "</table>\n",
       "</div>"
      ],
      "text/plain": [
       "      Area  Perimeter  Major_Axis_Length  Minor_Axis_Length  Convex_Area  \\\n",
       "521  47939    868.485            359.103           170.1768        48366   \n",
       "\n",
       "     Equiv_Diameter  Eccentricity  Solidity  Extent  Roundness  Aspect_Ratio  \\\n",
       "521        247.0584        0.8806    0.9912  0.7378     0.7987        2.1102   \n",
       "\n",
       "     Compactness          Class  \n",
       "521        0.688  Urgup Sivrisi  "
      ]
     },
     "execution_count": 24,
     "metadata": {},
     "output_type": "execute_result"
    }
   ],
   "source": [
    "# Urgup sivrisi min perimeter\n",
    "urgup_perim_min = urgup_seeds['Perimeter'].min()\n",
    "# Index\n",
    "urgup_perim_min_idx = urgup_seeds['Perimeter'].idxmin()\n",
    "\n",
    "print(\"Urgup Sivrisi seed with smallest perimeter =\", urgup_perim_min) # Value\n",
    "urgup_seeds.iloc[[urgup_perim_min_idx]] # Instance"
   ]
  },
  {
   "cell_type": "markdown",
   "metadata": {},
   "source": [
    "### The largest?"
   ]
  },
  {
   "cell_type": "code",
   "execution_count": 25,
   "metadata": {},
   "outputs": [
    {
     "name": "stdout",
     "output_type": "stream",
     "text": [
      "Cercevelik seed with largest perimeter = 1416.303\n"
     ]
    },
    {
     "data": {
      "text/html": [
       "<div>\n",
       "<style scoped>\n",
       "    .dataframe tbody tr th:only-of-type {\n",
       "        vertical-align: middle;\n",
       "    }\n",
       "\n",
       "    .dataframe tbody tr th {\n",
       "        vertical-align: top;\n",
       "    }\n",
       "\n",
       "    .dataframe thead th {\n",
       "        text-align: right;\n",
       "    }\n",
       "</style>\n",
       "<table border=\"1\" class=\"dataframe\">\n",
       "  <thead>\n",
       "    <tr style=\"text-align: right;\">\n",
       "      <th></th>\n",
       "      <th>Area</th>\n",
       "      <th>Perimeter</th>\n",
       "      <th>Major_Axis_Length</th>\n",
       "      <th>Minor_Axis_Length</th>\n",
       "      <th>Convex_Area</th>\n",
       "      <th>Equiv_Diameter</th>\n",
       "      <th>Eccentricity</th>\n",
       "      <th>Solidity</th>\n",
       "      <th>Extent</th>\n",
       "      <th>Roundness</th>\n",
       "      <th>Aspect_Ratio</th>\n",
       "      <th>Compactness</th>\n",
       "      <th>Class</th>\n",
       "    </tr>\n",
       "  </thead>\n",
       "  <tbody>\n",
       "    <tr>\n",
       "      <th>226</th>\n",
       "      <td>102803</td>\n",
       "      <td>1416.303</td>\n",
       "      <td>614.8959</td>\n",
       "      <td>216.4382</td>\n",
       "      <td>104364</td>\n",
       "      <td>361.7912</td>\n",
       "      <td>0.936</td>\n",
       "      <td>0.985</td>\n",
       "      <td>0.7472</td>\n",
       "      <td>0.644</td>\n",
       "      <td>2.841</td>\n",
       "      <td>0.5884</td>\n",
       "      <td>Cercevelik</td>\n",
       "    </tr>\n",
       "  </tbody>\n",
       "</table>\n",
       "</div>"
      ],
      "text/plain": [
       "       Area  Perimeter  Major_Axis_Length  Minor_Axis_Length  Convex_Area  \\\n",
       "226  102803   1416.303           614.8959           216.4382       104364   \n",
       "\n",
       "     Equiv_Diameter  Eccentricity  Solidity  Extent  Roundness  Aspect_Ratio  \\\n",
       "226        361.7912         0.936     0.985  0.7472      0.644         2.841   \n",
       "\n",
       "     Compactness       Class  \n",
       "226       0.5884  Cercevelik  "
      ]
     },
     "execution_count": 25,
     "metadata": {},
     "output_type": "execute_result"
    }
   ],
   "source": [
    "# Cercevelik max perimeter\n",
    "cercevelik_perim_max = cercevelik_seeds['Perimeter'].max()\n",
    "# Index\n",
    "cercevelik_perim_max_idx = cercevelik_seeds['Perimeter'].idxmax()\n",
    "\n",
    "print(\"Cercevelik seed with largest perimeter =\", cercevelik_perim_max) # Value\n",
    "cercevelik_seeds.iloc[[cercevelik_perim_max_idx]] # Instance"
   ]
  },
  {
   "cell_type": "code",
   "execution_count": 26,
   "metadata": {},
   "outputs": [
    {
     "name": "stdout",
     "output_type": "stream",
     "text": [
      "Urgup Sivrisi seed with largest perimeter = 1559.45\n"
     ]
    },
    {
     "data": {
      "text/html": [
       "<div>\n",
       "<style scoped>\n",
       "    .dataframe tbody tr th:only-of-type {\n",
       "        vertical-align: middle;\n",
       "    }\n",
       "\n",
       "    .dataframe tbody tr th {\n",
       "        vertical-align: top;\n",
       "    }\n",
       "\n",
       "    .dataframe thead th {\n",
       "        text-align: right;\n",
       "    }\n",
       "</style>\n",
       "<table border=\"1\" class=\"dataframe\">\n",
       "  <thead>\n",
       "    <tr style=\"text-align: right;\">\n",
       "      <th></th>\n",
       "      <th>Area</th>\n",
       "      <th>Perimeter</th>\n",
       "      <th>Major_Axis_Length</th>\n",
       "      <th>Minor_Axis_Length</th>\n",
       "      <th>Convex_Area</th>\n",
       "      <th>Equiv_Diameter</th>\n",
       "      <th>Eccentricity</th>\n",
       "      <th>Solidity</th>\n",
       "      <th>Extent</th>\n",
       "      <th>Roundness</th>\n",
       "      <th>Aspect_Ratio</th>\n",
       "      <th>Compactness</th>\n",
       "      <th>Class</th>\n",
       "    </tr>\n",
       "  </thead>\n",
       "  <tbody>\n",
       "    <tr>\n",
       "      <th>745</th>\n",
       "      <td>136574</td>\n",
       "      <td>1559.45</td>\n",
       "      <td>661.9113</td>\n",
       "      <td>267.385</td>\n",
       "      <td>138384</td>\n",
       "      <td>417.0029</td>\n",
       "      <td>0.9148</td>\n",
       "      <td>0.9869</td>\n",
       "      <td>0.5313</td>\n",
       "      <td>0.7057</td>\n",
       "      <td>2.4755</td>\n",
       "      <td>0.63</td>\n",
       "      <td>Urgup Sivrisi</td>\n",
       "    </tr>\n",
       "  </tbody>\n",
       "</table>\n",
       "</div>"
      ],
      "text/plain": [
       "       Area  Perimeter  Major_Axis_Length  Minor_Axis_Length  Convex_Area  \\\n",
       "745  136574    1559.45           661.9113            267.385       138384   \n",
       "\n",
       "     Equiv_Diameter  Eccentricity  Solidity  Extent  Roundness  Aspect_Ratio  \\\n",
       "745        417.0029        0.9148    0.9869  0.5313     0.7057        2.4755   \n",
       "\n",
       "     Compactness          Class  \n",
       "745         0.63  Urgup Sivrisi  "
      ]
     },
     "execution_count": 26,
     "metadata": {},
     "output_type": "execute_result"
    }
   ],
   "source": [
    "# Urgup sivrisi max perimeter\n",
    "urgup_perim_max = urgup_seeds['Perimeter'].max()\n",
    "# Index\n",
    "urgup_perim_max_idx = urgup_seeds['Perimeter'].idxmax()\n",
    "\n",
    "print(\"Urgup Sivrisi seed with largest perimeter =\", urgup_perim_max) # Value\n",
    "urgup_seeds.iloc[[urgup_perim_max_idx]] # Instance"
   ]
  },
  {
   "cell_type": "markdown",
   "metadata": {},
   "source": [
    "### What is the average perimeter of each of the pumpkin seeds?"
   ]
  },
  {
   "cell_type": "code",
   "execution_count": 27,
   "metadata": {},
   "outputs": [
    {
     "name": "stdout",
     "output_type": "stream",
     "text": [
      "Cercevelik seed average perimeter = 1089.5224876923078\n"
     ]
    }
   ],
   "source": [
    "cercevelik_perim_avg = cercevelik_seeds['Perimeter'].mean()\n",
    "\n",
    "print(\"Cercevelik seed average perimeter =\", cercevelik_perim_avg)"
   ]
  },
  {
   "cell_type": "code",
   "execution_count": 28,
   "metadata": {},
   "outputs": [
    {
     "name": "stdout",
     "output_type": "stream",
     "text": [
      "Urgup Sivrisi seed average perimeter = 1174.4319191666668\n"
     ]
    }
   ],
   "source": [
    "urgup_perim_avg = urgup_seeds['Perimeter'].mean()\n",
    "\n",
    "print(\"Urgup Sivrisi seed average perimeter =\", urgup_perim_avg)"
   ]
  },
  {
   "cell_type": "markdown",
   "metadata": {},
   "source": [
    "### What are the features of the most narrow seed of each pumpkin seed?"
   ]
  },
  {
   "cell_type": "code",
   "execution_count": 29,
   "metadata": {},
   "outputs": [
    {
     "name": "stdout",
     "output_type": "stream",
     "text": [
      "Value of most narrow Cercevelik seed = 185.844\n"
     ]
    },
    {
     "data": {
      "text/html": [
       "<div>\n",
       "<style scoped>\n",
       "    .dataframe tbody tr th:only-of-type {\n",
       "        vertical-align: middle;\n",
       "    }\n",
       "\n",
       "    .dataframe tbody tr th {\n",
       "        vertical-align: top;\n",
       "    }\n",
       "\n",
       "    .dataframe thead th {\n",
       "        text-align: right;\n",
       "    }\n",
       "</style>\n",
       "<table border=\"1\" class=\"dataframe\">\n",
       "  <thead>\n",
       "    <tr style=\"text-align: right;\">\n",
       "      <th></th>\n",
       "      <th>Area</th>\n",
       "      <th>Perimeter</th>\n",
       "      <th>Major_Axis_Length</th>\n",
       "      <th>Minor_Axis_Length</th>\n",
       "      <th>Convex_Area</th>\n",
       "      <th>Equiv_Diameter</th>\n",
       "      <th>Eccentricity</th>\n",
       "      <th>Solidity</th>\n",
       "      <th>Extent</th>\n",
       "      <th>Roundness</th>\n",
       "      <th>Aspect_Ratio</th>\n",
       "      <th>Compactness</th>\n",
       "      <th>Class</th>\n",
       "    </tr>\n",
       "  </thead>\n",
       "  <tbody>\n",
       "    <tr>\n",
       "      <th>1203</th>\n",
       "      <td>59260</td>\n",
       "      <td>1007.878</td>\n",
       "      <td>413.3942</td>\n",
       "      <td>185.844</td>\n",
       "      <td>60066</td>\n",
       "      <td>274.6856</td>\n",
       "      <td>0.8933</td>\n",
       "      <td>0.9866</td>\n",
       "      <td>0.7395</td>\n",
       "      <td>0.7331</td>\n",
       "      <td>2.2244</td>\n",
       "      <td>0.6645</td>\n",
       "      <td>Cercevelik</td>\n",
       "    </tr>\n",
       "  </tbody>\n",
       "</table>\n",
       "</div>"
      ],
      "text/plain": [
       "       Area  Perimeter  Major_Axis_Length  Minor_Axis_Length  Convex_Area  \\\n",
       "1203  59260   1007.878           413.3942            185.844        60066   \n",
       "\n",
       "      Equiv_Diameter  Eccentricity  Solidity  Extent  Roundness  Aspect_Ratio  \\\n",
       "1203        274.6856        0.8933    0.9866  0.7395     0.7331        2.2244   \n",
       "\n",
       "      Compactness       Class  \n",
       "1203       0.6645  Cercevelik  "
      ]
     },
     "execution_count": 29,
     "metadata": {},
     "output_type": "execute_result"
    }
   ],
   "source": [
    "# Cercevelik min minor axis\n",
    "cercevelik_miax_min = cercevelik_seeds['Minor_Axis_Length'].min()\n",
    "# Index\n",
    "cercevelik_miax_min_idx = cercevelik_seeds['Minor_Axis_Length'].idxmin()\n",
    "\n",
    "print(\"Value of most narrow Cercevelik seed =\", cercevelik_miax_min) # Value\n",
    "cercevelik_seeds.iloc[[cercevelik_miax_min_idx]] # Instance"
   ]
  },
  {
   "cell_type": "code",
   "execution_count": 30,
   "metadata": {},
   "outputs": [
    {
     "name": "stdout",
     "output_type": "stream",
     "text": [
      "Value of most narrow Urgup Sivrisi seed = 152.1718\n"
     ]
    },
    {
     "data": {
      "text/html": [
       "<div>\n",
       "<style scoped>\n",
       "    .dataframe tbody tr th:only-of-type {\n",
       "        vertical-align: middle;\n",
       "    }\n",
       "\n",
       "    .dataframe tbody tr th {\n",
       "        vertical-align: top;\n",
       "    }\n",
       "\n",
       "    .dataframe thead th {\n",
       "        text-align: right;\n",
       "    }\n",
       "</style>\n",
       "<table border=\"1\" class=\"dataframe\">\n",
       "  <thead>\n",
       "    <tr style=\"text-align: right;\">\n",
       "      <th></th>\n",
       "      <th>Area</th>\n",
       "      <th>Perimeter</th>\n",
       "      <th>Major_Axis_Length</th>\n",
       "      <th>Minor_Axis_Length</th>\n",
       "      <th>Convex_Area</th>\n",
       "      <th>Equiv_Diameter</th>\n",
       "      <th>Eccentricity</th>\n",
       "      <th>Solidity</th>\n",
       "      <th>Extent</th>\n",
       "      <th>Roundness</th>\n",
       "      <th>Aspect_Ratio</th>\n",
       "      <th>Compactness</th>\n",
       "      <th>Class</th>\n",
       "    </tr>\n",
       "  </thead>\n",
       "  <tbody>\n",
       "    <tr>\n",
       "      <th>535</th>\n",
       "      <td>55082</td>\n",
       "      <td>1037.748</td>\n",
       "      <td>464.2759</td>\n",
       "      <td>152.1718</td>\n",
       "      <td>55733</td>\n",
       "      <td>264.8256</td>\n",
       "      <td>0.9448</td>\n",
       "      <td>0.9883</td>\n",
       "      <td>0.6255</td>\n",
       "      <td>0.6427</td>\n",
       "      <td>3.051</td>\n",
       "      <td>0.5704</td>\n",
       "      <td>Urgup Sivrisi</td>\n",
       "    </tr>\n",
       "  </tbody>\n",
       "</table>\n",
       "</div>"
      ],
      "text/plain": [
       "      Area  Perimeter  Major_Axis_Length  Minor_Axis_Length  Convex_Area  \\\n",
       "535  55082   1037.748           464.2759           152.1718        55733   \n",
       "\n",
       "     Equiv_Diameter  Eccentricity  Solidity  Extent  Roundness  Aspect_Ratio  \\\n",
       "535        264.8256        0.9448    0.9883  0.6255     0.6427         3.051   \n",
       "\n",
       "     Compactness          Class  \n",
       "535       0.5704  Urgup Sivrisi  "
      ]
     },
     "execution_count": 30,
     "metadata": {},
     "output_type": "execute_result"
    }
   ],
   "source": [
    "# Urgup sivrisi min minor axis\n",
    "urgup_miax_min = urgup_seeds['Minor_Axis_Length'].min()\n",
    "# Index\n",
    "urgup_miax_min_idx = urgup_seeds['Minor_Axis_Length'].idxmin()\n",
    "\n",
    "print(\"Value of most narrow Urgup Sivrisi seed =\", urgup_miax_min) # Value\n",
    "urgup_seeds.iloc[[urgup_miax_min_idx]] # Instance"
   ]
  },
  {
   "cell_type": "markdown",
   "metadata": {},
   "source": [
    "### The widest?"
   ]
  },
  {
   "cell_type": "code",
   "execution_count": 31,
   "metadata": {},
   "outputs": [
    {
     "name": "stdout",
     "output_type": "stream",
     "text": [
      "Value of widest Cercevelik seed = 305.818\n"
     ]
    },
    {
     "data": {
      "text/html": [
       "<div>\n",
       "<style scoped>\n",
       "    .dataframe tbody tr th:only-of-type {\n",
       "        vertical-align: middle;\n",
       "    }\n",
       "\n",
       "    .dataframe tbody tr th {\n",
       "        vertical-align: top;\n",
       "    }\n",
       "\n",
       "    .dataframe thead th {\n",
       "        text-align: right;\n",
       "    }\n",
       "</style>\n",
       "<table border=\"1\" class=\"dataframe\">\n",
       "  <thead>\n",
       "    <tr style=\"text-align: right;\">\n",
       "      <th></th>\n",
       "      <th>Area</th>\n",
       "      <th>Perimeter</th>\n",
       "      <th>Major_Axis_Length</th>\n",
       "      <th>Minor_Axis_Length</th>\n",
       "      <th>Convex_Area</th>\n",
       "      <th>Equiv_Diameter</th>\n",
       "      <th>Eccentricity</th>\n",
       "      <th>Solidity</th>\n",
       "      <th>Extent</th>\n",
       "      <th>Roundness</th>\n",
       "      <th>Aspect_Ratio</th>\n",
       "      <th>Compactness</th>\n",
       "      <th>Class</th>\n",
       "    </tr>\n",
       "  </thead>\n",
       "  <tbody>\n",
       "    <tr>\n",
       "      <th>1273</th>\n",
       "      <td>104272</td>\n",
       "      <td>1209.475</td>\n",
       "      <td>436.0609</td>\n",
       "      <td>305.818</td>\n",
       "      <td>105567</td>\n",
       "      <td>364.3669</td>\n",
       "      <td>0.7128</td>\n",
       "      <td>0.9877</td>\n",
       "      <td>0.7356</td>\n",
       "      <td>0.8957</td>\n",
       "      <td>1.4259</td>\n",
       "      <td>0.8356</td>\n",
       "      <td>Cercevelik</td>\n",
       "    </tr>\n",
       "  </tbody>\n",
       "</table>\n",
       "</div>"
      ],
      "text/plain": [
       "        Area  Perimeter  Major_Axis_Length  Minor_Axis_Length  Convex_Area  \\\n",
       "1273  104272   1209.475           436.0609            305.818       105567   \n",
       "\n",
       "      Equiv_Diameter  Eccentricity  Solidity  Extent  Roundness  Aspect_Ratio  \\\n",
       "1273        364.3669        0.7128    0.9877  0.7356     0.8957        1.4259   \n",
       "\n",
       "      Compactness       Class  \n",
       "1273       0.8356  Cercevelik  "
      ]
     },
     "execution_count": 31,
     "metadata": {},
     "output_type": "execute_result"
    }
   ],
   "source": [
    "# Cercevelik max minor axis\n",
    "cercevelik_miax_max = cercevelik_seeds['Minor_Axis_Length'].max()\n",
    "# Index\n",
    "cercevelik_miax_max_idx = cercevelik_seeds['Minor_Axis_Length'].idxmax()\n",
    "\n",
    "print(\"Value of widest Cercevelik seed =\", cercevelik_miax_max) # Value\n",
    "cercevelik_seeds.iloc[[cercevelik_miax_max_idx]] # Instance"
   ]
  },
  {
   "cell_type": "code",
   "execution_count": 32,
   "metadata": {},
   "outputs": [
    {
     "name": "stdout",
     "output_type": "stream",
     "text": [
      "Value of widest Urgup Sivrisi seed = 297.7952\n"
     ]
    },
    {
     "data": {
      "text/html": [
       "<div>\n",
       "<style scoped>\n",
       "    .dataframe tbody tr th:only-of-type {\n",
       "        vertical-align: middle;\n",
       "    }\n",
       "\n",
       "    .dataframe tbody tr th {\n",
       "        vertical-align: top;\n",
       "    }\n",
       "\n",
       "    .dataframe thead th {\n",
       "        text-align: right;\n",
       "    }\n",
       "</style>\n",
       "<table border=\"1\" class=\"dataframe\">\n",
       "  <thead>\n",
       "    <tr style=\"text-align: right;\">\n",
       "      <th></th>\n",
       "      <th>Area</th>\n",
       "      <th>Perimeter</th>\n",
       "      <th>Major_Axis_Length</th>\n",
       "      <th>Minor_Axis_Length</th>\n",
       "      <th>Convex_Area</th>\n",
       "      <th>Equiv_Diameter</th>\n",
       "      <th>Eccentricity</th>\n",
       "      <th>Solidity</th>\n",
       "      <th>Extent</th>\n",
       "      <th>Roundness</th>\n",
       "      <th>Aspect_Ratio</th>\n",
       "      <th>Compactness</th>\n",
       "      <th>Class</th>\n",
       "    </tr>\n",
       "  </thead>\n",
       "  <tbody>\n",
       "    <tr>\n",
       "      <th>691</th>\n",
       "      <td>135455</td>\n",
       "      <td>1451.905</td>\n",
       "      <td>580.8759</td>\n",
       "      <td>297.7952</td>\n",
       "      <td>136373</td>\n",
       "      <td>415.2911</td>\n",
       "      <td>0.8586</td>\n",
       "      <td>0.9933</td>\n",
       "      <td>0.6928</td>\n",
       "      <td>0.8075</td>\n",
       "      <td>1.9506</td>\n",
       "      <td>0.7149</td>\n",
       "      <td>Urgup Sivrisi</td>\n",
       "    </tr>\n",
       "  </tbody>\n",
       "</table>\n",
       "</div>"
      ],
      "text/plain": [
       "       Area  Perimeter  Major_Axis_Length  Minor_Axis_Length  Convex_Area  \\\n",
       "691  135455   1451.905           580.8759           297.7952       136373   \n",
       "\n",
       "     Equiv_Diameter  Eccentricity  Solidity  Extent  Roundness  Aspect_Ratio  \\\n",
       "691        415.2911        0.8586    0.9933  0.6928     0.8075        1.9506   \n",
       "\n",
       "     Compactness          Class  \n",
       "691       0.7149  Urgup Sivrisi  "
      ]
     },
     "execution_count": 32,
     "metadata": {},
     "output_type": "execute_result"
    }
   ],
   "source": [
    "# Urgup sivrisi max minor axis\n",
    "urgup_miax_max = urgup_seeds['Minor_Axis_Length'].max()\n",
    "# Index\n",
    "urgup_miax_max_idx = urgup_seeds['Minor_Axis_Length'].idxmax()\n",
    "\n",
    "print(\"Value of widest Urgup Sivrisi seed =\", urgup_miax_max) # Value\n",
    "urgup_seeds.iloc[[urgup_miax_max_idx]] # Instance"
   ]
  },
  {
   "cell_type": "markdown",
   "metadata": {},
   "source": [
    "### What is the average width of each of the pumpkin seeds?"
   ]
  },
  {
   "cell_type": "code",
   "execution_count": 33,
   "metadata": {},
   "outputs": [
    {
     "name": "stdout",
     "output_type": "stream",
     "text": [
      "Cercevelik seed average Minor Axis Length or Width = 234.77692869230768\n"
     ]
    }
   ],
   "source": [
    "cercevelik_miax_avg = cercevelik_seeds['Minor_Axis_Length'].mean()\n",
    "\n",
    "print(\"Cercevelik seed average Minor Axis Length or Width =\", cercevelik_miax_avg)"
   ]
  },
  {
   "cell_type": "code",
   "execution_count": 34,
   "metadata": {},
   "outputs": [
    {
     "name": "stdout",
     "output_type": "stream",
     "text": [
      "Urgup Sivrisi seed average Minor Axis Length or Width = 216.064413\n"
     ]
    }
   ],
   "source": [
    "urgup_miax_avg = urgup_seeds['Minor_Axis_Length'].mean()\n",
    "\n",
    "print(\"Urgup Sivrisi seed average Minor Axis Length or Width =\", urgup_miax_avg)"
   ]
  },
  {
   "cell_type": "markdown",
   "metadata": {},
   "source": [
    "### What are the features of the shortest seed of each pumpkin seed?"
   ]
  },
  {
   "cell_type": "code",
   "execution_count": 35,
   "metadata": {},
   "outputs": [
    {
     "name": "stdout",
     "output_type": "stream",
     "text": [
      "Value of shortest Cercevelik seed = 320.8446\n"
     ]
    },
    {
     "data": {
      "text/html": [
       "<div>\n",
       "<style scoped>\n",
       "    .dataframe tbody tr th:only-of-type {\n",
       "        vertical-align: middle;\n",
       "    }\n",
       "\n",
       "    .dataframe tbody tr th {\n",
       "        vertical-align: top;\n",
       "    }\n",
       "\n",
       "    .dataframe thead th {\n",
       "        text-align: right;\n",
       "    }\n",
       "</style>\n",
       "<table border=\"1\" class=\"dataframe\">\n",
       "  <thead>\n",
       "    <tr style=\"text-align: right;\">\n",
       "      <th></th>\n",
       "      <th>Area</th>\n",
       "      <th>Perimeter</th>\n",
       "      <th>Major_Axis_Length</th>\n",
       "      <th>Minor_Axis_Length</th>\n",
       "      <th>Convex_Area</th>\n",
       "      <th>Equiv_Diameter</th>\n",
       "      <th>Eccentricity</th>\n",
       "      <th>Solidity</th>\n",
       "      <th>Extent</th>\n",
       "      <th>Roundness</th>\n",
       "      <th>Aspect_Ratio</th>\n",
       "      <th>Compactness</th>\n",
       "      <th>Class</th>\n",
       "    </tr>\n",
       "  </thead>\n",
       "  <tbody>\n",
       "    <tr>\n",
       "      <th>1194</th>\n",
       "      <td>66204</td>\n",
       "      <td>1006.743</td>\n",
       "      <td>320.8446</td>\n",
       "      <td>279.3001</td>\n",
       "      <td>67295</td>\n",
       "      <td>290.3335</td>\n",
       "      <td>0.4921</td>\n",
       "      <td>0.9838</td>\n",
       "      <td>0.6315</td>\n",
       "      <td>0.8208</td>\n",
       "      <td>1.1487</td>\n",
       "      <td>0.9049</td>\n",
       "      <td>Cercevelik</td>\n",
       "    </tr>\n",
       "  </tbody>\n",
       "</table>\n",
       "</div>"
      ],
      "text/plain": [
       "       Area  Perimeter  Major_Axis_Length  Minor_Axis_Length  Convex_Area  \\\n",
       "1194  66204   1006.743           320.8446           279.3001        67295   \n",
       "\n",
       "      Equiv_Diameter  Eccentricity  Solidity  Extent  Roundness  Aspect_Ratio  \\\n",
       "1194        290.3335        0.4921    0.9838  0.6315     0.8208        1.1487   \n",
       "\n",
       "      Compactness       Class  \n",
       "1194       0.9049  Cercevelik  "
      ]
     },
     "execution_count": 35,
     "metadata": {},
     "output_type": "execute_result"
    }
   ],
   "source": [
    "# Cercevelik min major axis\n",
    "cercevelik_majax_min = cercevelik_seeds['Major_Axis_Length'].min()\n",
    "# Index\n",
    "cercevelik_majax_min_idx = cercevelik_seeds['Major_Axis_Length'].idxmin()\n",
    "\n",
    "print(\"Value of shortest Cercevelik seed =\", cercevelik_majax_min) # Value\n",
    "cercevelik_seeds.iloc[[cercevelik_majax_min_idx]] # Instance"
   ]
  },
  {
   "cell_type": "code",
   "execution_count": 36,
   "metadata": {},
   "outputs": [
    {
     "name": "stdout",
     "output_type": "stream",
     "text": [
      "Value of shortest Urgup Sivrisi seed = 324.0113\n"
     ]
    },
    {
     "data": {
      "text/html": [
       "<div>\n",
       "<style scoped>\n",
       "    .dataframe tbody tr th:only-of-type {\n",
       "        vertical-align: middle;\n",
       "    }\n",
       "\n",
       "    .dataframe tbody tr th {\n",
       "        vertical-align: top;\n",
       "    }\n",
       "\n",
       "    .dataframe thead th {\n",
       "        text-align: right;\n",
       "    }\n",
       "</style>\n",
       "<table border=\"1\" class=\"dataframe\">\n",
       "  <thead>\n",
       "    <tr style=\"text-align: right;\">\n",
       "      <th></th>\n",
       "      <th>Area</th>\n",
       "      <th>Perimeter</th>\n",
       "      <th>Major_Axis_Length</th>\n",
       "      <th>Minor_Axis_Length</th>\n",
       "      <th>Convex_Area</th>\n",
       "      <th>Equiv_Diameter</th>\n",
       "      <th>Eccentricity</th>\n",
       "      <th>Solidity</th>\n",
       "      <th>Extent</th>\n",
       "      <th>Roundness</th>\n",
       "      <th>Aspect_Ratio</th>\n",
       "      <th>Compactness</th>\n",
       "      <th>Class</th>\n",
       "    </tr>\n",
       "  </thead>\n",
       "  <tbody>\n",
       "    <tr>\n",
       "      <th>326</th>\n",
       "      <td>54128</td>\n",
       "      <td>871.458</td>\n",
       "      <td>324.0113</td>\n",
       "      <td>214.0405</td>\n",
       "      <td>54742</td>\n",
       "      <td>262.5222</td>\n",
       "      <td>0.7507</td>\n",
       "      <td>0.9888</td>\n",
       "      <td>0.728</td>\n",
       "      <td>0.8957</td>\n",
       "      <td>1.5138</td>\n",
       "      <td>0.8102</td>\n",
       "      <td>Urgup Sivrisi</td>\n",
       "    </tr>\n",
       "  </tbody>\n",
       "</table>\n",
       "</div>"
      ],
      "text/plain": [
       "      Area  Perimeter  Major_Axis_Length  Minor_Axis_Length  Convex_Area  \\\n",
       "326  54128    871.458           324.0113           214.0405        54742   \n",
       "\n",
       "     Equiv_Diameter  Eccentricity  Solidity  Extent  Roundness  Aspect_Ratio  \\\n",
       "326        262.5222        0.7507    0.9888   0.728     0.8957        1.5138   \n",
       "\n",
       "     Compactness          Class  \n",
       "326       0.8102  Urgup Sivrisi  "
      ]
     },
     "execution_count": 36,
     "metadata": {},
     "output_type": "execute_result"
    }
   ],
   "source": [
    "# Urgup Sivrisi min major axis\n",
    "urgup_majax_min = urgup_seeds['Major_Axis_Length'].min()\n",
    "# Index\n",
    "urgup_majax_min_idx = urgup_seeds['Major_Axis_Length'].idxmin()\n",
    "\n",
    "print(\"Value of shortest Urgup Sivrisi seed =\", urgup_majax_min) # Value\n",
    "urgup_seeds.iloc[[urgup_majax_min_idx]] # Instance"
   ]
  },
  {
   "cell_type": "markdown",
   "metadata": {},
   "source": [
    "### The longest?"
   ]
  },
  {
   "cell_type": "code",
   "execution_count": 37,
   "metadata": {},
   "outputs": [
    {
     "name": "stdout",
     "output_type": "stream",
     "text": [
      "Value of longest Cercevelik seed = 614.8959\n"
     ]
    },
    {
     "data": {
      "text/html": [
       "<div>\n",
       "<style scoped>\n",
       "    .dataframe tbody tr th:only-of-type {\n",
       "        vertical-align: middle;\n",
       "    }\n",
       "\n",
       "    .dataframe tbody tr th {\n",
       "        vertical-align: top;\n",
       "    }\n",
       "\n",
       "    .dataframe thead th {\n",
       "        text-align: right;\n",
       "    }\n",
       "</style>\n",
       "<table border=\"1\" class=\"dataframe\">\n",
       "  <thead>\n",
       "    <tr style=\"text-align: right;\">\n",
       "      <th></th>\n",
       "      <th>Area</th>\n",
       "      <th>Perimeter</th>\n",
       "      <th>Major_Axis_Length</th>\n",
       "      <th>Minor_Axis_Length</th>\n",
       "      <th>Convex_Area</th>\n",
       "      <th>Equiv_Diameter</th>\n",
       "      <th>Eccentricity</th>\n",
       "      <th>Solidity</th>\n",
       "      <th>Extent</th>\n",
       "      <th>Roundness</th>\n",
       "      <th>Aspect_Ratio</th>\n",
       "      <th>Compactness</th>\n",
       "      <th>Class</th>\n",
       "    </tr>\n",
       "  </thead>\n",
       "  <tbody>\n",
       "    <tr>\n",
       "      <th>226</th>\n",
       "      <td>102803</td>\n",
       "      <td>1416.303</td>\n",
       "      <td>614.8959</td>\n",
       "      <td>216.4382</td>\n",
       "      <td>104364</td>\n",
       "      <td>361.7912</td>\n",
       "      <td>0.936</td>\n",
       "      <td>0.985</td>\n",
       "      <td>0.7472</td>\n",
       "      <td>0.644</td>\n",
       "      <td>2.841</td>\n",
       "      <td>0.5884</td>\n",
       "      <td>Cercevelik</td>\n",
       "    </tr>\n",
       "  </tbody>\n",
       "</table>\n",
       "</div>"
      ],
      "text/plain": [
       "       Area  Perimeter  Major_Axis_Length  Minor_Axis_Length  Convex_Area  \\\n",
       "226  102803   1416.303           614.8959           216.4382       104364   \n",
       "\n",
       "     Equiv_Diameter  Eccentricity  Solidity  Extent  Roundness  Aspect_Ratio  \\\n",
       "226        361.7912         0.936     0.985  0.7472      0.644         2.841   \n",
       "\n",
       "     Compactness       Class  \n",
       "226       0.5884  Cercevelik  "
      ]
     },
     "execution_count": 37,
     "metadata": {},
     "output_type": "execute_result"
    }
   ],
   "source": [
    "# Cercevelik max major axis\n",
    "cercevelik_majax_max = cercevelik_seeds['Major_Axis_Length'].max()\n",
    "# Index\n",
    "cercevelik_majax_max_idx = cercevelik_seeds['Major_Axis_Length'].idxmax()\n",
    "\n",
    "print(\"Value of longest Cercevelik seed =\", cercevelik_majax_max) # Value\n",
    "cercevelik_seeds.iloc[[cercevelik_majax_max_idx]] # Instance"
   ]
  },
  {
   "cell_type": "code",
   "execution_count": 38,
   "metadata": {},
   "outputs": [
    {
     "name": "stdout",
     "output_type": "stream",
     "text": [
      "Value of longest Urgup Sivrisi seed = 661.9113\n"
     ]
    },
    {
     "data": {
      "text/html": [
       "<div>\n",
       "<style scoped>\n",
       "    .dataframe tbody tr th:only-of-type {\n",
       "        vertical-align: middle;\n",
       "    }\n",
       "\n",
       "    .dataframe tbody tr th {\n",
       "        vertical-align: top;\n",
       "    }\n",
       "\n",
       "    .dataframe thead th {\n",
       "        text-align: right;\n",
       "    }\n",
       "</style>\n",
       "<table border=\"1\" class=\"dataframe\">\n",
       "  <thead>\n",
       "    <tr style=\"text-align: right;\">\n",
       "      <th></th>\n",
       "      <th>Area</th>\n",
       "      <th>Perimeter</th>\n",
       "      <th>Major_Axis_Length</th>\n",
       "      <th>Minor_Axis_Length</th>\n",
       "      <th>Convex_Area</th>\n",
       "      <th>Equiv_Diameter</th>\n",
       "      <th>Eccentricity</th>\n",
       "      <th>Solidity</th>\n",
       "      <th>Extent</th>\n",
       "      <th>Roundness</th>\n",
       "      <th>Aspect_Ratio</th>\n",
       "      <th>Compactness</th>\n",
       "      <th>Class</th>\n",
       "    </tr>\n",
       "  </thead>\n",
       "  <tbody>\n",
       "    <tr>\n",
       "      <th>745</th>\n",
       "      <td>136574</td>\n",
       "      <td>1559.45</td>\n",
       "      <td>661.9113</td>\n",
       "      <td>267.385</td>\n",
       "      <td>138384</td>\n",
       "      <td>417.0029</td>\n",
       "      <td>0.9148</td>\n",
       "      <td>0.9869</td>\n",
       "      <td>0.5313</td>\n",
       "      <td>0.7057</td>\n",
       "      <td>2.4755</td>\n",
       "      <td>0.63</td>\n",
       "      <td>Urgup Sivrisi</td>\n",
       "    </tr>\n",
       "  </tbody>\n",
       "</table>\n",
       "</div>"
      ],
      "text/plain": [
       "       Area  Perimeter  Major_Axis_Length  Minor_Axis_Length  Convex_Area  \\\n",
       "745  136574    1559.45           661.9113            267.385       138384   \n",
       "\n",
       "     Equiv_Diameter  Eccentricity  Solidity  Extent  Roundness  Aspect_Ratio  \\\n",
       "745        417.0029        0.9148    0.9869  0.5313     0.7057        2.4755   \n",
       "\n",
       "     Compactness          Class  \n",
       "745         0.63  Urgup Sivrisi  "
      ]
     },
     "execution_count": 38,
     "metadata": {},
     "output_type": "execute_result"
    }
   ],
   "source": [
    "# Urgup Sivrisi max major axis\n",
    "urgup_majax_max = urgup_seeds['Major_Axis_Length'].max()\n",
    "# Index\n",
    "urgup_majax_max_idx = urgup_seeds['Major_Axis_Length'].idxmax()\n",
    "\n",
    "print(\"Value of longest Urgup Sivrisi seed =\", urgup_majax_max) # Value\n",
    "urgup_seeds.iloc[[urgup_majax_max_idx]] # Instance"
   ]
  },
  {
   "cell_type": "markdown",
   "metadata": {},
   "source": [
    "### What is the average length of each of the pumpkin seeds?"
   ]
  },
  {
   "cell_type": "code",
   "execution_count": 39,
   "metadata": {},
   "outputs": [
    {
     "name": "stdout",
     "output_type": "stream",
     "text": [
      "Cercevelik seed average Major Axis Length or Length = 426.27261500000003\n"
     ]
    }
   ],
   "source": [
    "cercevelik_majax_avg = cercevelik_seeds['Major_Axis_Length'].mean()\n",
    "\n",
    "print(\"Cercevelik seed average Major Axis Length or Length =\", cercevelik_majax_avg)"
   ]
  },
  {
   "cell_type": "code",
   "execution_count": 40,
   "metadata": {},
   "outputs": [
    {
     "name": "stdout",
     "output_type": "stream",
     "text": [
      "Urgup Sivrisi seed average Major Axis Length or Length = 489.45850075000004\n"
     ]
    }
   ],
   "source": [
    "urgup_majax_avg = urgup_seeds['Major_Axis_Length'].mean()\n",
    "\n",
    "print(\"Urgup Sivrisi seed average Major Axis Length or Length =\", urgup_majax_avg)"
   ]
  },
  {
   "cell_type": "markdown",
   "metadata": {},
   "source": [
    "The following few questions are questions created for probing on the *Shape** of the seeds. The features that we think are relevant to learning about the difference in shape between the two pumpkin seed species are `Eccentricity`, `Roundness`, and `Convex Area`."
   ]
  },
  {
   "cell_type": "markdown",
   "metadata": {},
   "source": [
    "### What are the features of the most circular seed for each of the pumpkin seed species?"
   ]
  },
  {
   "cell_type": "code",
   "execution_count": 41,
   "metadata": {},
   "outputs": [
    {
     "name": "stdout",
     "output_type": "stream",
     "text": [
      "Value of most circular Cercevelik seed = 0.4921\n"
     ]
    },
    {
     "data": {
      "text/html": [
       "<div>\n",
       "<style scoped>\n",
       "    .dataframe tbody tr th:only-of-type {\n",
       "        vertical-align: middle;\n",
       "    }\n",
       "\n",
       "    .dataframe tbody tr th {\n",
       "        vertical-align: top;\n",
       "    }\n",
       "\n",
       "    .dataframe thead th {\n",
       "        text-align: right;\n",
       "    }\n",
       "</style>\n",
       "<table border=\"1\" class=\"dataframe\">\n",
       "  <thead>\n",
       "    <tr style=\"text-align: right;\">\n",
       "      <th></th>\n",
       "      <th>Area</th>\n",
       "      <th>Perimeter</th>\n",
       "      <th>Major_Axis_Length</th>\n",
       "      <th>Minor_Axis_Length</th>\n",
       "      <th>Convex_Area</th>\n",
       "      <th>Equiv_Diameter</th>\n",
       "      <th>Eccentricity</th>\n",
       "      <th>Solidity</th>\n",
       "      <th>Extent</th>\n",
       "      <th>Roundness</th>\n",
       "      <th>Aspect_Ratio</th>\n",
       "      <th>Compactness</th>\n",
       "      <th>Class</th>\n",
       "    </tr>\n",
       "  </thead>\n",
       "  <tbody>\n",
       "    <tr>\n",
       "      <th>1194</th>\n",
       "      <td>66204</td>\n",
       "      <td>1006.743</td>\n",
       "      <td>320.8446</td>\n",
       "      <td>279.3001</td>\n",
       "      <td>67295</td>\n",
       "      <td>290.3335</td>\n",
       "      <td>0.4921</td>\n",
       "      <td>0.9838</td>\n",
       "      <td>0.6315</td>\n",
       "      <td>0.8208</td>\n",
       "      <td>1.1487</td>\n",
       "      <td>0.9049</td>\n",
       "      <td>Cercevelik</td>\n",
       "    </tr>\n",
       "  </tbody>\n",
       "</table>\n",
       "</div>"
      ],
      "text/plain": [
       "       Area  Perimeter  Major_Axis_Length  Minor_Axis_Length  Convex_Area  \\\n",
       "1194  66204   1006.743           320.8446           279.3001        67295   \n",
       "\n",
       "      Equiv_Diameter  Eccentricity  Solidity  Extent  Roundness  Aspect_Ratio  \\\n",
       "1194        290.3335        0.4921    0.9838  0.6315     0.8208        1.1487   \n",
       "\n",
       "      Compactness       Class  \n",
       "1194       0.9049  Cercevelik  "
      ]
     },
     "execution_count": 41,
     "metadata": {},
     "output_type": "execute_result"
    }
   ],
   "source": [
    "# Cercevelik min eccentricity\n",
    "cercevelik_ecce_min = cercevelik_seeds['Eccentricity'].min()\n",
    "# Index\n",
    "cercevelik_ecce_min_idx = cercevelik_seeds['Eccentricity'].idxmin()\n",
    "\n",
    "print(\"Value of most circular Cercevelik seed =\", cercevelik_ecce_min) # Value\n",
    "cercevelik_seeds.iloc[[cercevelik_ecce_min_idx]] # Instance"
   ]
  },
  {
   "cell_type": "code",
   "execution_count": 42,
   "metadata": {},
   "outputs": [
    {
     "name": "stdout",
     "output_type": "stream",
     "text": [
      "Value of most circular Urgup Sivrisi seed = 0.7507\n"
     ]
    },
    {
     "data": {
      "text/html": [
       "<div>\n",
       "<style scoped>\n",
       "    .dataframe tbody tr th:only-of-type {\n",
       "        vertical-align: middle;\n",
       "    }\n",
       "\n",
       "    .dataframe tbody tr th {\n",
       "        vertical-align: top;\n",
       "    }\n",
       "\n",
       "    .dataframe thead th {\n",
       "        text-align: right;\n",
       "    }\n",
       "</style>\n",
       "<table border=\"1\" class=\"dataframe\">\n",
       "  <thead>\n",
       "    <tr style=\"text-align: right;\">\n",
       "      <th></th>\n",
       "      <th>Area</th>\n",
       "      <th>Perimeter</th>\n",
       "      <th>Major_Axis_Length</th>\n",
       "      <th>Minor_Axis_Length</th>\n",
       "      <th>Convex_Area</th>\n",
       "      <th>Equiv_Diameter</th>\n",
       "      <th>Eccentricity</th>\n",
       "      <th>Solidity</th>\n",
       "      <th>Extent</th>\n",
       "      <th>Roundness</th>\n",
       "      <th>Aspect_Ratio</th>\n",
       "      <th>Compactness</th>\n",
       "      <th>Class</th>\n",
       "    </tr>\n",
       "  </thead>\n",
       "  <tbody>\n",
       "    <tr>\n",
       "      <th>326</th>\n",
       "      <td>54128</td>\n",
       "      <td>871.458</td>\n",
       "      <td>324.0113</td>\n",
       "      <td>214.0405</td>\n",
       "      <td>54742</td>\n",
       "      <td>262.5222</td>\n",
       "      <td>0.7507</td>\n",
       "      <td>0.9888</td>\n",
       "      <td>0.728</td>\n",
       "      <td>0.8957</td>\n",
       "      <td>1.5138</td>\n",
       "      <td>0.8102</td>\n",
       "      <td>Urgup Sivrisi</td>\n",
       "    </tr>\n",
       "  </tbody>\n",
       "</table>\n",
       "</div>"
      ],
      "text/plain": [
       "      Area  Perimeter  Major_Axis_Length  Minor_Axis_Length  Convex_Area  \\\n",
       "326  54128    871.458           324.0113           214.0405        54742   \n",
       "\n",
       "     Equiv_Diameter  Eccentricity  Solidity  Extent  Roundness  Aspect_Ratio  \\\n",
       "326        262.5222        0.7507    0.9888   0.728     0.8957        1.5138   \n",
       "\n",
       "     Compactness          Class  \n",
       "326       0.8102  Urgup Sivrisi  "
      ]
     },
     "execution_count": 42,
     "metadata": {},
     "output_type": "execute_result"
    }
   ],
   "source": [
    "# Urgup sivrisi min eccentricity\n",
    "urgup_ecce_min = urgup_seeds['Eccentricity'].min()\n",
    "# Index\n",
    "urgup_ecce_min_idx = urgup_seeds['Eccentricity'].idxmin()\n",
    "\n",
    "print(\"Value of most circular Urgup Sivrisi seed =\", urgup_ecce_min) # Value\n",
    "urgup_seeds.iloc[[urgup_ecce_min_idx]] # Instance"
   ]
  },
  {
   "cell_type": "markdown",
   "metadata": {},
   "source": [
    "### The most elongated?"
   ]
  },
  {
   "cell_type": "code",
   "execution_count": 43,
   "metadata": {},
   "outputs": [
    {
     "name": "stdout",
     "output_type": "stream",
     "text": [
      "Value of most elongated Cercevelik seed = 0.936\n"
     ]
    },
    {
     "data": {
      "text/html": [
       "<div>\n",
       "<style scoped>\n",
       "    .dataframe tbody tr th:only-of-type {\n",
       "        vertical-align: middle;\n",
       "    }\n",
       "\n",
       "    .dataframe tbody tr th {\n",
       "        vertical-align: top;\n",
       "    }\n",
       "\n",
       "    .dataframe thead th {\n",
       "        text-align: right;\n",
       "    }\n",
       "</style>\n",
       "<table border=\"1\" class=\"dataframe\">\n",
       "  <thead>\n",
       "    <tr style=\"text-align: right;\">\n",
       "      <th></th>\n",
       "      <th>Area</th>\n",
       "      <th>Perimeter</th>\n",
       "      <th>Major_Axis_Length</th>\n",
       "      <th>Minor_Axis_Length</th>\n",
       "      <th>Convex_Area</th>\n",
       "      <th>Equiv_Diameter</th>\n",
       "      <th>Eccentricity</th>\n",
       "      <th>Solidity</th>\n",
       "      <th>Extent</th>\n",
       "      <th>Roundness</th>\n",
       "      <th>Aspect_Ratio</th>\n",
       "      <th>Compactness</th>\n",
       "      <th>Class</th>\n",
       "    </tr>\n",
       "  </thead>\n",
       "  <tbody>\n",
       "    <tr>\n",
       "      <th>226</th>\n",
       "      <td>102803</td>\n",
       "      <td>1416.303</td>\n",
       "      <td>614.8959</td>\n",
       "      <td>216.4382</td>\n",
       "      <td>104364</td>\n",
       "      <td>361.7912</td>\n",
       "      <td>0.936</td>\n",
       "      <td>0.985</td>\n",
       "      <td>0.7472</td>\n",
       "      <td>0.644</td>\n",
       "      <td>2.841</td>\n",
       "      <td>0.5884</td>\n",
       "      <td>Cercevelik</td>\n",
       "    </tr>\n",
       "  </tbody>\n",
       "</table>\n",
       "</div>"
      ],
      "text/plain": [
       "       Area  Perimeter  Major_Axis_Length  Minor_Axis_Length  Convex_Area  \\\n",
       "226  102803   1416.303           614.8959           216.4382       104364   \n",
       "\n",
       "     Equiv_Diameter  Eccentricity  Solidity  Extent  Roundness  Aspect_Ratio  \\\n",
       "226        361.7912         0.936     0.985  0.7472      0.644         2.841   \n",
       "\n",
       "     Compactness       Class  \n",
       "226       0.5884  Cercevelik  "
      ]
     },
     "execution_count": 43,
     "metadata": {},
     "output_type": "execute_result"
    }
   ],
   "source": [
    "# Cercevelik max eccentricity\n",
    "cercevelik_ecce_max = cercevelik_seeds['Eccentricity'].max()\n",
    "# Index\n",
    "cercevelik_ecce_max_idx = cercevelik_seeds['Eccentricity'].idxmax()\n",
    "\n",
    "print(\"Value of most elongated Cercevelik seed =\", cercevelik_ecce_max) # Value\n",
    "cercevelik_seeds.iloc[[cercevelik_ecce_max_idx]] # Instance"
   ]
  },
  {
   "cell_type": "code",
   "execution_count": 44,
   "metadata": {},
   "outputs": [
    {
     "name": "stdout",
     "output_type": "stream",
     "text": [
      "Value of most elongated Urgup Sivrisi seed = 0.9481\n"
     ]
    },
    {
     "data": {
      "text/html": [
       "<div>\n",
       "<style scoped>\n",
       "    .dataframe tbody tr th:only-of-type {\n",
       "        vertical-align: middle;\n",
       "    }\n",
       "\n",
       "    .dataframe tbody tr th {\n",
       "        vertical-align: top;\n",
       "    }\n",
       "\n",
       "    .dataframe thead th {\n",
       "        text-align: right;\n",
       "    }\n",
       "</style>\n",
       "<table border=\"1\" class=\"dataframe\">\n",
       "  <thead>\n",
       "    <tr style=\"text-align: right;\">\n",
       "      <th></th>\n",
       "      <th>Area</th>\n",
       "      <th>Perimeter</th>\n",
       "      <th>Major_Axis_Length</th>\n",
       "      <th>Minor_Axis_Length</th>\n",
       "      <th>Convex_Area</th>\n",
       "      <th>Equiv_Diameter</th>\n",
       "      <th>Eccentricity</th>\n",
       "      <th>Solidity</th>\n",
       "      <th>Extent</th>\n",
       "      <th>Roundness</th>\n",
       "      <th>Aspect_Ratio</th>\n",
       "      <th>Compactness</th>\n",
       "      <th>Class</th>\n",
       "    </tr>\n",
       "  </thead>\n",
       "  <tbody>\n",
       "    <tr>\n",
       "      <th>761</th>\n",
       "      <td>90597</td>\n",
       "      <td>1352.215</td>\n",
       "      <td>605.5829</td>\n",
       "      <td>192.588</td>\n",
       "      <td>91557</td>\n",
       "      <td>339.6346</td>\n",
       "      <td>0.9481</td>\n",
       "      <td>0.9895</td>\n",
       "      <td>0.4695</td>\n",
       "      <td>0.6226</td>\n",
       "      <td>3.1444</td>\n",
       "      <td>0.5608</td>\n",
       "      <td>Urgup Sivrisi</td>\n",
       "    </tr>\n",
       "  </tbody>\n",
       "</table>\n",
       "</div>"
      ],
      "text/plain": [
       "      Area  Perimeter  Major_Axis_Length  Minor_Axis_Length  Convex_Area  \\\n",
       "761  90597   1352.215           605.5829            192.588        91557   \n",
       "\n",
       "     Equiv_Diameter  Eccentricity  Solidity  Extent  Roundness  Aspect_Ratio  \\\n",
       "761        339.6346        0.9481    0.9895  0.4695     0.6226        3.1444   \n",
       "\n",
       "     Compactness          Class  \n",
       "761       0.5608  Urgup Sivrisi  "
      ]
     },
     "execution_count": 44,
     "metadata": {},
     "output_type": "execute_result"
    }
   ],
   "source": [
    "# Urgup sivrisi max eccentricity\n",
    "urgup_ecce_max = urgup_seeds['Eccentricity'].max()\n",
    "# Index\n",
    "urgup_ecce_max_idx = urgup_seeds['Eccentricity'].idxmax()\n",
    "\n",
    "print(\"Value of most elongated Urgup Sivrisi seed =\", urgup_ecce_max) # Value\n",
    "urgup_seeds.iloc[[urgup_ecce_max_idx]] # Instance"
   ]
  },
  {
   "cell_type": "markdown",
   "metadata": {},
   "source": [
    "### What is the average eccentricity of each of the pumpkin seed species?"
   ]
  },
  {
   "cell_type": "code",
   "execution_count": 45,
   "metadata": {},
   "outputs": [
    {
     "name": "stdout",
     "output_type": "stream",
     "text": [
      "Cercevelik seed average eccentricity = 0.8305382307692308\n"
     ]
    }
   ],
   "source": [
    "cercevelik_ecce_avg = cercevelik_seeds['Eccentricity'].mean()\n",
    "\n",
    "print(\"Cercevelik seed average eccentricity =\", cercevelik_ecce_avg)"
   ]
  },
  {
   "cell_type": "code",
   "execution_count": 46,
   "metadata": {},
   "outputs": [
    {
     "name": "stdout",
     "output_type": "stream",
     "text": [
      "Urgup Sivrisi seed average eccentricity = 0.8937489999999999\n"
     ]
    }
   ],
   "source": [
    "urgup_ecce_avg = urgup_seeds['Eccentricity'].mean()\n",
    "\n",
    "print(\"Urgup Sivrisi seed average eccentricity =\", urgup_ecce_avg)"
   ]
  },
  {
   "cell_type": "markdown",
   "metadata": {},
   "source": [
    "### What are the features of the least round seed for each of the pumpkin seed species?"
   ]
  },
  {
   "cell_type": "code",
   "execution_count": 47,
   "metadata": {},
   "outputs": [
    {
     "name": "stdout",
     "output_type": "stream",
     "text": [
      "Value of least round Cercevelik seed = 0.6153\n"
     ]
    },
    {
     "data": {
      "text/html": [
       "<div>\n",
       "<style scoped>\n",
       "    .dataframe tbody tr th:only-of-type {\n",
       "        vertical-align: middle;\n",
       "    }\n",
       "\n",
       "    .dataframe tbody tr th {\n",
       "        vertical-align: top;\n",
       "    }\n",
       "\n",
       "    .dataframe thead th {\n",
       "        text-align: right;\n",
       "    }\n",
       "</style>\n",
       "<table border=\"1\" class=\"dataframe\">\n",
       "  <thead>\n",
       "    <tr style=\"text-align: right;\">\n",
       "      <th></th>\n",
       "      <th>Area</th>\n",
       "      <th>Perimeter</th>\n",
       "      <th>Major_Axis_Length</th>\n",
       "      <th>Minor_Axis_Length</th>\n",
       "      <th>Convex_Area</th>\n",
       "      <th>Equiv_Diameter</th>\n",
       "      <th>Eccentricity</th>\n",
       "      <th>Solidity</th>\n",
       "      <th>Extent</th>\n",
       "      <th>Roundness</th>\n",
       "      <th>Aspect_Ratio</th>\n",
       "      <th>Compactness</th>\n",
       "      <th>Class</th>\n",
       "    </tr>\n",
       "  </thead>\n",
       "  <tbody>\n",
       "    <tr>\n",
       "      <th>1265</th>\n",
       "      <td>61712</td>\n",
       "      <td>1122.674</td>\n",
       "      <td>370.2319</td>\n",
       "      <td>214.4666</td>\n",
       "      <td>62992</td>\n",
       "      <td>280.3108</td>\n",
       "      <td>0.8151</td>\n",
       "      <td>0.9797</td>\n",
       "      <td>0.7008</td>\n",
       "      <td>0.6153</td>\n",
       "      <td>1.7263</td>\n",
       "      <td>0.7571</td>\n",
       "      <td>Cercevelik</td>\n",
       "    </tr>\n",
       "  </tbody>\n",
       "</table>\n",
       "</div>"
      ],
      "text/plain": [
       "       Area  Perimeter  Major_Axis_Length  Minor_Axis_Length  Convex_Area  \\\n",
       "1265  61712   1122.674           370.2319           214.4666        62992   \n",
       "\n",
       "      Equiv_Diameter  Eccentricity  Solidity  Extent  Roundness  Aspect_Ratio  \\\n",
       "1265        280.3108        0.8151    0.9797  0.7008     0.6153        1.7263   \n",
       "\n",
       "      Compactness       Class  \n",
       "1265       0.7571  Cercevelik  "
      ]
     },
     "execution_count": 47,
     "metadata": {},
     "output_type": "execute_result"
    }
   ],
   "source": [
    "# Cercevelik min roundness\n",
    "cercevelik_round_min = cercevelik_seeds['Roundness'].min()\n",
    "# Index\n",
    "cercevelik_round_min_idx = cercevelik_seeds['Roundness'].idxmin()\n",
    "\n",
    "print(\"Value of least round Cercevelik seed =\", cercevelik_round_min) # Value\n",
    "cercevelik_seeds.iloc[[cercevelik_round_min_idx]] # Instance"
   ]
  },
  {
   "cell_type": "code",
   "execution_count": 48,
   "metadata": {},
   "outputs": [
    {
     "name": "stdout",
     "output_type": "stream",
     "text": [
      "Value of least round Urgup Sivrisi seed = 0.5546\n"
     ]
    },
    {
     "data": {
      "text/html": [
       "<div>\n",
       "<style scoped>\n",
       "    .dataframe tbody tr th:only-of-type {\n",
       "        vertical-align: middle;\n",
       "    }\n",
       "\n",
       "    .dataframe tbody tr th {\n",
       "        vertical-align: top;\n",
       "    }\n",
       "\n",
       "    .dataframe thead th {\n",
       "        text-align: right;\n",
       "    }\n",
       "</style>\n",
       "<table border=\"1\" class=\"dataframe\">\n",
       "  <thead>\n",
       "    <tr style=\"text-align: right;\">\n",
       "      <th></th>\n",
       "      <th>Area</th>\n",
       "      <th>Perimeter</th>\n",
       "      <th>Major_Axis_Length</th>\n",
       "      <th>Minor_Axis_Length</th>\n",
       "      <th>Convex_Area</th>\n",
       "      <th>Equiv_Diameter</th>\n",
       "      <th>Eccentricity</th>\n",
       "      <th>Solidity</th>\n",
       "      <th>Extent</th>\n",
       "      <th>Roundness</th>\n",
       "      <th>Aspect_Ratio</th>\n",
       "      <th>Compactness</th>\n",
       "      <th>Class</th>\n",
       "    </tr>\n",
       "  </thead>\n",
       "  <tbody>\n",
       "    <tr>\n",
       "      <th>76</th>\n",
       "      <td>55045</td>\n",
       "      <td>1116.756</td>\n",
       "      <td>398.7896</td>\n",
       "      <td>177.7192</td>\n",
       "      <td>56734</td>\n",
       "      <td>264.7366</td>\n",
       "      <td>0.8952</td>\n",
       "      <td>0.9702</td>\n",
       "      <td>0.7954</td>\n",
       "      <td>0.5546</td>\n",
       "      <td>2.2439</td>\n",
       "      <td>0.6639</td>\n",
       "      <td>Urgup Sivrisi</td>\n",
       "    </tr>\n",
       "  </tbody>\n",
       "</table>\n",
       "</div>"
      ],
      "text/plain": [
       "     Area  Perimeter  Major_Axis_Length  Minor_Axis_Length  Convex_Area  \\\n",
       "76  55045   1116.756           398.7896           177.7192        56734   \n",
       "\n",
       "    Equiv_Diameter  Eccentricity  Solidity  Extent  Roundness  Aspect_Ratio  \\\n",
       "76        264.7366        0.8952    0.9702  0.7954     0.5546        2.2439   \n",
       "\n",
       "    Compactness          Class  \n",
       "76       0.6639  Urgup Sivrisi  "
      ]
     },
     "execution_count": 48,
     "metadata": {},
     "output_type": "execute_result"
    }
   ],
   "source": [
    "# Urgup sivrisi min roundness\n",
    "urgup_round_min = urgup_seeds['Roundness'].min()\n",
    "# Index\n",
    "urgup_round_min_idx = urgup_seeds['Roundness'].idxmin()\n",
    "\n",
    "print(\"Value of least round Urgup Sivrisi seed =\", urgup_round_min) # Value\n",
    "urgup_seeds.iloc[[urgup_round_min_idx]] # Instance"
   ]
  },
  {
   "cell_type": "markdown",
   "metadata": {},
   "source": [
    "### The most round?"
   ]
  },
  {
   "cell_type": "code",
   "execution_count": 49,
   "metadata": {},
   "outputs": [
    {
     "name": "stdout",
     "output_type": "stream",
     "text": [
      "Value of least round Cercevelik seed = 0.9396\n"
     ]
    },
    {
     "data": {
      "text/html": [
       "<div>\n",
       "<style scoped>\n",
       "    .dataframe tbody tr th:only-of-type {\n",
       "        vertical-align: middle;\n",
       "    }\n",
       "\n",
       "    .dataframe tbody tr th {\n",
       "        vertical-align: top;\n",
       "    }\n",
       "\n",
       "    .dataframe thead th {\n",
       "        text-align: right;\n",
       "    }\n",
       "</style>\n",
       "<table border=\"1\" class=\"dataframe\">\n",
       "  <thead>\n",
       "    <tr style=\"text-align: right;\">\n",
       "      <th></th>\n",
       "      <th>Area</th>\n",
       "      <th>Perimeter</th>\n",
       "      <th>Major_Axis_Length</th>\n",
       "      <th>Minor_Axis_Length</th>\n",
       "      <th>Convex_Area</th>\n",
       "      <th>Equiv_Diameter</th>\n",
       "      <th>Eccentricity</th>\n",
       "      <th>Solidity</th>\n",
       "      <th>Extent</th>\n",
       "      <th>Roundness</th>\n",
       "      <th>Aspect_Ratio</th>\n",
       "      <th>Compactness</th>\n",
       "      <th>Class</th>\n",
       "    </tr>\n",
       "  </thead>\n",
       "  <tbody>\n",
       "    <tr>\n",
       "      <th>653</th>\n",
       "      <td>69132</td>\n",
       "      <td>961.531</td>\n",
       "      <td>342.3836</td>\n",
       "      <td>257.6274</td>\n",
       "      <td>69616</td>\n",
       "      <td>296.6843</td>\n",
       "      <td>0.6586</td>\n",
       "      <td>0.993</td>\n",
       "      <td>0.7391</td>\n",
       "      <td>0.9396</td>\n",
       "      <td>1.329</td>\n",
       "      <td>0.8665</td>\n",
       "      <td>Cercevelik</td>\n",
       "    </tr>\n",
       "  </tbody>\n",
       "</table>\n",
       "</div>"
      ],
      "text/plain": [
       "      Area  Perimeter  Major_Axis_Length  Minor_Axis_Length  Convex_Area  \\\n",
       "653  69132    961.531           342.3836           257.6274        69616   \n",
       "\n",
       "     Equiv_Diameter  Eccentricity  Solidity  Extent  Roundness  Aspect_Ratio  \\\n",
       "653        296.6843        0.6586     0.993  0.7391     0.9396         1.329   \n",
       "\n",
       "     Compactness       Class  \n",
       "653       0.8665  Cercevelik  "
      ]
     },
     "execution_count": 49,
     "metadata": {},
     "output_type": "execute_result"
    }
   ],
   "source": [
    "# Cercevelik max roundness\n",
    "cercevelik_round_max = cercevelik_seeds['Roundness'].max()\n",
    "# Index\n",
    "cercevelik_round_max_idx = cercevelik_seeds['Roundness'].idxmax()\n",
    "\n",
    "print(\"Value of least round Cercevelik seed =\", cercevelik_round_max) # Value\n",
    "cercevelik_seeds.iloc[[cercevelik_round_max_idx]] # Instance"
   ]
  },
  {
   "cell_type": "code",
   "execution_count": 50,
   "metadata": {},
   "outputs": [
    {
     "name": "stdout",
     "output_type": "stream",
     "text": [
      "Value of least round Urgup Sivrisi seed = 0.8967\n"
     ]
    },
    {
     "data": {
      "text/html": [
       "<div>\n",
       "<style scoped>\n",
       "    .dataframe tbody tr th:only-of-type {\n",
       "        vertical-align: middle;\n",
       "    }\n",
       "\n",
       "    .dataframe tbody tr th {\n",
       "        vertical-align: top;\n",
       "    }\n",
       "\n",
       "    .dataframe thead th {\n",
       "        text-align: right;\n",
       "    }\n",
       "</style>\n",
       "<table border=\"1\" class=\"dataframe\">\n",
       "  <thead>\n",
       "    <tr style=\"text-align: right;\">\n",
       "      <th></th>\n",
       "      <th>Area</th>\n",
       "      <th>Perimeter</th>\n",
       "      <th>Major_Axis_Length</th>\n",
       "      <th>Minor_Axis_Length</th>\n",
       "      <th>Convex_Area</th>\n",
       "      <th>Equiv_Diameter</th>\n",
       "      <th>Eccentricity</th>\n",
       "      <th>Solidity</th>\n",
       "      <th>Extent</th>\n",
       "      <th>Roundness</th>\n",
       "      <th>Aspect_Ratio</th>\n",
       "      <th>Compactness</th>\n",
       "      <th>Class</th>\n",
       "    </tr>\n",
       "  </thead>\n",
       "  <tbody>\n",
       "    <tr>\n",
       "      <th>617</th>\n",
       "      <td>89350</td>\n",
       "      <td>1118.993</td>\n",
       "      <td>425.7468</td>\n",
       "      <td>267.8436</td>\n",
       "      <td>90118</td>\n",
       "      <td>337.2891</td>\n",
       "      <td>0.7773</td>\n",
       "      <td>0.9915</td>\n",
       "      <td>0.7264</td>\n",
       "      <td>0.8967</td>\n",
       "      <td>1.5895</td>\n",
       "      <td>0.7922</td>\n",
       "      <td>Urgup Sivrisi</td>\n",
       "    </tr>\n",
       "  </tbody>\n",
       "</table>\n",
       "</div>"
      ],
      "text/plain": [
       "      Area  Perimeter  Major_Axis_Length  Minor_Axis_Length  Convex_Area  \\\n",
       "617  89350   1118.993           425.7468           267.8436        90118   \n",
       "\n",
       "     Equiv_Diameter  Eccentricity  Solidity  Extent  Roundness  Aspect_Ratio  \\\n",
       "617        337.2891        0.7773    0.9915  0.7264     0.8967        1.5895   \n",
       "\n",
       "     Compactness          Class  \n",
       "617       0.7922  Urgup Sivrisi  "
      ]
     },
     "execution_count": 50,
     "metadata": {},
     "output_type": "execute_result"
    }
   ],
   "source": [
    "# Urgup sivrisi max roundness\n",
    "urgup_round_max = urgup_seeds['Roundness'].max()\n",
    "# Index\n",
    "urgup_round_max_idx = urgup_seeds['Roundness'].idxmax()\n",
    "\n",
    "print(\"Value of least round Urgup Sivrisi seed =\", urgup_round_max) # Value\n",
    "urgup_seeds.iloc[[urgup_round_max_idx]] # Instance"
   ]
  },
  {
   "cell_type": "markdown",
   "metadata": {},
   "source": [
    "### What is the average roundness of each of the pumpkin seed species?"
   ]
  },
  {
   "cell_type": "code",
   "execution_count": 51,
   "metadata": {},
   "outputs": [
    {
     "name": "stdout",
     "output_type": "stream",
     "text": [
      "Cercevelik seed average roundness = 0.8274985384615386\n"
     ]
    }
   ],
   "source": [
    "cercevelik_round_avg = cercevelik_seeds['Roundness'].mean()\n",
    "\n",
    "print(\"Cercevelik seed average roundness =\", cercevelik_round_avg)"
   ]
  },
  {
   "cell_type": "code",
   "execution_count": 52,
   "metadata": {},
   "outputs": [
    {
     "name": "stdout",
     "output_type": "stream",
     "text": [
      "Urgup Sivrisi seed average roundness = 0.7525698333333334\n"
     ]
    }
   ],
   "source": [
    "urgup_round_avg = urgup_seeds['Roundness'].mean()\n",
    "\n",
    "print(\"Urgup Sivrisi seed average roundness =\", urgup_round_avg)"
   ]
  },
  {
   "cell_type": "markdown",
   "metadata": {},
   "source": [
    "**=========================================================================================================================================**"
   ]
  },
  {
   "cell_type": "markdown",
   "metadata": {},
   "source": [
    "### Correlation Checking"
   ]
  },
  {
   "cell_type": "markdown",
   "metadata": {},
   "source": [
    "Let’s play around with the data and find association among them. First, we check the correlation between features and labels."
   ]
  },
  {
   "cell_type": "code",
   "execution_count": 53,
   "metadata": {},
   "outputs": [],
   "source": [
    "# temp_df['Class'] = label_encoder.fit_transform(temp_df['Class'])\n",
    "# temp_df.corr()['Class'].sort_values()"
   ]
  },
  {
   "cell_type": "markdown",
   "metadata": {},
   "source": [
    "As shown above, the four features which have strongest relationship with Class are <b>Aspect_Ratio, Eccentricity, Major_Axis_Length and Perimeter</b>."
   ]
  },
  {
   "cell_type": "markdown",
   "metadata": {},
   "source": [
    "Then we display the correlations of each combination of two features."
   ]
  },
  {
   "cell_type": "code",
   "execution_count": 54,
   "metadata": {},
   "outputs": [],
   "source": [
    "# corr = temp_df.corr().round(2)\n",
    "# sns.heatmap(corr,cmap=\"rocket\",annot=True)"
   ]
  },
  {
   "cell_type": "markdown",
   "metadata": {},
   "source": [
    "The brighter the color is, the stronger the relationship between 2 variables.<br>\n",
    "Notably, 3 features have perfect positive correlation with each other: `Area`, `Convex_Area` and `Equiv_Diameter`. Since these features have almost the same correlations with `Class`, these features could be dropped from the training dataset.<br>\n",
    "Other closely correlated features are `Aspect_Ratio` and `Eccentricity` with $0.95$ correlation, then `Perimeter` with `Area`, `Convex_Area` and `Equiv_Diameter` with $0.93$ correlation. Meanwhile, `Compactness` and `Aspect_Ratio` are highly inversely correlated at $-0.99$ correlation, implying `Compactness` decreases with increasing `Aspect_Ratio`.\n",
    "\n",
    "Let’s plot some interesting pattern."
   ]
  },
  {
   "cell_type": "markdown",
   "metadata": {},
   "source": [
    "### The number of data in each class"
   ]
  },
  {
   "cell_type": "code",
   "execution_count": 55,
   "metadata": {},
   "outputs": [],
   "source": [
    "# g = sns.catplot(data=temp_df,x='Class',kind='count')\n",
    "# g.set_axis_labels(\"\", \"Number of seeds\")\n",
    "# g.set_xticklabels([\"Cercevelik\", \"Urgup Sivrisi\"])"
   ]
  },
  {
   "cell_type": "markdown",
   "metadata": {},
   "source": [
    "We can see that in the dataset, the number of instances classified as Çerçevelik seeds is slightly more than that of Ürgüp Sivrisi."
   ]
  },
  {
   "cell_type": "markdown",
   "metadata": {},
   "source": [
    "### Boxplot"
   ]
  },
  {
   "cell_type": "markdown",
   "metadata": {},
   "source": [
    "We display the relationship between Class and the first four features which have strongest relationship with it."
   ]
  },
  {
   "cell_type": "code",
   "execution_count": 56,
   "metadata": {},
   "outputs": [],
   "source": [
    "# # Boxplot\n",
    "# f = plt.figure(figsize=(12,8))\n",
    "\n",
    "# plt.subplot(2,2,1)\n",
    "# # Aspect_Ration vs Class\n",
    "# a=sns.boxplot(data=temp_df,x='Class',y='Aspect_Ratio')\n",
    "# a.set_xticklabels([\"Cercevelik\", \"Urgup Sivrisi\"])\n",
    "\n",
    "# plt.subplot(2,2,2)\n",
    "# # Eccentricity vs Class\n",
    "# b=sns.boxplot(data=temp_df,x='Class',y='Eccentricity')\n",
    "# b.set_xticklabels([\"Cercevelik\", \"Urgup Sivrisi\"])\n",
    "\n",
    "# plt.subplot(2,2,3)\n",
    "# # Major_Axis_Length vs Class\n",
    "# c=sns.boxplot(data=temp_df,x='Class',y='Major_Axis_Length')\n",
    "# c.set_xticklabels([\"Cercevelik\", \"Urgup Sivrisi\"])\n",
    "\n",
    "# plt.subplot(2,2,4)\n",
    "# # Perimeter vs Class\n",
    "# d=sns.boxplot(data=temp_df,x='Class',y='Perimeter')\n",
    "# d.set_xticklabels([\"Cercevelik\", \"Urgup Sivrisi\"])"
   ]
  },
  {
   "cell_type": "markdown",
   "metadata": {},
   "source": [
    "Ürgüp Sivrisi has a higher median in all 4 features. Since these features are related to shape and size, this may imply that Ürgüp Sivrisi seeds are generally bigger and more elongated than Çerçevelik seeds."
   ]
  },
  {
   "cell_type": "markdown",
   "metadata": {},
   "source": [
    "### Scatterplot"
   ]
  },
  {
   "cell_type": "markdown",
   "metadata": {},
   "source": [
    "As we can see from the correlation plot, some other combinations of the variables also show strong relationships (around 0.95). Let’s have a look at the four of them."
   ]
  },
  {
   "cell_type": "code",
   "execution_count": 57,
   "metadata": {},
   "outputs": [],
   "source": [
    "# #The relationships among other features\n",
    "# f = plt.figure(figsize=(16,12))\n",
    "# #Roundness vs. Compactness\n",
    "# plt.subplot(2,2,1)\n",
    "# sns.scatterplot(data=temp_df,x='Compactness', y='Roundness',hue='Class')\n",
    "# plt.grid()\n",
    "\n",
    "# #Perimeter vs. Major_Axis_Length\n",
    "# plt.subplot(2,2,2)\n",
    "# sns.scatterplot(data=temp_df,x='Perimeter', y='Major_Axis_Length',hue='Class')\n",
    "# plt.grid()\n",
    "\n",
    "# #Perimeter vs. Area\n",
    "# plt.subplot(2,2,3)\n",
    "# sns.scatterplot(data=temp_df,x='Perimeter', y='Area',hue='Class')\n",
    "# plt.grid()\n",
    "\n",
    "# #Perimeter vs. Convex_Area\n",
    "# plt.subplot(2,2,4)\n",
    "# sns.scatterplot(data=temp_df,x='Perimeter', y='Convex_Area',hue='Class')\n",
    "# plt.grid()"
   ]
  },
  {
   "cell_type": "markdown",
   "metadata": {},
   "source": [
    "The scatterplot is divided according to their class. As you can see two features got very strong relationships. While they don’t have strong relationships with **Class**, which can be seen from the distribution of orange and blue points, representing two different seed classes. The distribution of two classes doesn’t appear like cluster."
   ]
  },
  {
   "cell_type": "markdown",
   "metadata": {},
   "source": [
    "## **6** | **Initial Model Training**"
   ]
  },
  {
   "cell_type": "markdown",
   "metadata": {},
   "source": [
    "### *Model 1: K-Nearest Neighbors*"
   ]
  },
  {
   "cell_type": "markdown",
   "metadata": {},
   "source": [
    "<b>Setting up Libraries and Datasets</b>\n",
    "\n",
    "First, we import the needed libraries for KNN model training."
   ]
  },
  {
   "cell_type": "code",
   "execution_count": 58,
   "metadata": {},
   "outputs": [],
   "source": [
    "from sklearn.model_selection import train_test_split, cross_val_score\n",
    "from sklearn.neighbors import KNeighborsClassifier\n",
    "from sklearn.metrics import classification_report, confusion_matrix, accuracy_score # Evaluation metrics for later analysis"
   ]
  },
  {
   "cell_type": "markdown",
   "metadata": {},
   "source": [
    "We'll split the data to training set (70%) and testing set (30%). The training set will be used to train the model while the testing set will be used for evaluation of the model."
   ]
  },
  {
   "cell_type": "code",
   "execution_count": 59,
   "metadata": {},
   "outputs": [
    {
     "name": "stdout",
     "output_type": "stream",
     "text": [
      "Training Features (X_train):\n",
      " [[0.26154454 0.28994522 0.32398179 ... 0.59142857 0.44956657 0.39755885]\n",
      " [0.11275456 0.05150767 0.03912695 ... 0.87298701 0.17572781 0.73205464]\n",
      " [0.28294692 0.27203259 0.23053555 ... 0.69480519 0.28145513 0.58849172]\n",
      " ...\n",
      " [0.25996503 0.22470169 0.25160152 ... 0.77012987 0.33947988 0.51874455]\n",
      " [0.33038867 0.27929924 0.29133099 ... 0.79662338 0.32304455 0.53879686]\n",
      " [0.29046088 0.33104137 0.34768947 ... 0.55714286 0.44881495 0.39581517]]\n",
      "Training Labels (y_train):\n",
      " [0 0 0 ... 0 0 0]\n",
      "Testing Features (X_test):\n",
      " [[0.5803238  0.52078181 0.51605595 ... 0.70935065 0.39955905 0.45074106]\n",
      " [0.46750155 0.42055965 0.39749468 ... 0.73090909 0.3382773  0.51816332]\n",
      " [0.49841485 0.48096792 0.46795451 ... 0.64467532 0.40411886 0.44173205]\n",
      " ...\n",
      " [0.26437638 0.30036543 0.29173619 ... 0.57142857 0.39635216 0.45451904]\n",
      " [0.35894398 0.38222341 0.4074294  ... 0.58883117 0.4620935  0.38419064]\n",
      " [0.28870085 0.36542806 0.43875084 ... 0.46935065 0.59958912 0.26009881]]\n",
      "Testing Labels (y_test):\n",
      " [1 0 0 1 0 1 0 0 0 1 0 0 0 1 1 0 0 0 1 0 1 0 1 0 1 0 0 0 1 1 0 0 1 1 1 0 1\n",
      " 1 0 0 0 0 0 1 1 1 1 1 1 0 1 0 0 0 0 0 1 0 0 1 0 0 0 1 0 1 0 0 0 1 0 0 0 1\n",
      " 1 0 0 0 1 0 0 0 0 1 1 1 1 1 0 1 0 1 0 0 1 1 1 1 0 1 1 0 1 0 1 0 1 1 0 1 1\n",
      " 0 1 0 0 0 0 0 0 0 1 0 1 1 0 1 1 1 1 1 1 1 0 0 0 0 0 0 1 0 0 0 0 1 1 1 0 1\n",
      " 1 1 1 1 1 0 1 0 0 0 1 1 1 0 0 0 1 0 1 0 0 0 1 0 0 1 0 1 1 1 1 0 1 0 0 0 1\n",
      " 1 0 1 1 0 0 1 0 1 1 0 0 1 1 0 1 1 1 0 1 0 1 0 1 0 1 0 1 0 1 1 0 0 1 0 0 0\n",
      " 0 0 0 1 0 1 0 0 1 0 1 1 0 0 1 1 0 1 1 1 0 0 0 1 0 0 1 0 1 1 1 0 0 1 0 0 1\n",
      " 1 0 0 0 0 1 1 0 1 0 0 1 0 1 1 1 1 0 0 0 1 1 0 0 1 0 0 1 0 1 0 1 0 0 0 0 1\n",
      " 0 1 1 1 1 0 0 1 0 0 1 1 1 1 1 1 0 1 1 0 1 0 0 1 1 1 1 1 1 0 1 0 1 1 0 0 0\n",
      " 0 1 1 0 0 0 1 0 1 0 1 1 0 1 1 0 0 1 1 0 0 1 1 1 0 0 1 0 1 1 1 1 1 0 1 1 0\n",
      " 0 0 1 0 1 1 0 0 1 0 1 0 1 0 1 1 0 1 0 1 0 0 1 0 0 0 1 0 1 1 0 1 1 0 0 1 1\n",
      " 0 1 1 1 0 1 1 0 0 0 0 0 0 0 0 0 1 1 1 1 1 1 0 1 0 1 1 1 0 1 0 1 1 1 0 1 1\n",
      " 1 0 1 0 1 1 1 1 0 1 1 1 0 1 1 1 0 0 1 1 1 0 0 1 1 0 0 0 0 0 0 0 0 0 0 1 1\n",
      " 0 1 0 1 0 0 1 0 1 0 1 1 0 1 0 1 0 1 0 0 1 0 0 1 0 0 0 0 0 1 0 1 0 0 0 0 0\n",
      " 1 0 0 1 1 1 0 0 0 1 1 1 0 0 1 1 1 1 1 1 0 0 0 1 0 0 0 1 1 1 0 0 1 0 1 0 1\n",
      " 0 0 1 1 1 0 1 0 1 1 1 0 1 1 0 0 1 0 0 1 1 1 0 0 0 0 1 1 0 1 1 0 1 1 1 0 0\n",
      " 0 0 0 0 1 0 1 1 0 1 0 1 1 1 0 0 1 0 1 0 1 1 1 1 0 0 0 0 0 1 0 1 0 0 1 1 0\n",
      " 1 1 0 0 0 1 0 0 0 0 0 0 0 0 1 0 0 1 0 1 1 0 0 0 1 1 0 0 1 1 1 0 1 0 1 1 1\n",
      " 1 0 0 0 0 1 1 0 1 1 1 1 1 0 1 0 0 0 0 0 1 1 0 1 1 0 1 1 0 0 0 1 1 1 1 0 0\n",
      " 0 1 0 0 0 0 0 1 0 1 0 0 1 1 0 1 1 0 0 0 1 1 1 0 1 1 1 1 1 1 0 0 1 1 1 1 0\n",
      " 1 1 1 1 0 1 0 0 0 1]\n"
     ]
    }
   ],
   "source": [
    "X_train, X_test, y_train, y_test = train_test_split(X_norm, y, test_size=0.3, random_state=1)\n",
    "print(\"Training Features (X_train):\\n\", X_train)\n",
    "print(\"Training Labels (y_train):\\n\", y_train)\n",
    "print(\"Testing Features (X_test):\\n\", X_test)\n",
    "print(\"Testing Labels (y_test):\\n\", y_test)"
   ]
  },
  {
   "cell_type": "markdown",
   "metadata": {},
   "source": [
    "<b>Hyperparameter Tuning with Cross-Validation</b>\n",
    "\n",
    "In training the model, we'll need to find a good value for the hyperparameter `k`, the number of neighbors.\n",
    "We'll test values from 1-20 and get the average cross-validation accuracy of the model on each `k`. The accuracy will be stored in `accuracy_scores`."
   ]
  },
  {
   "cell_type": "code",
   "execution_count": 60,
   "metadata": {},
   "outputs": [],
   "source": [
    "k_choices = range(1, 21)\n",
    "accuracy_scores = []\n",
    "for k in k_choices:\n",
    "    knn = KNeighborsClassifier(n_neighbors=k) # Instantiate\n",
    "    score = cross_val_score(knn, X_train, y_train, cv=10).mean() # Get the avg cross-val accuracy\n",
    "    accuracy_scores.append(score)"
   ]
  },
  {
   "cell_type": "markdown",
   "metadata": {},
   "source": [
    "Let's plot the accuracy scores of each k."
   ]
  },
  {
   "cell_type": "code",
   "execution_count": 61,
   "metadata": {},
   "outputs": [
    {
     "data": {
      "image/png": "[encoded data removed]",
      "text/plain": [
       "<Figure size 640x480 with 1 Axes>"
      ]
     },
     "metadata": {},
     "output_type": "display_data"
    }
   ],
   "source": [
    "for i in range(len(accuracy_scores)):\n",
    "    plt.scatter(k_choices[i], accuracy_scores[i])\n",
    "plt.xlabel(\"k\")\n",
    "plt.ylabel(\"Cross-validation accuracy\")\n",
    "plt.title(\"Cross-validation on k\")\n",
    "plt.grid()\n",
    "plt.show()"
   ]
  },
  {
   "cell_type": "markdown",
   "metadata": {},
   "source": [
    "The best `k` seems to be between $12.5$ and $15.0$, with a cross-validation accuracy higher than 0.87. Now let's compute this based on the accuracy scores."
   ]
  },
  {
   "cell_type": "code",
   "execution_count": 62,
   "metadata": {},
   "outputs": [
    {
     "name": "stdout",
     "output_type": "stream",
     "text": [
      "Best k: 14\n",
      "Accuracy: 0.8742857142857143\n"
     ]
    }
   ],
   "source": [
    "best_k = k_choices[np.argmax(accuracy_scores)]\n",
    "print(\"Best k:\", best_k)\n",
    "print(\"Accuracy:\", max(accuracy_scores))"
   ]
  },
  {
   "cell_type": "markdown",
   "metadata": {},
   "source": [
    "Let's train the model using the best `k` ($14$)."
   ]
  },
  {
   "cell_type": "code",
   "execution_count": 63,
   "metadata": {},
   "outputs": [
    {
     "data": {
      "text/html": [
       "<style>#sk-container-id-1 {color: black;}#sk-container-id-1 pre{padding: 0;}#sk-container-id-1 div.sk-toggleable {background-color: white;}#sk-container-id-1 label.sk-toggleable__label {cursor: pointer;display: block;width: 100%;margin-bottom: 0;padding: 0.3em;box-sizing: border-box;text-align: center;}#sk-container-id-1 label.sk-toggleable__label-arrow:before {content: \"▸\";float: left;margin-right: 0.25em;color: #696969;}#sk-container-id-1 label.sk-toggleable__label-arrow:hover:before {color: black;}#sk-container-id-1 div.sk-estimator:hover label.sk-toggleable__label-arrow:before {color: black;}#sk-container-id-1 div.sk-toggleable__content {max-height: 0;max-width: 0;overflow: hidden;text-align: left;background-color: #f0f8ff;}#sk-container-id-1 div.sk-toggleable__content pre {margin: 0.2em;color: black;border-radius: 0.25em;background-color: #f0f8ff;}#sk-container-id-1 input.sk-toggleable__control:checked~div.sk-toggleable__content {max-height: 200px;max-width: 100%;overflow: auto;}#sk-container-id-1 input.sk-toggleable__control:checked~label.sk-toggleable__label-arrow:before {content: \"▾\";}#sk-container-id-1 div.sk-estimator input.sk-toggleable__control:checked~label.sk-toggleable__label {background-color: #d4ebff;}#sk-container-id-1 div.sk-label input.sk-toggleable__control:checked~label.sk-toggleable__label {background-color: #d4ebff;}#sk-container-id-1 input.sk-hidden--visually {border: 0;clip: rect(1px 1px 1px 1px);clip: rect(1px, 1px, 1px, 1px);height: 1px;margin: -1px;overflow: hidden;padding: 0;position: absolute;width: 1px;}#sk-container-id-1 div.sk-estimator {font-family: monospace;background-color: #f0f8ff;border: 1px dotted black;border-radius: 0.25em;box-sizing: border-box;margin-bottom: 0.5em;}#sk-container-id-1 div.sk-estimator:hover {background-color: #d4ebff;}#sk-container-id-1 div.sk-parallel-item::after {content: \"\";width: 100%;border-bottom: 1px solid gray;flex-grow: 1;}#sk-container-id-1 div.sk-label:hover label.sk-toggleable__label {background-color: #d4ebff;}#sk-container-id-1 div.sk-serial::before {content: \"\";position: absolute;border-left: 1px solid gray;box-sizing: border-box;top: 0;bottom: 0;left: 50%;z-index: 0;}#sk-container-id-1 div.sk-serial {display: flex;flex-direction: column;align-items: center;background-color: white;padding-right: 0.2em;padding-left: 0.2em;position: relative;}#sk-container-id-1 div.sk-item {position: relative;z-index: 1;}#sk-container-id-1 div.sk-parallel {display: flex;align-items: stretch;justify-content: center;background-color: white;position: relative;}#sk-container-id-1 div.sk-item::before, #sk-container-id-1 div.sk-parallel-item::before {content: \"\";position: absolute;border-left: 1px solid gray;box-sizing: border-box;top: 0;bottom: 0;left: 50%;z-index: -1;}#sk-container-id-1 div.sk-parallel-item {display: flex;flex-direction: column;z-index: 1;position: relative;background-color: white;}#sk-container-id-1 div.sk-parallel-item:first-child::after {align-self: flex-end;width: 50%;}#sk-container-id-1 div.sk-parallel-item:last-child::after {align-self: flex-start;width: 50%;}#sk-container-id-1 div.sk-parallel-item:only-child::after {width: 0;}#sk-container-id-1 div.sk-dashed-wrapped {border: 1px dashed gray;margin: 0 0.4em 0.5em 0.4em;box-sizing: border-box;padding-bottom: 0.4em;background-color: white;}#sk-container-id-1 div.sk-label label {font-family: monospace;font-weight: bold;display: inline-block;line-height: 1.2em;}#sk-container-id-1 div.sk-label-container {text-align: center;}#sk-container-id-1 div.sk-container {/* jupyter's `normalize.less` sets `[hidden] { display: none; }` but bootstrap.min.css set `[hidden] { display: none !important; }` so we also need the `!important` here to be able to override the default hidden behavior on the sphinx rendered scikit-learn.org. See: https://github.com/scikit-learn/scikit-learn/issues/21755 */display: inline-block !important;position: relative;}#sk-container-id-1 div.sk-text-repr-fallback {display: none;}</style><div id=\"sk-container-id-1\" class=\"sk-top-container\"><div class=\"sk-text-repr-fallback\"><pre>KNeighborsClassifier(n_neighbors=14)</pre><b>In a Jupyter environment, please rerun this cell to show the HTML representation or trust the notebook. <br />On GitHub, the HTML representation is unable to render, please try loading this page with nbviewer.org.</b></div><div class=\"sk-container\" hidden><div class=\"sk-item\"><div class=\"sk-estimator sk-toggleable\"><input class=\"sk-toggleable__control sk-hidden--visually\" id=\"sk-estimator-id-1\" type=\"checkbox\" checked><label for=\"sk-estimator-id-1\" class=\"sk-toggleable__label sk-toggleable__label-arrow\">KNeighborsClassifier</label><div class=\"sk-toggleable__content\"><pre>KNeighborsClassifier(n_neighbors=14)</pre></div></div></div></div></div>"
      ],
      "text/plain": [
       "KNeighborsClassifier(n_neighbors=14)"
      ]
     },
     "execution_count": 63,
     "metadata": {},
     "output_type": "execute_result"
    }
   ],
   "source": [
    "knn = KNeighborsClassifier(n_neighbors=best_k) # Instantiate with best k\n",
    "knn.fit(X_train, y_train) # Train"
   ]
  },
  {
   "cell_type": "markdown",
   "metadata": {},
   "source": [
    "Let's test the model on the testing data."
   ]
  },
  {
   "cell_type": "code",
   "execution_count": 64,
   "metadata": {},
   "outputs": [
    {
     "data": {
      "text/plain": [
       "array([0, 0, 0, 1, 0, 1, 0, 1, 0, 1, 0, 0, 1, 0, 1, 0, 0, 0, 1, 0, 0, 0,\n",
       "       1, 0, 1, 0, 0, 0, 1, 1, 0, 0, 1, 1, 1, 0, 0, 1, 0, 0, 0, 0, 0, 1,\n",
       "       1, 1, 1, 1, 1, 0, 1, 0, 0, 1, 1, 0, 0, 0, 0, 1, 1, 0, 0, 1, 0, 1,\n",
       "       0, 0, 0, 1, 0, 0, 0, 1, 0, 0, 0, 0, 1, 0, 0, 0, 0, 0, 1, 1, 1, 0,\n",
       "       0, 1, 0, 1, 0, 0, 0, 1, 1, 1, 0, 1, 1, 0, 0, 0, 0, 0, 1, 1, 0, 1,\n",
       "       1, 0, 1, 0, 0, 0, 0, 0, 0, 0, 1, 0, 1, 0, 0, 1, 1, 0, 1, 1, 1, 1,\n",
       "       0, 0, 0, 0, 0, 0, 1, 0, 0, 1, 0, 1, 1, 1, 0, 1, 1, 1, 1, 0, 1, 0,\n",
       "       1, 1, 0, 0, 1, 1, 1, 0, 0, 0, 1, 0, 0, 0, 1, 0, 1, 0, 0, 1, 0, 1,\n",
       "       1, 1, 1, 0, 1, 0, 0, 0, 1, 1, 0, 0, 0, 0, 0, 1, 0, 1, 1, 0, 0, 1,\n",
       "       1, 0, 1, 1, 1, 0, 1, 1, 1, 0, 1, 0, 1, 0, 0, 0, 1, 1, 0, 0, 1, 0,\n",
       "       0, 0, 0, 0, 0, 1, 0, 1, 0, 0, 1, 0, 0, 1, 0, 1, 1, 0, 0, 1, 1, 1,\n",
       "       0, 0, 0, 1, 0, 0, 1, 0, 1, 1, 1, 0, 1, 1, 0, 0, 1, 0, 0, 0, 0, 1,\n",
       "       1, 1, 0, 1, 0, 0, 1, 0, 1, 1, 1, 1, 1, 1, 0, 0, 1, 0, 0, 1, 0, 0,\n",
       "       1, 0, 1, 0, 1, 0, 0, 0, 0, 1, 0, 1, 0, 0, 1, 0, 0, 0, 0, 1, 1, 0,\n",
       "       1, 1, 1, 1, 0, 1, 1, 0, 1, 0, 0, 1, 1, 0, 0, 1, 1, 0, 0, 0, 1, 1,\n",
       "       0, 1, 1, 0, 1, 1, 0, 0, 1, 1, 0, 1, 0, 1, 0, 0, 1, 1, 0, 0, 1, 0,\n",
       "       0, 0, 1, 1, 0, 0, 0, 1, 0, 0, 1, 1, 1, 0, 0, 1, 1, 0, 0, 0, 0, 0,\n",
       "       0, 1, 0, 0, 1, 0, 0, 0, 1, 0, 0, 1, 0, 1, 0, 1, 0, 0, 1, 0, 0, 0,\n",
       "       1, 0, 1, 1, 0, 1, 1, 0, 0, 1, 1, 0, 1, 1, 1, 1, 1, 0, 0, 0, 0, 0,\n",
       "       0, 0, 0, 0, 0, 0, 1, 1, 1, 1, 1, 0, 1, 0, 1, 1, 1, 1, 1, 0, 1, 1,\n",
       "       0, 0, 1, 1, 1, 1, 0, 0, 1, 1, 1, 1, 0, 1, 1, 1, 0, 1, 0, 1, 0, 0,\n",
       "       1, 1, 1, 0, 0, 0, 1, 0, 0, 0, 0, 1, 0, 0, 0, 0, 0, 1, 1, 1, 1, 0,\n",
       "       1, 0, 0, 1, 1, 1, 0, 1, 1, 0, 1, 0, 1, 1, 1, 0, 0, 1, 0, 0, 1, 0,\n",
       "       0, 0, 0, 0, 1, 0, 1, 0, 1, 0, 0, 0, 0, 0, 0, 1, 1, 1, 0, 0, 0, 1,\n",
       "       0, 1, 0, 0, 1, 1, 1, 1, 1, 1, 0, 0, 0, 1, 0, 0, 0, 1, 1, 1, 0, 0,\n",
       "       1, 0, 1, 0, 1, 0, 0, 1, 1, 0, 0, 1, 0, 1, 1, 1, 0, 1, 1, 0, 0, 0,\n",
       "       0, 0, 1, 1, 0, 0, 0, 0, 0, 1, 1, 1, 1, 1, 0, 1, 1, 1, 0, 0, 0, 0,\n",
       "       0, 0, 1, 0, 1, 1, 0, 1, 0, 1, 1, 0, 0, 0, 1, 0, 1, 0, 0, 0, 0, 1,\n",
       "       0, 0, 0, 0, 0, 1, 0, 1, 0, 0, 1, 1, 0, 0, 1, 0, 0, 0, 1, 0, 0, 0,\n",
       "       0, 0, 0, 0, 0, 1, 0, 0, 1, 0, 0, 1, 1, 0, 0, 1, 1, 0, 0, 1, 0, 1,\n",
       "       0, 1, 1, 0, 1, 1, 1, 0, 0, 0, 0, 1, 1, 0, 1, 1, 1, 1, 1, 0, 1, 0,\n",
       "       1, 0, 1, 0, 1, 1, 0, 0, 0, 0, 0, 1, 0, 0, 1, 1, 1, 1, 1, 0, 0, 0,\n",
       "       1, 0, 0, 0, 0, 0, 0, 0, 1, 0, 0, 0, 1, 0, 1, 1, 0, 0, 0, 1, 1, 1,\n",
       "       0, 1, 1, 0, 1, 1, 1, 0, 0, 1, 1, 1, 0, 0, 1, 1, 1, 1, 0, 0, 0, 0,\n",
       "       1, 1])"
      ]
     },
     "execution_count": 64,
     "metadata": {},
     "output_type": "execute_result"
    }
   ],
   "source": [
    "y_pred = knn.predict(X_test)\n",
    "y_pred"
   ]
  },
  {
   "cell_type": "markdown",
   "metadata": {},
   "source": [
    "### *Model 2: Decision Tree*"
   ]
  },
  {
   "cell_type": "markdown",
   "metadata": {},
   "source": [
    "Importing the libraries needed for decision tree classifier -> **TO MOVE TO SECTION 3**"
   ]
  },
  {
   "cell_type": "code",
   "execution_count": 65,
   "metadata": {},
   "outputs": [],
   "source": [
    "from sklearn import tree\n",
    "from sklearn.tree import DecisionTreeClassifier\n",
    "from sklearn.model_selection import RandomizedSearchCV"
   ]
  },
  {
   "cell_type": "markdown",
   "metadata": {},
   "source": [
    "As we have a classification problem in our hands, we will be using the `DecisionTreeClassifier` library from `sklearn` for training our decision tree model on the pumpkin seeds dataset."
   ]
  },
  {
   "cell_type": "markdown",
   "metadata": {},
   "source": [
    "<span style=\"color:red\">why decision tree?</span>"
   ]
  },
  {
   "cell_type": "markdown",
   "metadata": {},
   "source": [
    "In the following cell, we will be splitting our train (70%) and test (30%) data. It is enough to use the original, non-normalized data for decision trees as normalization does not affect the performance of the model."
   ]
  },
  {
   "cell_type": "markdown",
   "metadata": {},
   "source": [
    "*On data normalization:* <br> https://forecastegy.com/posts/do-decision-trees-need-feature-scaling-or-normalization/ <br>\n",
    "https://sebastianraschka.com/faq/docs/when-to-standardize.html"
   ]
  },
  {
   "cell_type": "code",
   "execution_count": 66,
   "metadata": {},
   "outputs": [],
   "source": [
    "dt_X_train, dt_X_test, dt_y_train, dt_y_test = train_test_split(X,y,test_size=0.3,random_state=1)\n",
    "# print(\"X train: \\n\" + str(X_train))\n",
    "# print(\"y train: \\n\" + str(y_train))\n",
    "# print(\"X test: \\n\" + str(X_test))\n",
    "# print(\"y test: \\n\" + str(y_test))"
   ]
  },
  {
   "cell_type": "code",
   "execution_count": 67,
   "metadata": {},
   "outputs": [
    {
     "name": "stdout",
     "output_type": "stream",
     "text": [
      "X_train shape :  (1750, 12)\n",
      "y_train shape :  (1750,)\n",
      "X_test shape :  (750, 12)\n",
      "y_test shape :  (750,)\n"
     ]
    }
   ],
   "source": [
    "print(\"X_train shape : \", dt_X_train.shape)\n",
    "print(\"y_train shape : \", dt_y_train.shape)\n",
    "print(\"X_test shape : \", dt_X_test.shape)\n",
    "print(\"y_test shape : \", dt_y_test.shape)"
   ]
  },
  {
   "cell_type": "markdown",
   "metadata": {},
   "source": [
    "After splitting, we end up with training data that has 1750 instances and test data with 750 instances."
   ]
  },
  {
   "cell_type": "markdown",
   "metadata": {},
   "source": [
    "For this part of the decision tree modeling, we will be using the default parameters for the `DecisionTreeClassifier` to see its baseline performance. In the following cell, we will be defining our decision tree as `pumpkin_dt`."
   ]
  },
  {
   "cell_type": "code",
   "execution_count": 68,
   "metadata": {},
   "outputs": [],
   "source": [
    "pumpkin_dt = DecisionTreeClassifier()"
   ]
  },
  {
   "cell_type": "markdown",
   "metadata": {},
   "source": [
    "We will be fitting the decision tree model on the training data and creating predictions on the test data in the following cells."
   ]
  },
  {
   "cell_type": "code",
   "execution_count": 69,
   "metadata": {},
   "outputs": [
    {
     "data": {
      "text/html": [
       "<style>#sk-container-id-2 {color: black;}#sk-container-id-2 pre{padding: 0;}#sk-container-id-2 div.sk-toggleable {background-color: white;}#sk-container-id-2 label.sk-toggleable__label {cursor: pointer;display: block;width: 100%;margin-bottom: 0;padding: 0.3em;box-sizing: border-box;text-align: center;}#sk-container-id-2 label.sk-toggleable__label-arrow:before {content: \"▸\";float: left;margin-right: 0.25em;color: #696969;}#sk-container-id-2 label.sk-toggleable__label-arrow:hover:before {color: black;}#sk-container-id-2 div.sk-estimator:hover label.sk-toggleable__label-arrow:before {color: black;}#sk-container-id-2 div.sk-toggleable__content {max-height: 0;max-width: 0;overflow: hidden;text-align: left;background-color: #f0f8ff;}#sk-container-id-2 div.sk-toggleable__content pre {margin: 0.2em;color: black;border-radius: 0.25em;background-color: #f0f8ff;}#sk-container-id-2 input.sk-toggleable__control:checked~div.sk-toggleable__content {max-height: 200px;max-width: 100%;overflow: auto;}#sk-container-id-2 input.sk-toggleable__control:checked~label.sk-toggleable__label-arrow:before {content: \"▾\";}#sk-container-id-2 div.sk-estimator input.sk-toggleable__control:checked~label.sk-toggleable__label {background-color: #d4ebff;}#sk-container-id-2 div.sk-label input.sk-toggleable__control:checked~label.sk-toggleable__label {background-color: #d4ebff;}#sk-container-id-2 input.sk-hidden--visually {border: 0;clip: rect(1px 1px 1px 1px);clip: rect(1px, 1px, 1px, 1px);height: 1px;margin: -1px;overflow: hidden;padding: 0;position: absolute;width: 1px;}#sk-container-id-2 div.sk-estimator {font-family: monospace;background-color: #f0f8ff;border: 1px dotted black;border-radius: 0.25em;box-sizing: border-box;margin-bottom: 0.5em;}#sk-container-id-2 div.sk-estimator:hover {background-color: #d4ebff;}#sk-container-id-2 div.sk-parallel-item::after {content: \"\";width: 100%;border-bottom: 1px solid gray;flex-grow: 1;}#sk-container-id-2 div.sk-label:hover label.sk-toggleable__label {background-color: #d4ebff;}#sk-container-id-2 div.sk-serial::before {content: \"\";position: absolute;border-left: 1px solid gray;box-sizing: border-box;top: 0;bottom: 0;left: 50%;z-index: 0;}#sk-container-id-2 div.sk-serial {display: flex;flex-direction: column;align-items: center;background-color: white;padding-right: 0.2em;padding-left: 0.2em;position: relative;}#sk-container-id-2 div.sk-item {position: relative;z-index: 1;}#sk-container-id-2 div.sk-parallel {display: flex;align-items: stretch;justify-content: center;background-color: white;position: relative;}#sk-container-id-2 div.sk-item::before, #sk-container-id-2 div.sk-parallel-item::before {content: \"\";position: absolute;border-left: 1px solid gray;box-sizing: border-box;top: 0;bottom: 0;left: 50%;z-index: -1;}#sk-container-id-2 div.sk-parallel-item {display: flex;flex-direction: column;z-index: 1;position: relative;background-color: white;}#sk-container-id-2 div.sk-parallel-item:first-child::after {align-self: flex-end;width: 50%;}#sk-container-id-2 div.sk-parallel-item:last-child::after {align-self: flex-start;width: 50%;}#sk-container-id-2 div.sk-parallel-item:only-child::after {width: 0;}#sk-container-id-2 div.sk-dashed-wrapped {border: 1px dashed gray;margin: 0 0.4em 0.5em 0.4em;box-sizing: border-box;padding-bottom: 0.4em;background-color: white;}#sk-container-id-2 div.sk-label label {font-family: monospace;font-weight: bold;display: inline-block;line-height: 1.2em;}#sk-container-id-2 div.sk-label-container {text-align: center;}#sk-container-id-2 div.sk-container {/* jupyter's `normalize.less` sets `[hidden] { display: none; }` but bootstrap.min.css set `[hidden] { display: none !important; }` so we also need the `!important` here to be able to override the default hidden behavior on the sphinx rendered scikit-learn.org. See: https://github.com/scikit-learn/scikit-learn/issues/21755 */display: inline-block !important;position: relative;}#sk-container-id-2 div.sk-text-repr-fallback {display: none;}</style><div id=\"sk-container-id-2\" class=\"sk-top-container\"><div class=\"sk-text-repr-fallback\"><pre>DecisionTreeClassifier()</pre><b>In a Jupyter environment, please rerun this cell to show the HTML representation or trust the notebook. <br />On GitHub, the HTML representation is unable to render, please try loading this page with nbviewer.org.</b></div><div class=\"sk-container\" hidden><div class=\"sk-item\"><div class=\"sk-estimator sk-toggleable\"><input class=\"sk-toggleable__control sk-hidden--visually\" id=\"sk-estimator-id-2\" type=\"checkbox\" checked><label for=\"sk-estimator-id-2\" class=\"sk-toggleable__label sk-toggleable__label-arrow\">DecisionTreeClassifier</label><div class=\"sk-toggleable__content\"><pre>DecisionTreeClassifier()</pre></div></div></div></div></div>"
      ],
      "text/plain": [
       "DecisionTreeClassifier()"
      ]
     },
     "execution_count": 69,
     "metadata": {},
     "output_type": "execute_result"
    }
   ],
   "source": [
    "# Fit the model\n",
    "pumpkin_dt.fit(dt_X_train, dt_y_train)"
   ]
  },
  {
   "cell_type": "code",
   "execution_count": 70,
   "metadata": {},
   "outputs": [
    {
     "data": {
      "text/plain": [
       "array([1, 1, 0, 1, 0, 1, 0, 1, 0, 0, 0, 0, 1, 0, 1, 1, 0, 0, 1, 0, 1, 0,\n",
       "       1, 0, 1, 0, 0, 0, 1, 1, 1, 0, 0, 1, 1, 0, 1, 1, 0, 0, 0, 0, 0, 1,\n",
       "       1, 1, 0, 1, 1, 0, 1, 0, 0, 0, 1, 0, 0, 0, 1, 1, 1, 0, 0, 1, 0, 1,\n",
       "       0, 0, 0, 1, 0, 1, 0, 1, 0, 0, 0, 0, 1, 1, 0, 1, 0, 0, 1, 0, 1, 1,\n",
       "       0, 1, 0, 1, 0, 0, 0, 1, 1, 1, 0, 1, 1, 0, 0, 0, 0, 0, 1, 1, 1, 0,\n",
       "       1, 0, 1, 0, 0, 0, 0, 1, 0, 0, 1, 0, 1, 0, 0, 1, 1, 0, 1, 1, 1, 1,\n",
       "       0, 1, 0, 0, 0, 0, 1, 0, 0, 1, 0, 1, 1, 1, 0, 1, 1, 1, 1, 0, 1, 0,\n",
       "       1, 1, 0, 0, 1, 1, 1, 0, 1, 0, 1, 0, 0, 1, 1, 0, 1, 0, 0, 1, 0, 1,\n",
       "       1, 1, 1, 0, 1, 0, 0, 0, 1, 1, 1, 0, 1, 0, 0, 1, 0, 1, 1, 1, 0, 1,\n",
       "       1, 0, 1, 1, 1, 1, 1, 0, 1, 0, 1, 0, 1, 1, 1, 0, 1, 1, 0, 0, 1, 1,\n",
       "       0, 0, 0, 0, 1, 1, 0, 1, 0, 0, 1, 0, 0, 1, 0, 0, 1, 0, 0, 1, 0, 1,\n",
       "       0, 0, 0, 1, 0, 0, 1, 0, 1, 1, 1, 0, 0, 1, 0, 0, 1, 0, 0, 0, 0, 0,\n",
       "       1, 1, 0, 1, 0, 0, 1, 0, 1, 0, 1, 1, 1, 0, 0, 0, 1, 0, 0, 1, 0, 0,\n",
       "       1, 0, 1, 0, 0, 0, 0, 0, 0, 1, 0, 1, 1, 0, 1, 0, 0, 1, 1, 1, 1, 1,\n",
       "       1, 1, 1, 1, 0, 1, 1, 1, 1, 0, 0, 1, 1, 1, 1, 1, 1, 0, 1, 0, 1, 1,\n",
       "       0, 0, 1, 0, 1, 1, 0, 0, 0, 1, 0, 1, 0, 1, 1, 0, 1, 1, 1, 0, 1, 0,\n",
       "       1, 0, 1, 1, 1, 0, 0, 1, 0, 0, 1, 1, 1, 0, 1, 1, 1, 0, 0, 0, 0, 0,\n",
       "       0, 1, 0, 0, 1, 0, 0, 1, 1, 0, 0, 0, 0, 0, 0, 0, 1, 1, 1, 0, 0, 1,\n",
       "       0, 0, 1, 1, 0, 0, 0, 0, 0, 0, 1, 0, 1, 1, 1, 1, 1, 0, 0, 0, 0, 0,\n",
       "       1, 0, 0, 0, 0, 1, 1, 1, 1, 1, 1, 0, 1, 0, 1, 1, 1, 1, 1, 0, 1, 1,\n",
       "       0, 0, 1, 1, 1, 0, 0, 0, 1, 1, 1, 1, 1, 1, 1, 1, 0, 1, 0, 1, 0, 0,\n",
       "       1, 1, 1, 0, 0, 1, 1, 0, 0, 0, 0, 1, 0, 0, 0, 1, 0, 1, 1, 1, 1, 0,\n",
       "       1, 0, 0, 1, 0, 1, 0, 1, 1, 1, 1, 0, 1, 1, 1, 1, 0, 1, 0, 0, 0, 0,\n",
       "       0, 0, 1, 0, 1, 1, 0, 0, 0, 0, 0, 0, 0, 0, 0, 1, 1, 1, 0, 1, 0, 1,\n",
       "       1, 1, 0, 0, 1, 1, 1, 0, 1, 1, 0, 0, 0, 1, 0, 1, 0, 1, 1, 1, 1, 0,\n",
       "       1, 0, 1, 0, 0, 0, 0, 1, 1, 0, 0, 1, 0, 1, 1, 1, 0, 1, 1, 0, 0, 1,\n",
       "       0, 1, 1, 1, 1, 0, 0, 0, 0, 1, 1, 1, 1, 1, 1, 1, 1, 0, 0, 0, 0, 0,\n",
       "       0, 0, 1, 1, 1, 0, 0, 1, 1, 1, 1, 1, 1, 0, 1, 0, 1, 0, 1, 0, 0, 1,\n",
       "       0, 0, 0, 0, 0, 1, 0, 1, 0, 0, 1, 1, 0, 1, 1, 0, 0, 0, 1, 0, 0, 1,\n",
       "       0, 1, 0, 0, 0, 1, 0, 0, 1, 0, 0, 1, 1, 0, 0, 1, 0, 1, 1, 1, 1, 1,\n",
       "       0, 1, 1, 1, 1, 1, 1, 0, 0, 0, 0, 1, 1, 0, 1, 1, 1, 1, 1, 0, 1, 0,\n",
       "       1, 0, 1, 0, 1, 1, 1, 0, 0, 0, 0, 0, 0, 0, 1, 1, 1, 1, 0, 0, 0, 1,\n",
       "       1, 0, 0, 0, 0, 0, 0, 1, 1, 0, 0, 0, 1, 0, 1, 1, 0, 0, 0, 0, 1, 1,\n",
       "       0, 1, 1, 0, 1, 1, 1, 0, 0, 1, 1, 1, 1, 0, 1, 1, 1, 1, 0, 1, 0, 0,\n",
       "       0, 1])"
      ]
     },
     "execution_count": 70,
     "metadata": {},
     "output_type": "execute_result"
    }
   ],
   "source": [
    "# Test predictions\n",
    "pumpkin_dt_test_preds = pumpkin_dt.predict(dt_X_test)\n",
    "pumpkin_dt_test_preds"
   ]
  },
  {
   "cell_type": "markdown",
   "metadata": {},
   "source": [
    "Now that we have fitted the decision tree model and created predictions on our test data, we can describe and visualize our tree."
   ]
  },
  {
   "cell_type": "markdown",
   "metadata": {},
   "source": [
    "The following cell contains the definition of the function for describing the decisiont tree. The tree structure description is taken from this page in scikit-learn: <br> https://scikit-learn.org/stable/auto_examples/tree/plot_unveil_tree_structure.html#sphx-glr-auto-examples-tree-plot-unveil-tree-structure-py"
   ]
  },
  {
   "cell_type": "code",
   "execution_count": 71,
   "metadata": {},
   "outputs": [],
   "source": [
    "def describe_tree(clf):\n",
    "    n_nodes = clf.tree_.node_count\n",
    "    children_left = clf.tree_.children_left\n",
    "    children_right = clf.tree_.children_right\n",
    "    feature = clf.tree_.feature\n",
    "    threshold = clf.tree_.threshold\n",
    "    values = clf.tree_.value\n",
    "\n",
    "    node_depth = np.zeros(shape=n_nodes, dtype=np.int64)\n",
    "    is_leaves = np.zeros(shape=n_nodes, dtype=bool)\n",
    "    stack = [(0, 0)]  # start with the root node id (0) and its depth (0)\n",
    "    while len(stack) > 0:\n",
    "        # `pop` ensures each node is only visited once\n",
    "        node_id, depth = stack.pop()\n",
    "        node_depth[node_id] = depth\n",
    "\n",
    "        # If the left and right child of a node is not the same we have a split\n",
    "        # node\n",
    "        is_split_node = children_left[node_id] != children_right[node_id]\n",
    "        # If a split node, append left and right children and depth to `stack`\n",
    "        # so we can loop through them\n",
    "        if is_split_node:\n",
    "            stack.append((children_left[node_id], depth + 1))\n",
    "            stack.append((children_right[node_id], depth + 1))\n",
    "        else:\n",
    "            is_leaves[node_id] = True\n",
    "\n",
    "    print(\n",
    "        \"The binary tree structure has {n} nodes and has \"\n",
    "        \"the following tree structure:\\n\".format(n=n_nodes)\n",
    "    )\n",
    "    for i in range(n_nodes):\n",
    "        if is_leaves[i]:\n",
    "            print(\n",
    "                \"{space}node={node} is a leaf node, values: {values}.\".format(\n",
    "                    space=node_depth[i] * \"\\t\", node=i, values=values[i]\n",
    "                )\n",
    "            )\n",
    "        else:\n",
    "            print(\n",
    "                \"{space}node={node} is a split node: \"\n",
    "                \"go to node {left} if X[:, {feature}] <= {threshold} \"\n",
    "                \"else to node {right}.\".format(\n",
    "                    space=node_depth[i] * \"\\t\",\n",
    "                    node=i,\n",
    "                    left=children_left[i],\n",
    "                    feature=feature[i],\n",
    "                    threshold=threshold[i],\n",
    "                    right=children_right[i],\n",
    "                )\n",
    "            )"
   ]
  },
  {
   "cell_type": "code",
   "execution_count": 72,
   "metadata": {},
   "outputs": [
    {
     "name": "stdout",
     "output_type": "stream",
     "text": [
      "The binary tree structure has 369 nodes and has the following tree structure:\n",
      "\n",
      "node=0 is a split node: go to node 1 if X[:, 6] <= 0.8713499903678894 else to node 246.\n",
      "\tnode=1 is a split node: go to node 2 if X[:, 10] <= 1.905049979686737 else to node 139.\n",
      "\t\tnode=2 is a split node: go to node 3 if X[:, 0] <= 107589.5 else to node 138.\n",
      "\t\t\tnode=3 is a split node: go to node 4 if X[:, 11] <= 0.7415499985218048 else to node 77.\n",
      "\t\t\t\tnode=4 is a split node: go to node 5 if X[:, 8] <= 0.6166499853134155 else to node 6.\n",
      "\t\t\t\t\tnode=5 is a leaf node, values: [[0. 3.]].\n",
      "\t\t\t\t\tnode=6 is a split node: go to node 7 if X[:, 3] <= 259.89634704589844 else to node 66.\n",
      "\t\t\t\t\t\tnode=7 is a split node: go to node 8 if X[:, 7] <= 0.9917500019073486 else to node 53.\n",
      "\t\t\t\t\t\t\tnode=8 is a split node: go to node 9 if X[:, 3] <= 203.00475311279297 else to node 12.\n",
      "\t\t\t\t\t\t\t\tnode=9 is a split node: go to node 10 if X[:, 1] <= 937.7369995117188 else to node 11.\n",
      "\t\t\t\t\t\t\t\t\tnode=10 is a leaf node, values: [[3. 0.]].\n",
      "\t\t\t\t\t\t\t\t\tnode=11 is a leaf node, values: [[0. 3.]].\n",
      "\t\t\t\t\t\t\t\tnode=12 is a split node: go to node 13 if X[:, 9] <= 0.7512499988079071 else to node 16.\n",
      "\t\t\t\t\t\t\t\t\tnode=13 is a split node: go to node 14 if X[:, 5] <= 291.9107971191406 else to node 15.\n",
      "\t\t\t\t\t\t\t\t\t\tnode=14 is a leaf node, values: [[2. 0.]].\n",
      "\t\t\t\t\t\t\t\t\t\tnode=15 is a leaf node, values: [[0. 2.]].\n",
      "\t\t\t\t\t\t\t\t\tnode=16 is a split node: go to node 17 if X[:, 6] <= 0.8322999775409698 else to node 20.\n",
      "\t\t\t\t\t\t\t\t\t\tnode=17 is a split node: go to node 18 if X[:, 3] <= 221.52615356445312 else to node 19.\n",
      "\t\t\t\t\t\t\t\t\t\t\tnode=18 is a leaf node, values: [[1. 0.]].\n",
      "\t\t\t\t\t\t\t\t\t\t\tnode=19 is a leaf node, values: [[0. 1.]].\n",
      "\t\t\t\t\t\t\t\t\t\tnode=20 is a split node: go to node 21 if X[:, 3] <= 248.90660095214844 else to node 46.\n",
      "\t\t\t\t\t\t\t\t\t\t\tnode=21 is a split node: go to node 22 if X[:, 8] <= 0.6376999914646149 else to node 25.\n",
      "\t\t\t\t\t\t\t\t\t\t\t\tnode=22 is a split node: go to node 23 if X[:, 9] <= 0.8197499811649323 else to node 24.\n",
      "\t\t\t\t\t\t\t\t\t\t\t\t\tnode=23 is a leaf node, values: [[2. 0.]].\n",
      "\t\t\t\t\t\t\t\t\t\t\t\t\tnode=24 is a leaf node, values: [[0. 1.]].\n",
      "\t\t\t\t\t\t\t\t\t\t\t\tnode=25 is a split node: go to node 26 if X[:, 8] <= 0.7470000088214874 else to node 39.\n",
      "\t\t\t\t\t\t\t\t\t\t\t\t\tnode=26 is a split node: go to node 27 if X[:, 11] <= 0.7409500181674957 else to node 36.\n",
      "\t\t\t\t\t\t\t\t\t\t\t\t\t\tnode=27 is a split node: go to node 28 if X[:, 7] <= 0.9851999878883362 else to node 31.\n",
      "\t\t\t\t\t\t\t\t\t\t\t\t\t\t\tnode=28 is a split node: go to node 29 if X[:, 7] <= 0.9850499927997589 else to node 30.\n",
      "\t\t\t\t\t\t\t\t\t\t\t\t\t\t\t\tnode=29 is a leaf node, values: [[11.  0.]].\n",
      "\t\t\t\t\t\t\t\t\t\t\t\t\t\t\t\tnode=30 is a leaf node, values: [[0. 1.]].\n",
      "\t\t\t\t\t\t\t\t\t\t\t\t\t\t\tnode=31 is a split node: go to node 32 if X[:, 1] <= 1138.6589965820312 else to node 33.\n",
      "\t\t\t\t\t\t\t\t\t\t\t\t\t\t\t\tnode=32 is a leaf node, values: [[106.   0.]].\n",
      "\t\t\t\t\t\t\t\t\t\t\t\t\t\t\t\tnode=33 is a split node: go to node 34 if X[:, 1] <= 1143.4285278320312 else to node 35.\n",
      "\t\t\t\t\t\t\t\t\t\t\t\t\t\t\t\t\tnode=34 is a leaf node, values: [[0. 1.]].\n",
      "\t\t\t\t\t\t\t\t\t\t\t\t\t\t\t\t\tnode=35 is a leaf node, values: [[17.  0.]].\n",
      "\t\t\t\t\t\t\t\t\t\t\t\t\t\tnode=36 is a split node: go to node 37 if X[:, 4] <= 68869.5 else to node 38.\n",
      "\t\t\t\t\t\t\t\t\t\t\t\t\t\t\tnode=37 is a leaf node, values: [[0. 1.]].\n",
      "\t\t\t\t\t\t\t\t\t\t\t\t\t\t\tnode=38 is a leaf node, values: [[5. 0.]].\n",
      "\t\t\t\t\t\t\t\t\t\t\t\t\tnode=39 is a split node: go to node 40 if X[:, 8] <= 0.7475500106811523 else to node 41.\n",
      "\t\t\t\t\t\t\t\t\t\t\t\t\t\tnode=40 is a leaf node, values: [[0. 1.]].\n",
      "\t\t\t\t\t\t\t\t\t\t\t\t\t\tnode=41 is a split node: go to node 42 if X[:, 8] <= 0.7515999972820282 else to node 45.\n",
      "\t\t\t\t\t\t\t\t\t\t\t\t\t\t\tnode=42 is a split node: go to node 43 if X[:, 8] <= 0.7505500018596649 else to node 44.\n",
      "\t\t\t\t\t\t\t\t\t\t\t\t\t\t\t\tnode=43 is a leaf node, values: [[3. 0.]].\n",
      "\t\t\t\t\t\t\t\t\t\t\t\t\t\t\t\tnode=44 is a leaf node, values: [[0. 1.]].\n",
      "\t\t\t\t\t\t\t\t\t\t\t\t\t\t\tnode=45 is a leaf node, values: [[9. 0.]].\n",
      "\t\t\t\t\t\t\t\t\t\t\tnode=46 is a split node: go to node 47 if X[:, 1] <= 1193.2324829101562 else to node 52.\n",
      "\t\t\t\t\t\t\t\t\t\t\t\tnode=47 is a split node: go to node 48 if X[:, 6] <= 0.8361499905586243 else to node 49.\n",
      "\t\t\t\t\t\t\t\t\t\t\t\t\tnode=48 is a leaf node, values: [[5. 0.]].\n",
      "\t\t\t\t\t\t\t\t\t\t\t\t\tnode=49 is a split node: go to node 50 if X[:, 8] <= 0.6629000008106232 else to node 51.\n",
      "\t\t\t\t\t\t\t\t\t\t\t\t\t\tnode=50 is a leaf node, values: [[1. 0.]].\n",
      "\t\t\t\t\t\t\t\t\t\t\t\t\t\tnode=51 is a leaf node, values: [[0. 4.]].\n",
      "\t\t\t\t\t\t\t\t\t\t\t\tnode=52 is a leaf node, values: [[15.  0.]].\n",
      "\t\t\t\t\t\t\tnode=53 is a split node: go to node 54 if X[:, 9] <= 0.8329499959945679 else to node 59.\n",
      "\t\t\t\t\t\t\t\tnode=54 is a split node: go to node 55 if X[:, 7] <= 0.9920499920845032 else to node 58.\n",
      "\t\t\t\t\t\t\t\t\tnode=55 is a split node: go to node 56 if X[:, 8] <= 0.7358999848365784 else to node 57.\n",
      "\t\t\t\t\t\t\t\t\t\tnode=56 is a leaf node, values: [[6. 0.]].\n",
      "\t\t\t\t\t\t\t\t\t\tnode=57 is a leaf node, values: [[0. 2.]].\n",
      "\t\t\t\t\t\t\t\t\tnode=58 is a leaf node, values: [[0. 5.]].\n",
      "\t\t\t\t\t\t\t\tnode=59 is a split node: go to node 60 if X[:, 7] <= 0.993149995803833 else to node 61.\n",
      "\t\t\t\t\t\t\t\t\tnode=60 is a leaf node, values: [[17.  0.]].\n",
      "\t\t\t\t\t\t\t\t\tnode=61 is a split node: go to node 62 if X[:, 2] <= 441.6311492919922 else to node 63.\n",
      "\t\t\t\t\t\t\t\t\t\tnode=62 is a leaf node, values: [[2. 0.]].\n",
      "\t\t\t\t\t\t\t\t\t\tnode=63 is a split node: go to node 64 if X[:, 0] <= 94549.0 else to node 65.\n",
      "\t\t\t\t\t\t\t\t\t\t\tnode=64 is a leaf node, values: [[0. 3.]].\n",
      "\t\t\t\t\t\t\t\t\t\t\tnode=65 is a leaf node, values: [[1. 0.]].\n",
      "\t\t\t\t\t\tnode=66 is a split node: go to node 67 if X[:, 1] <= 1277.5075073242188 else to node 76.\n",
      "\t\t\t\t\t\t\tnode=67 is a split node: go to node 68 if X[:, 9] <= 0.8197499811649323 else to node 69.\n",
      "\t\t\t\t\t\t\t\tnode=68 is a leaf node, values: [[0. 5.]].\n",
      "\t\t\t\t\t\t\t\tnode=69 is a split node: go to node 70 if X[:, 6] <= 0.8380999863147736 else to node 71.\n",
      "\t\t\t\t\t\t\t\t\tnode=70 is a leaf node, values: [[4. 0.]].\n",
      "\t\t\t\t\t\t\t\t\tnode=71 is a split node: go to node 72 if X[:, 7] <= 0.9908500015735626 else to node 75.\n",
      "\t\t\t\t\t\t\t\t\t\tnode=72 is a split node: go to node 73 if X[:, 6] <= 0.838949978351593 else to node 74.\n",
      "\t\t\t\t\t\t\t\t\t\t\tnode=73 is a leaf node, values: [[0. 1.]].\n",
      "\t\t\t\t\t\t\t\t\t\t\tnode=74 is a leaf node, values: [[2. 0.]].\n",
      "\t\t\t\t\t\t\t\t\t\tnode=75 is a leaf node, values: [[0. 3.]].\n",
      "\t\t\t\t\t\t\tnode=76 is a leaf node, values: [[4. 0.]].\n",
      "\t\t\t\tnode=77 is a split node: go to node 78 if X[:, 8] <= 0.7567499876022339 else to node 129.\n",
      "\t\t\t\t\tnode=78 is a split node: go to node 79 if X[:, 8] <= 0.6481499969959259 else to node 82.\n",
      "\t\t\t\t\t\tnode=79 is a split node: go to node 80 if X[:, 4] <= 65445.0 else to node 81.\n",
      "\t\t\t\t\t\t\tnode=80 is a leaf node, values: [[0. 1.]].\n",
      "\t\t\t\t\t\t\tnode=81 is a leaf node, values: [[2. 0.]].\n",
      "\t\t\t\t\t\tnode=82 is a split node: go to node 83 if X[:, 7] <= 0.993149995803833 else to node 124.\n",
      "\t\t\t\t\t\t\tnode=83 is a split node: go to node 84 if X[:, 7] <= 0.9906499981880188 else to node 95.\n",
      "\t\t\t\t\t\t\t\tnode=84 is a split node: go to node 85 if X[:, 7] <= 0.9861499965190887 else to node 94.\n",
      "\t\t\t\t\t\t\t\t\tnode=85 is a split node: go to node 86 if X[:, 8] <= 0.7496999800205231 else to node 91.\n",
      "\t\t\t\t\t\t\t\t\t\tnode=86 is a split node: go to node 87 if X[:, 11] <= 0.7466500103473663 else to node 90.\n",
      "\t\t\t\t\t\t\t\t\t\t\tnode=87 is a split node: go to node 88 if X[:, 1] <= 1021.6630249023438 else to node 89.\n",
      "\t\t\t\t\t\t\t\t\t\t\t\tnode=88 is a leaf node, values: [[0. 1.]].\n",
      "\t\t\t\t\t\t\t\t\t\t\t\tnode=89 is a leaf node, values: [[4. 0.]].\n",
      "\t\t\t\t\t\t\t\t\t\t\tnode=90 is a leaf node, values: [[39.  0.]].\n",
      "\t\t\t\t\t\t\t\t\t\tnode=91 is a split node: go to node 92 if X[:, 8] <= 0.7505499720573425 else to node 93.\n",
      "\t\t\t\t\t\t\t\t\t\t\tnode=92 is a leaf node, values: [[0. 1.]].\n",
      "\t\t\t\t\t\t\t\t\t\t\tnode=93 is a leaf node, values: [[2. 0.]].\n",
      "\t\t\t\t\t\t\t\t\tnode=94 is a leaf node, values: [[204.   0.]].\n",
      "\t\t\t\t\t\t\t\tnode=95 is a split node: go to node 96 if X[:, 8] <= 0.6608499884605408 else to node 99.\n",
      "\t\t\t\t\t\t\t\t\tnode=96 is a split node: go to node 97 if X[:, 7] <= 0.9910500049591064 else to node 98.\n",
      "\t\t\t\t\t\t\t\t\t\tnode=97 is a leaf node, values: [[0. 1.]].\n",
      "\t\t\t\t\t\t\t\t\t\tnode=98 is a leaf node, values: [[1. 0.]].\n",
      "\t\t\t\t\t\t\t\t\tnode=99 is a split node: go to node 100 if X[:, 2] <= 426.2866516113281 else to node 123.\n",
      "\t\t\t\t\t\t\t\t\t\tnode=100 is a split node: go to node 101 if X[:, 2] <= 423.6000518798828 else to node 122.\n",
      "\t\t\t\t\t\t\t\t\t\t\tnode=101 is a split node: go to node 102 if X[:, 11] <= 0.7432499825954437 else to node 105.\n",
      "\t\t\t\t\t\t\t\t\t\t\t\tnode=102 is a split node: go to node 103 if X[:, 8] <= 0.744700014591217 else to node 104.\n",
      "\t\t\t\t\t\t\t\t\t\t\t\t\tnode=103 is a leaf node, values: [[2. 0.]].\n",
      "\t\t\t\t\t\t\t\t\t\t\t\t\tnode=104 is a leaf node, values: [[0. 1.]].\n",
      "\t\t\t\t\t\t\t\t\t\t\t\tnode=105 is a split node: go to node 106 if X[:, 11] <= 0.7617500126361847 else to node 117.\n",
      "\t\t\t\t\t\t\t\t\t\t\t\t\tnode=106 is a split node: go to node 107 if X[:, 6] <= 0.813649982213974 else to node 108.\n",
      "\t\t\t\t\t\t\t\t\t\t\t\t\t\tnode=107 is a leaf node, values: [[0. 1.]].\n",
      "\t\t\t\t\t\t\t\t\t\t\t\t\t\tnode=108 is a split node: go to node 109 if X[:, 1] <= 1065.239013671875 else to node 114.\n",
      "\t\t\t\t\t\t\t\t\t\t\t\t\t\t\tnode=109 is a split node: go to node 110 if X[:, 9] <= 0.8591000139713287 else to node 111.\n",
      "\t\t\t\t\t\t\t\t\t\t\t\t\t\t\t\tnode=110 is a leaf node, values: [[27.  0.]].\n",
      "\t\t\t\t\t\t\t\t\t\t\t\t\t\t\t\tnode=111 is a split node: go to node 112 if X[:, 9] <= 0.8595000207424164 else to node 113.\n",
      "\t\t\t\t\t\t\t\t\t\t\t\t\t\t\t\t\tnode=112 is a leaf node, values: [[0. 1.]].\n",
      "\t\t\t\t\t\t\t\t\t\t\t\t\t\t\t\t\tnode=113 is a leaf node, values: [[4. 0.]].\n",
      "\t\t\t\t\t\t\t\t\t\t\t\t\t\t\tnode=114 is a split node: go to node 115 if X[:, 8] <= 0.7283500134944916 else to node 116.\n",
      "\t\t\t\t\t\t\t\t\t\t\t\t\t\t\t\tnode=115 is a leaf node, values: [[0. 1.]].\n",
      "\t\t\t\t\t\t\t\t\t\t\t\t\t\t\t\tnode=116 is a leaf node, values: [[2. 0.]].\n",
      "\t\t\t\t\t\t\t\t\t\t\t\t\tnode=117 is a split node: go to node 118 if X[:, 7] <= 0.9907500147819519 else to node 121.\n",
      "\t\t\t\t\t\t\t\t\t\t\t\t\t\tnode=118 is a split node: go to node 119 if X[:, 5] <= 303.94850158691406 else to node 120.\n",
      "\t\t\t\t\t\t\t\t\t\t\t\t\t\t\tnode=119 is a leaf node, values: [[2. 0.]].\n",
      "\t\t\t\t\t\t\t\t\t\t\t\t\t\t\tnode=120 is a leaf node, values: [[0. 1.]].\n",
      "\t\t\t\t\t\t\t\t\t\t\t\t\t\tnode=121 is a leaf node, values: [[69.  0.]].\n",
      "\t\t\t\t\t\t\t\t\t\t\tnode=122 is a leaf node, values: [[0. 2.]].\n",
      "\t\t\t\t\t\t\t\t\t\tnode=123 is a leaf node, values: [[63.  0.]].\n",
      "\t\t\t\t\t\t\tnode=124 is a split node: go to node 125 if X[:, 1] <= 1049.7550048828125 else to node 128.\n",
      "\t\t\t\t\t\t\t\tnode=125 is a split node: go to node 126 if X[:, 1] <= 1030.198974609375 else to node 127.\n",
      "\t\t\t\t\t\t\t\t\tnode=126 is a leaf node, values: [[3. 0.]].\n",
      "\t\t\t\t\t\t\t\t\tnode=127 is a leaf node, values: [[0. 2.]].\n",
      "\t\t\t\t\t\t\t\tnode=128 is a leaf node, values: [[7. 0.]].\n",
      "\t\t\t\t\tnode=129 is a split node: go to node 130 if X[:, 9] <= 0.8445500135421753 else to node 133.\n",
      "\t\t\t\t\t\tnode=130 is a split node: go to node 131 if X[:, 11] <= 0.7496999800205231 else to node 132.\n",
      "\t\t\t\t\t\t\tnode=131 is a leaf node, values: [[2. 0.]].\n",
      "\t\t\t\t\t\t\tnode=132 is a leaf node, values: [[0. 3.]].\n",
      "\t\t\t\t\t\tnode=133 is a split node: go to node 134 if X[:, 5] <= 326.3922119140625 else to node 135.\n",
      "\t\t\t\t\t\t\tnode=134 is a leaf node, values: [[13.  0.]].\n",
      "\t\t\t\t\t\t\tnode=135 is a split node: go to node 136 if X[:, 6] <= 0.8034000098705292 else to node 137.\n",
      "\t\t\t\t\t\t\t\tnode=136 is a leaf node, values: [[3. 0.]].\n",
      "\t\t\t\t\t\t\t\tnode=137 is a leaf node, values: [[0. 1.]].\n",
      "\t\t\tnode=138 is a leaf node, values: [[0. 6.]].\n",
      "\t\tnode=139 is a split node: go to node 140 if X[:, 7] <= 0.991349995136261 else to node 217.\n",
      "\t\t\tnode=140 is a split node: go to node 141 if X[:, 1] <= 978.4070129394531 else to node 146.\n",
      "\t\t\t\tnode=141 is a split node: go to node 142 if X[:, 6] <= 0.8695999979972839 else to node 145.\n",
      "\t\t\t\t\tnode=142 is a split node: go to node 143 if X[:, 7] <= 0.9910999834537506 else to node 144.\n",
      "\t\t\t\t\t\tnode=143 is a leaf node, values: [[0. 9.]].\n",
      "\t\t\t\t\t\tnode=144 is a leaf node, values: [[1. 0.]].\n",
      "\t\t\t\t\tnode=145 is a leaf node, values: [[1. 0.]].\n",
      "\t\t\t\tnode=146 is a split node: go to node 147 if X[:, 1] <= 1253.9349975585938 else to node 214.\n",
      "\t\t\t\t\tnode=147 is a split node: go to node 148 if X[:, 10] <= 2.036400079727173 else to node 213.\n",
      "\t\t\t\t\t\tnode=148 is a split node: go to node 149 if X[:, 7] <= 0.9907500147819519 else to node 198.\n",
      "\t\t\t\t\t\t\tnode=149 is a split node: go to node 150 if X[:, 9] <= 0.7658499777317047 else to node 153.\n",
      "\t\t\t\t\t\t\t\tnode=150 is a split node: go to node 151 if X[:, 2] <= 423.7509002685547 else to node 152.\n",
      "\t\t\t\t\t\t\t\t\tnode=151 is a leaf node, values: [[3. 0.]].\n",
      "\t\t\t\t\t\t\t\t\tnode=152 is a leaf node, values: [[0. 3.]].\n",
      "\t\t\t\t\t\t\t\tnode=153 is a split node: go to node 154 if X[:, 9] <= 0.8111000061035156 else to node 185.\n",
      "\t\t\t\t\t\t\t\t\tnode=154 is a split node: go to node 155 if X[:, 6] <= 0.8662499785423279 else to node 174.\n",
      "\t\t\t\t\t\t\t\t\t\tnode=155 is a split node: go to node 156 if X[:, 11] <= 0.722000002861023 else to node 171.\n",
      "\t\t\t\t\t\t\t\t\t\t\tnode=156 is a split node: go to node 157 if X[:, 8] <= 0.7540000081062317 else to node 168.\n",
      "\t\t\t\t\t\t\t\t\t\t\t\tnode=157 is a split node: go to node 158 if X[:, 6] <= 0.8609499931335449 else to node 159.\n",
      "\t\t\t\t\t\t\t\t\t\t\t\t\tnode=158 is a leaf node, values: [[50.  0.]].\n",
      "\t\t\t\t\t\t\t\t\t\t\t\t\tnode=159 is a split node: go to node 160 if X[:, 10] <= 1.9666499495506287 else to node 161.\n",
      "\t\t\t\t\t\t\t\t\t\t\t\t\t\tnode=160 is a leaf node, values: [[0. 1.]].\n",
      "\t\t\t\t\t\t\t\t\t\t\t\t\t\tnode=161 is a split node: go to node 162 if X[:, 6] <= 0.8620499968528748 else to node 167.\n",
      "\t\t\t\t\t\t\t\t\t\t\t\t\t\t\tnode=162 is a split node: go to node 163 if X[:, 10] <= 1.972100019454956 else to node 164.\n",
      "\t\t\t\t\t\t\t\t\t\t\t\t\t\t\t\tnode=163 is a leaf node, values: [[6. 0.]].\n",
      "\t\t\t\t\t\t\t\t\t\t\t\t\t\t\t\tnode=164 is a split node: go to node 165 if X[:, 11] <= 0.7087000012397766 else to node 166.\n",
      "\t\t\t\t\t\t\t\t\t\t\t\t\t\t\t\t\tnode=165 is a leaf node, values: [[1. 0.]].\n",
      "\t\t\t\t\t\t\t\t\t\t\t\t\t\t\t\t\tnode=166 is a leaf node, values: [[0. 2.]].\n",
      "\t\t\t\t\t\t\t\t\t\t\t\t\t\t\tnode=167 is a leaf node, values: [[27.  0.]].\n",
      "\t\t\t\t\t\t\t\t\t\t\t\tnode=168 is a split node: go to node 169 if X[:, 0] <= 81083.5 else to node 170.\n",
      "\t\t\t\t\t\t\t\t\t\t\t\t\tnode=169 is a leaf node, values: [[0. 1.]].\n",
      "\t\t\t\t\t\t\t\t\t\t\t\t\tnode=170 is a leaf node, values: [[3. 0.]].\n",
      "\t\t\t\t\t\t\t\t\t\t\tnode=171 is a split node: go to node 172 if X[:, 8] <= 0.7166000008583069 else to node 173.\n",
      "\t\t\t\t\t\t\t\t\t\t\t\tnode=172 is a leaf node, values: [[0. 1.]].\n",
      "\t\t\t\t\t\t\t\t\t\t\t\tnode=173 is a leaf node, values: [[2. 0.]].\n",
      "\t\t\t\t\t\t\t\t\t\tnode=174 is a split node: go to node 175 if X[:, 11] <= 0.7043499946594238 else to node 180.\n",
      "\t\t\t\t\t\t\t\t\t\t\tnode=175 is a split node: go to node 176 if X[:, 7] <= 0.9898500144481659 else to node 177.\n",
      "\t\t\t\t\t\t\t\t\t\t\t\tnode=176 is a leaf node, values: [[20.  0.]].\n",
      "\t\t\t\t\t\t\t\t\t\t\t\tnode=177 is a split node: go to node 178 if X[:, 9] <= 0.7884500026702881 else to node 179.\n",
      "\t\t\t\t\t\t\t\t\t\t\t\t\tnode=178 is a leaf node, values: [[0. 1.]].\n",
      "\t\t\t\t\t\t\t\t\t\t\t\t\tnode=179 is a leaf node, values: [[5. 0.]].\n",
      "\t\t\t\t\t\t\t\t\t\t\tnode=180 is a split node: go to node 181 if X[:, 7] <= 0.9889000058174133 else to node 182.\n",
      "\t\t\t\t\t\t\t\t\t\t\t\tnode=181 is a leaf node, values: [[0. 3.]].\n",
      "\t\t\t\t\t\t\t\t\t\t\t\tnode=182 is a split node: go to node 183 if X[:, 3] <= 226.44249725341797 else to node 184.\n",
      "\t\t\t\t\t\t\t\t\t\t\t\t\tnode=183 is a leaf node, values: [[3. 0.]].\n",
      "\t\t\t\t\t\t\t\t\t\t\t\t\tnode=184 is a leaf node, values: [[0. 1.]].\n",
      "\t\t\t\t\t\t\t\t\tnode=185 is a split node: go to node 186 if X[:, 3] <= 206.8060531616211 else to node 187.\n",
      "\t\t\t\t\t\t\t\t\t\tnode=186 is a leaf node, values: [[0. 1.]].\n",
      "\t\t\t\t\t\t\t\t\t\tnode=187 is a split node: go to node 188 if X[:, 9] <= 0.8114500045776367 else to node 191.\n",
      "\t\t\t\t\t\t\t\t\t\t\tnode=188 is a split node: go to node 189 if X[:, 5] <= 304.1956481933594 else to node 190.\n",
      "\t\t\t\t\t\t\t\t\t\t\t\tnode=189 is a leaf node, values: [[1. 0.]].\n",
      "\t\t\t\t\t\t\t\t\t\t\t\tnode=190 is a leaf node, values: [[0. 2.]].\n",
      "\t\t\t\t\t\t\t\t\t\t\tnode=191 is a split node: go to node 192 if X[:, 10] <= 1.9210999608039856 else to node 197.\n",
      "\t\t\t\t\t\t\t\t\t\t\t\tnode=192 is a split node: go to node 193 if X[:, 2] <= 412.0260925292969 else to node 194.\n",
      "\t\t\t\t\t\t\t\t\t\t\t\t\tnode=193 is a leaf node, values: [[2. 0.]].\n",
      "\t\t\t\t\t\t\t\t\t\t\t\t\tnode=194 is a split node: go to node 195 if X[:, 9] <= 0.8122000098228455 else to node 196.\n",
      "\t\t\t\t\t\t\t\t\t\t\t\t\t\tnode=195 is a leaf node, values: [[1. 0.]].\n",
      "\t\t\t\t\t\t\t\t\t\t\t\t\t\tnode=196 is a leaf node, values: [[0. 3.]].\n",
      "\t\t\t\t\t\t\t\t\t\t\t\tnode=197 is a leaf node, values: [[12.  0.]].\n",
      "\t\t\t\t\t\t\tnode=198 is a split node: go to node 199 if X[:, 11] <= 0.7042999863624573 else to node 202.\n",
      "\t\t\t\t\t\t\t\tnode=199 is a split node: go to node 200 if X[:, 8] <= 0.743149995803833 else to node 201.\n",
      "\t\t\t\t\t\t\t\t\tnode=200 is a leaf node, values: [[0. 4.]].\n",
      "\t\t\t\t\t\t\t\t\tnode=201 is a leaf node, values: [[1. 0.]].\n",
      "\t\t\t\t\t\t\t\tnode=202 is a split node: go to node 203 if X[:, 9] <= 0.8064999878406525 else to node 204.\n",
      "\t\t\t\t\t\t\t\t\tnode=203 is a leaf node, values: [[10.  0.]].\n",
      "\t\t\t\t\t\t\t\t\tnode=204 is a split node: go to node 205 if X[:, 8] <= 0.657800018787384 else to node 206.\n",
      "\t\t\t\t\t\t\t\t\t\tnode=205 is a leaf node, values: [[0. 2.]].\n",
      "\t\t\t\t\t\t\t\t\t\tnode=206 is a split node: go to node 207 if X[:, 8] <= 0.7229999899864197 else to node 208.\n",
      "\t\t\t\t\t\t\t\t\t\t\tnode=207 is a leaf node, values: [[4. 0.]].\n",
      "\t\t\t\t\t\t\t\t\t\t\tnode=208 is a split node: go to node 209 if X[:, 8] <= 0.7396000027656555 else to node 210.\n",
      "\t\t\t\t\t\t\t\t\t\t\t\tnode=209 is a leaf node, values: [[0. 3.]].\n",
      "\t\t\t\t\t\t\t\t\t\t\t\tnode=210 is a split node: go to node 211 if X[:, 8] <= 0.7530999779701233 else to node 212.\n",
      "\t\t\t\t\t\t\t\t\t\t\t\t\tnode=211 is a leaf node, values: [[4. 0.]].\n",
      "\t\t\t\t\t\t\t\t\t\t\t\t\tnode=212 is a leaf node, values: [[0. 1.]].\n",
      "\t\t\t\t\t\tnode=213 is a leaf node, values: [[0. 2.]].\n",
      "\t\t\t\t\tnode=214 is a split node: go to node 215 if X[:, 10] <= 2.0152499675750732 else to node 216.\n",
      "\t\t\t\t\t\tnode=215 is a leaf node, values: [[0. 8.]].\n",
      "\t\t\t\t\t\tnode=216 is a leaf node, values: [[4. 0.]].\n",
      "\t\t\tnode=217 is a split node: go to node 218 if X[:, 8] <= 0.7412999868392944 else to node 239.\n",
      "\t\t\t\tnode=218 is a split node: go to node 219 if X[:, 6] <= 0.8710000216960907 else to node 238.\n",
      "\t\t\t\t\tnode=219 is a split node: go to node 220 if X[:, 7] <= 0.9924499988555908 else to node 233.\n",
      "\t\t\t\t\t\tnode=220 is a split node: go to node 221 if X[:, 7] <= 0.992249995470047 else to node 232.\n",
      "\t\t\t\t\t\t\tnode=221 is a split node: go to node 222 if X[:, 8] <= 0.622299998998642 else to node 225.\n",
      "\t\t\t\t\t\t\t\tnode=222 is a split node: go to node 223 if X[:, 4] <= 92659.5 else to node 224.\n",
      "\t\t\t\t\t\t\t\t\tnode=223 is a leaf node, values: [[2. 0.]].\n",
      "\t\t\t\t\t\t\t\t\tnode=224 is a leaf node, values: [[0. 1.]].\n",
      "\t\t\t\t\t\t\t\tnode=225 is a split node: go to node 226 if X[:, 9] <= 0.8098999857902527 else to node 231.\n",
      "\t\t\t\t\t\t\t\t\tnode=226 is a split node: go to node 227 if X[:, 9] <= 0.8037000000476837 else to node 228.\n",
      "\t\t\t\t\t\t\t\t\t\tnode=227 is a leaf node, values: [[0. 6.]].\n",
      "\t\t\t\t\t\t\t\t\t\tnode=228 is a split node: go to node 229 if X[:, 6] <= 0.8610000014305115 else to node 230.\n",
      "\t\t\t\t\t\t\t\t\t\t\tnode=229 is a leaf node, values: [[0. 1.]].\n",
      "\t\t\t\t\t\t\t\t\t\t\tnode=230 is a leaf node, values: [[3. 0.]].\n",
      "\t\t\t\t\t\t\t\t\tnode=231 is a leaf node, values: [[0. 8.]].\n",
      "\t\t\t\t\t\t\tnode=232 is a leaf node, values: [[2. 0.]].\n",
      "\t\t\t\t\t\tnode=233 is a split node: go to node 234 if X[:, 8] <= 0.7080999910831451 else to node 235.\n",
      "\t\t\t\t\t\t\tnode=234 is a leaf node, values: [[ 0. 13.]].\n",
      "\t\t\t\t\t\t\tnode=235 is a split node: go to node 236 if X[:, 9] <= 0.8139500021934509 else to node 237.\n",
      "\t\t\t\t\t\t\t\tnode=236 is a leaf node, values: [[1. 0.]].\n",
      "\t\t\t\t\t\t\t\tnode=237 is a leaf node, values: [[0. 4.]].\n",
      "\t\t\t\t\tnode=238 is a leaf node, values: [[2. 0.]].\n",
      "\t\t\t\tnode=239 is a split node: go to node 240 if X[:, 3] <= 221.9625473022461 else to node 241.\n",
      "\t\t\t\t\tnode=240 is a leaf node, values: [[0. 4.]].\n",
      "\t\t\t\t\tnode=241 is a split node: go to node 242 if X[:, 1] <= 1142.12451171875 else to node 243.\n",
      "\t\t\t\t\t\tnode=242 is a leaf node, values: [[7. 0.]].\n",
      "\t\t\t\t\t\tnode=243 is a split node: go to node 244 if X[:, 9] <= 0.8124000132083893 else to node 245.\n",
      "\t\t\t\t\t\t\tnode=244 is a leaf node, values: [[2. 0.]].\n",
      "\t\t\t\t\t\t\tnode=245 is a leaf node, values: [[0. 2.]].\n",
      "\tnode=246 is a split node: go to node 247 if X[:, 6] <= 0.8832499980926514 else to node 298.\n",
      "\t\tnode=247 is a split node: go to node 248 if X[:, 7] <= 0.9905499815940857 else to node 287.\n",
      "\t\t\tnode=248 is a split node: go to node 249 if X[:, 2] <= 415.14788818359375 else to node 250.\n",
      "\t\t\t\tnode=249 is a leaf node, values: [[ 0. 13.]].\n",
      "\t\t\t\tnode=250 is a split node: go to node 251 if X[:, 3] <= 234.28580474853516 else to node 282.\n",
      "\t\t\t\t\tnode=251 is a split node: go to node 252 if X[:, 9] <= 0.7974500060081482 else to node 281.\n",
      "\t\t\t\t\t\tnode=252 is a split node: go to node 253 if X[:, 10] <= 2.0755499601364136 else to node 262.\n",
      "\t\t\t\t\t\t\tnode=253 is a split node: go to node 254 if X[:, 1] <= 1100.0760498046875 else to node 255.\n",
      "\t\t\t\t\t\t\t\tnode=254 is a leaf node, values: [[13.  0.]].\n",
      "\t\t\t\t\t\t\t\tnode=255 is a split node: go to node 256 if X[:, 6] <= 0.8735000193119049 else to node 257.\n",
      "\t\t\t\t\t\t\t\t\tnode=256 is a leaf node, values: [[0. 3.]].\n",
      "\t\t\t\t\t\t\t\t\tnode=257 is a split node: go to node 258 if X[:, 5] <= 324.4082489013672 else to node 259.\n",
      "\t\t\t\t\t\t\t\t\t\tnode=258 is a leaf node, values: [[5. 0.]].\n",
      "\t\t\t\t\t\t\t\t\t\tnode=259 is a split node: go to node 260 if X[:, 8] <= 0.6597999930381775 else to node 261.\n",
      "\t\t\t\t\t\t\t\t\t\t\tnode=260 is a leaf node, values: [[1. 0.]].\n",
      "\t\t\t\t\t\t\t\t\t\t\tnode=261 is a leaf node, values: [[0. 1.]].\n",
      "\t\t\t\t\t\t\tnode=262 is a split node: go to node 263 if X[:, 3] <= 215.56975555419922 else to node 272.\n",
      "\t\t\t\t\t\t\t\tnode=263 is a split node: go to node 264 if X[:, 4] <= 68484.0 else to node 265.\n",
      "\t\t\t\t\t\t\t\t\tnode=264 is a leaf node, values: [[1. 0.]].\n",
      "\t\t\t\t\t\t\t\t\tnode=265 is a split node: go to node 266 if X[:, 8] <= 0.5874500274658203 else to node 267.\n",
      "\t\t\t\t\t\t\t\t\t\tnode=266 is a leaf node, values: [[1. 0.]].\n",
      "\t\t\t\t\t\t\t\t\t\tnode=267 is a split node: go to node 268 if X[:, 7] <= 0.9900499880313873 else to node 269.\n",
      "\t\t\t\t\t\t\t\t\t\t\tnode=268 is a leaf node, values: [[0. 7.]].\n",
      "\t\t\t\t\t\t\t\t\t\t\tnode=269 is a split node: go to node 270 if X[:, 11] <= 0.6872499883174896 else to node 271.\n",
      "\t\t\t\t\t\t\t\t\t\t\t\tnode=270 is a leaf node, values: [[0. 2.]].\n",
      "\t\t\t\t\t\t\t\t\t\t\t\tnode=271 is a leaf node, values: [[1. 0.]].\n",
      "\t\t\t\t\t\t\t\tnode=272 is a split node: go to node 273 if X[:, 2] <= 486.5528564453125 else to node 278.\n",
      "\t\t\t\t\t\t\t\t\tnode=273 is a split node: go to node 274 if X[:, 2] <= 462.18455505371094 else to node 277.\n",
      "\t\t\t\t\t\t\t\t\t\tnode=274 is a split node: go to node 275 if X[:, 0] <= 79016.5 else to node 276.\n",
      "\t\t\t\t\t\t\t\t\t\t\tnode=275 is a leaf node, values: [[2. 0.]].\n",
      "\t\t\t\t\t\t\t\t\t\t\tnode=276 is a leaf node, values: [[0. 1.]].\n",
      "\t\t\t\t\t\t\t\t\t\tnode=277 is a leaf node, values: [[9. 0.]].\n",
      "\t\t\t\t\t\t\t\t\tnode=278 is a split node: go to node 279 if X[:, 4] <= 89644.0 else to node 280.\n",
      "\t\t\t\t\t\t\t\t\t\tnode=279 is a leaf node, values: [[0. 2.]].\n",
      "\t\t\t\t\t\t\t\t\t\tnode=280 is a leaf node, values: [[1. 0.]].\n",
      "\t\t\t\t\t\tnode=281 is a leaf node, values: [[0. 2.]].\n",
      "\t\t\t\t\tnode=282 is a split node: go to node 283 if X[:, 9] <= 0.7697499990463257 else to node 284.\n",
      "\t\t\t\t\t\tnode=283 is a leaf node, values: [[2. 0.]].\n",
      "\t\t\t\t\t\tnode=284 is a split node: go to node 285 if X[:, 7] <= 0.9841499924659729 else to node 286.\n",
      "\t\t\t\t\t\t\tnode=285 is a leaf node, values: [[1. 0.]].\n",
      "\t\t\t\t\t\t\tnode=286 is a leaf node, values: [[ 0. 11.]].\n",
      "\t\t\tnode=287 is a split node: go to node 288 if X[:, 8] <= 0.7457499802112579 else to node 293.\n",
      "\t\t\t\tnode=288 is a split node: go to node 289 if X[:, 3] <= 243.54710388183594 else to node 290.\n",
      "\t\t\t\t\tnode=289 is a leaf node, values: [[ 0. 33.]].\n",
      "\t\t\t\t\tnode=290 is a split node: go to node 291 if X[:, 7] <= 0.9912999868392944 else to node 292.\n",
      "\t\t\t\t\t\tnode=291 is a leaf node, values: [[3. 0.]].\n",
      "\t\t\t\t\t\tnode=292 is a leaf node, values: [[0. 5.]].\n",
      "\t\t\t\tnode=293 is a split node: go to node 294 if X[:, 10] <= 2.112499952316284 else to node 297.\n",
      "\t\t\t\t\tnode=294 is a split node: go to node 295 if X[:, 10] <= 2.052899956703186 else to node 296.\n",
      "\t\t\t\t\t\tnode=295 is a leaf node, values: [[2. 0.]].\n",
      "\t\t\t\t\t\tnode=296 is a leaf node, values: [[ 0. 11.]].\n",
      "\t\t\t\t\tnode=297 is a leaf node, values: [[4. 0.]].\n",
      "\t\tnode=298 is a split node: go to node 299 if X[:, 6] <= 0.8936499953269958 else to node 340.\n",
      "\t\t\tnode=299 is a split node: go to node 300 if X[:, 7] <= 0.9902499914169312 else to node 325.\n",
      "\t\t\t\tnode=300 is a split node: go to node 301 if X[:, 0] <= 87706.0 else to node 324.\n",
      "\t\t\t\t\tnode=301 is a split node: go to node 302 if X[:, 8] <= 0.7277500033378601 else to node 317.\n",
      "\t\t\t\t\t\tnode=302 is a split node: go to node 303 if X[:, 7] <= 0.9865500032901764 else to node 308.\n",
      "\t\t\t\t\t\t\tnode=303 is a split node: go to node 304 if X[:, 9] <= 0.751800000667572 else to node 307.\n",
      "\t\t\t\t\t\t\t\tnode=304 is a split node: go to node 305 if X[:, 7] <= 0.9852999746799469 else to node 306.\n",
      "\t\t\t\t\t\t\t\t\tnode=305 is a leaf node, values: [[0. 3.]].\n",
      "\t\t\t\t\t\t\t\t\tnode=306 is a leaf node, values: [[1. 0.]].\n",
      "\t\t\t\t\t\t\t\tnode=307 is a leaf node, values: [[3. 0.]].\n",
      "\t\t\t\t\t\t\tnode=308 is a split node: go to node 309 if X[:, 2] <= 483.13734436035156 else to node 314.\n",
      "\t\t\t\t\t\t\t\tnode=309 is a split node: go to node 310 if X[:, 8] <= 0.6025000214576721 else to node 313.\n",
      "\t\t\t\t\t\t\t\t\tnode=310 is a split node: go to node 311 if X[:, 2] <= 470.20555114746094 else to node 312.\n",
      "\t\t\t\t\t\t\t\t\t\tnode=311 is a leaf node, values: [[0. 4.]].\n",
      "\t\t\t\t\t\t\t\t\t\tnode=312 is a leaf node, values: [[1. 0.]].\n",
      "\t\t\t\t\t\t\t\t\tnode=313 is a leaf node, values: [[ 0. 14.]].\n",
      "\t\t\t\t\t\t\t\tnode=314 is a split node: go to node 315 if X[:, 8] <= 0.681850016117096 else to node 316.\n",
      "\t\t\t\t\t\t\t\t\tnode=315 is a leaf node, values: [[2. 0.]].\n",
      "\t\t\t\t\t\t\t\t\tnode=316 is a leaf node, values: [[0. 1.]].\n",
      "\t\t\t\t\t\tnode=317 is a split node: go to node 318 if X[:, 0] <= 66910.5 else to node 321.\n",
      "\t\t\t\t\t\t\tnode=318 is a split node: go to node 319 if X[:, 9] <= 0.7381500005722046 else to node 320.\n",
      "\t\t\t\t\t\t\t\tnode=319 is a leaf node, values: [[1. 0.]].\n",
      "\t\t\t\t\t\t\t\tnode=320 is a leaf node, values: [[0. 4.]].\n",
      "\t\t\t\t\t\t\tnode=321 is a split node: go to node 322 if X[:, 9] <= 0.7842999994754791 else to node 323.\n",
      "\t\t\t\t\t\t\t\tnode=322 is a leaf node, values: [[8. 0.]].\n",
      "\t\t\t\t\t\t\t\tnode=323 is a leaf node, values: [[0. 1.]].\n",
      "\t\t\t\t\tnode=324 is a leaf node, values: [[ 0. 14.]].\n",
      "\t\t\t\tnode=325 is a split node: go to node 326 if X[:, 8] <= 0.5746000111103058 else to node 329.\n",
      "\t\t\t\t\tnode=326 is a split node: go to node 327 if X[:, 2] <= 458.13079833984375 else to node 328.\n",
      "\t\t\t\t\t\tnode=327 is a leaf node, values: [[0. 1.]].\n",
      "\t\t\t\t\t\tnode=328 is a leaf node, values: [[1. 0.]].\n",
      "\t\t\t\t\tnode=329 is a split node: go to node 330 if X[:, 2] <= 455.54774475097656 else to node 335.\n",
      "\t\t\t\t\t\tnode=330 is a split node: go to node 331 if X[:, 3] <= 205.83145141601562 else to node 332.\n",
      "\t\t\t\t\t\t\tnode=331 is a leaf node, values: [[ 0. 12.]].\n",
      "\t\t\t\t\t\t\tnode=332 is a split node: go to node 333 if X[:, 7] <= 0.9916500151157379 else to node 334.\n",
      "\t\t\t\t\t\t\t\tnode=333 is a leaf node, values: [[2. 0.]].\n",
      "\t\t\t\t\t\t\t\tnode=334 is a leaf node, values: [[0. 1.]].\n",
      "\t\t\t\t\t\tnode=335 is a split node: go to node 336 if X[:, 8] <= 0.7575500011444092 else to node 337.\n",
      "\t\t\t\t\t\t\tnode=336 is a leaf node, values: [[ 0. 57.]].\n",
      "\t\t\t\t\t\t\tnode=337 is a split node: go to node 338 if X[:, 8] <= 0.7606000006198883 else to node 339.\n",
      "\t\t\t\t\t\t\t\tnode=338 is a leaf node, values: [[1. 0.]].\n",
      "\t\t\t\t\t\t\t\tnode=339 is a leaf node, values: [[0. 7.]].\n",
      "\t\t\tnode=340 is a split node: go to node 341 if X[:, 7] <= 0.9763500094413757 else to node 344.\n",
      "\t\t\t\tnode=341 is a split node: go to node 342 if X[:, 4] <= 79093.5 else to node 343.\n",
      "\t\t\t\t\tnode=342 is a leaf node, values: [[0. 2.]].\n",
      "\t\t\t\t\tnode=343 is a leaf node, values: [[2. 0.]].\n",
      "\t\t\t\tnode=344 is a split node: go to node 345 if X[:, 10] <= 2.3863000869750977 else to node 368.\n",
      "\t\t\t\t\tnode=345 is a split node: go to node 346 if X[:, 9] <= 0.7252500057220459 else to node 349.\n",
      "\t\t\t\t\t\tnode=346 is a split node: go to node 347 if X[:, 11] <= 0.652099996805191 else to node 348.\n",
      "\t\t\t\t\t\t\tnode=347 is a leaf node, values: [[3. 0.]].\n",
      "\t\t\t\t\t\t\tnode=348 is a leaf node, values: [[0. 4.]].\n",
      "\t\t\t\t\t\tnode=349 is a split node: go to node 350 if X[:, 10] <= 2.3855000734329224 else to node 367.\n",
      "\t\t\t\t\t\t\tnode=350 is a split node: go to node 351 if X[:, 9] <= 0.7319499850273132 else to node 354.\n",
      "\t\t\t\t\t\t\t\tnode=351 is a split node: go to node 352 if X[:, 6] <= 0.9000000059604645 else to node 353.\n",
      "\t\t\t\t\t\t\t\t\tnode=352 is a leaf node, values: [[1. 0.]].\n",
      "\t\t\t\t\t\t\t\t\tnode=353 is a leaf node, values: [[0. 8.]].\n",
      "\t\t\t\t\t\t\t\tnode=354 is a split node: go to node 355 if X[:, 8] <= 0.6013000011444092 else to node 362.\n",
      "\t\t\t\t\t\t\t\t\tnode=355 is a split node: go to node 356 if X[:, 8] <= 0.5992500185966492 else to node 361.\n",
      "\t\t\t\t\t\t\t\t\t\tnode=356 is a split node: go to node 357 if X[:, 9] <= 0.7610499858856201 else to node 358.\n",
      "\t\t\t\t\t\t\t\t\t\t\tnode=357 is a leaf node, values: [[ 0. 41.]].\n",
      "\t\t\t\t\t\t\t\t\t\t\tnode=358 is a split node: go to node 359 if X[:, 9] <= 0.7626000046730042 else to node 360.\n",
      "\t\t\t\t\t\t\t\t\t\t\t\tnode=359 is a leaf node, values: [[1. 0.]].\n",
      "\t\t\t\t\t\t\t\t\t\t\t\tnode=360 is a leaf node, values: [[0. 4.]].\n",
      "\t\t\t\t\t\t\t\t\t\tnode=361 is a leaf node, values: [[1. 0.]].\n",
      "\t\t\t\t\t\t\t\t\tnode=362 is a split node: go to node 363 if X[:, 9] <= 0.7423499822616577 else to node 366.\n",
      "\t\t\t\t\t\t\t\t\t\tnode=363 is a split node: go to node 364 if X[:, 9] <= 0.7421000003814697 else to node 365.\n",
      "\t\t\t\t\t\t\t\t\t\t\tnode=364 is a leaf node, values: [[ 0. 27.]].\n",
      "\t\t\t\t\t\t\t\t\t\t\tnode=365 is a leaf node, values: [[1. 0.]].\n",
      "\t\t\t\t\t\t\t\t\t\tnode=366 is a leaf node, values: [[  0. 107.]].\n",
      "\t\t\t\t\t\t\tnode=367 is a leaf node, values: [[1. 0.]].\n",
      "\t\t\t\t\tnode=368 is a leaf node, values: [[  0. 278.]].\n"
     ]
    }
   ],
   "source": [
    "describe_tree(pumpkin_dt)"
   ]
  },
  {
   "cell_type": "markdown",
   "metadata": {},
   "source": [
    "We ended up getting a tree structure for our test data that has 367 nodes in total. At the root node, it looks at the feature at index 6 to ask the first question, and this feature is the `Eccentricity` of the pumpkin seed."
   ]
  },
  {
   "cell_type": "markdown",
   "metadata": {},
   "source": [
    "We can also plot our tree as a graph by calling the `plot_tree` function from `sklearn.tree`."
   ]
  },
  {
   "cell_type": "code",
   "execution_count": 73,
   "metadata": {},
   "outputs": [
    {
     "data": {
      "image/png": "[encoded data removed]",
      "text/plain": [
       "<Figure size 640x480 with 1 Axes>"
      ]
     },
     "metadata": {},
     "output_type": "display_data"
    }
   ],
   "source": [
    "tree.plot_tree(pumpkin_dt)\n",
    "plt.show()"
   ]
  },
  {
   "cell_type": "markdown",
   "metadata": {},
   "source": [
    "We can get the confusion matrix, classification report, and the test accuracy for the tree now that we have visualized it."
   ]
  },
  {
   "cell_type": "code",
   "execution_count": 74,
   "metadata": {},
   "outputs": [
    {
     "name": "stdout",
     "output_type": "stream",
     "text": [
      "Confusion Matrix:\n",
      "[[309  70]\n",
      " [ 64 307]]\n"
     ]
    }
   ],
   "source": [
    "# Confusion matrix of the model\n",
    "print(\"Confusion Matrix:\")\n",
    "print(confusion_matrix(dt_y_test, pumpkin_dt_test_preds))"
   ]
  },
  {
   "cell_type": "markdown",
   "metadata": {},
   "source": [
    "Note that Çerçevelik is encoded as 0 and Ürgüp Sivrisi as 1. The confusion matrix resulted in the following values:\n",
    "- **True Positives:** 310 instances were labeled correctly as Urgup Sivrisi.\n",
    "- **True Negatives:** 305 instances were labeled correctly as Cercevelik.\n",
    "- **False Negatives:** 61 instances were labeled incorrectly as Cercevelik.\n",
    "- **False Positives:** 74 instances were labeled incorrectly as Urgup Sivrisi."
   ]
  },
  {
   "cell_type": "markdown",
   "metadata": {},
   "source": [
    "From the classification report, we can get the evaluation metrics of the model. We can also get the accuracy of the model by separately calling the `accuracy_score()` function."
   ]
  },
  {
   "cell_type": "code",
   "execution_count": 75,
   "metadata": {},
   "outputs": [
    {
     "name": "stdout",
     "output_type": "stream",
     "text": [
      "Classification Report:\n",
      "               precision    recall  f1-score   support\n",
      "\n",
      "   Cercevelik       0.83      0.82      0.82       379\n",
      "Urgup Sivrisi       0.81      0.83      0.82       371\n",
      "\n",
      "     accuracy                           0.82       750\n",
      "    macro avg       0.82      0.82      0.82       750\n",
      " weighted avg       0.82      0.82      0.82       750\n",
      "\n",
      "Test Accuracy: 0.8213333333333334\n"
     ]
    }
   ],
   "source": [
    "print(\"Classification Report:\")\n",
    "print(classification_report(dt_y_test, pumpkin_dt_test_preds, target_names=label_encoder.classes_))\n",
    "\n",
    "print(\"Test Accuracy:\", accuracy_score(dt_y_test, pumpkin_dt_test_preds))"
   ]
  },
  {
   "cell_type": "markdown",
   "metadata": {},
   "source": [
    "The baseline default model resulted in a test accuracy of `0.828` for this dataset. We can improve this through hyperparameter tuning."
   ]
  },
  {
   "cell_type": "markdown",
   "metadata": {},
   "source": [
    "<span style=\"color:red\">*What values to consider for each hyperparameter to tune? What basis*</span>"
   ]
  },
  {
   "cell_type": "markdown",
   "metadata": {},
   "source": [
    "Some regularization techniques for decision trees are deciding on the stopping criterion. We can modify the parameters of the `DecisionTreeClassifier()` model so that our model stops asking questions once it reaches certain thresholds. For this model, we can tune the following parameters: `criterion`, `min_samples_split`, `max_depth`, and `max_leaf_nodes`."
   ]
  },
  {
   "cell_type": "code",
   "execution_count": 76,
   "metadata": {},
   "outputs": [],
   "source": [
    "# Hyperparameters to tune: criterion, min_samples_split, max_depth, max_leaf_nodes\n",
    "# Values considered for hyperparams can still be changed based on related works found\n",
    "hyperparameters = [\n",
    "    {\n",
    "        \"criterion\" : [\"gini\", \"entropy\"],\n",
    "        \"min_samples_split\" : [10,20,50,100,500,1000,2000],\n",
    "        \"max_depth\" : [10,20,50,100,500],\n",
    "        \"max_leaf_nodes\" : [10,20,50,100,500,1000,1500]\n",
    "    }\n",
    "]"
   ]
  },
  {
   "cell_type": "markdown",
   "metadata": {},
   "source": [
    "Through the `RandomizedSearchCV()`, we can find the best hyperparameters using cross-validation. Since we've defined our hyperparameter options in the previous cell, we can just input this as our parameter for `param_distributions` using 5-fold cross-validation. <br>\n",
    "*Optionally: explain why RandomizedSearchCV over other search algorithms for determining the best hyperparameters* <br>\n",
    "*Some sources: https://insidelearningmachines.com/tune_hyperparameters_in_decision_trees/*"
   ]
  },
  {
   "cell_type": "code",
   "execution_count": 77,
   "metadata": {},
   "outputs": [],
   "source": [
    "# n_iter: number of parameter settings to be sampled\n",
    "# cv: number of cross validation folds\n",
    "rsc_pumpkin = RandomizedSearchCV(estimator=pumpkin_dt,param_distributions=hyperparameters,n_iter=100,cv=5)"
   ]
  },
  {
   "cell_type": "markdown",
   "metadata": {},
   "source": [
    "We can now fit our data to this `RandomizedSearchCV` model, and it finds the best parameters for us."
   ]
  },
  {
   "cell_type": "code",
   "execution_count": 78,
   "metadata": {},
   "outputs": [
    {
     "data": {
      "text/html": [
       "<style>#sk-container-id-3 {color: black;}#sk-container-id-3 pre{padding: 0;}#sk-container-id-3 div.sk-toggleable {background-color: white;}#sk-container-id-3 label.sk-toggleable__label {cursor: pointer;display: block;width: 100%;margin-bottom: 0;padding: 0.3em;box-sizing: border-box;text-align: center;}#sk-container-id-3 label.sk-toggleable__label-arrow:before {content: \"▸\";float: left;margin-right: 0.25em;color: #696969;}#sk-container-id-3 label.sk-toggleable__label-arrow:hover:before {color: black;}#sk-container-id-3 div.sk-estimator:hover label.sk-toggleable__label-arrow:before {color: black;}#sk-container-id-3 div.sk-toggleable__content {max-height: 0;max-width: 0;overflow: hidden;text-align: left;background-color: #f0f8ff;}#sk-container-id-3 div.sk-toggleable__content pre {margin: 0.2em;color: black;border-radius: 0.25em;background-color: #f0f8ff;}#sk-container-id-3 input.sk-toggleable__control:checked~div.sk-toggleable__content {max-height: 200px;max-width: 100%;overflow: auto;}#sk-container-id-3 input.sk-toggleable__control:checked~label.sk-toggleable__label-arrow:before {content: \"▾\";}#sk-container-id-3 div.sk-estimator input.sk-toggleable__control:checked~label.sk-toggleable__label {background-color: #d4ebff;}#sk-container-id-3 div.sk-label input.sk-toggleable__control:checked~label.sk-toggleable__label {background-color: #d4ebff;}#sk-container-id-3 input.sk-hidden--visually {border: 0;clip: rect(1px 1px 1px 1px);clip: rect(1px, 1px, 1px, 1px);height: 1px;margin: -1px;overflow: hidden;padding: 0;position: absolute;width: 1px;}#sk-container-id-3 div.sk-estimator {font-family: monospace;background-color: #f0f8ff;border: 1px dotted black;border-radius: 0.25em;box-sizing: border-box;margin-bottom: 0.5em;}#sk-container-id-3 div.sk-estimator:hover {background-color: #d4ebff;}#sk-container-id-3 div.sk-parallel-item::after {content: \"\";width: 100%;border-bottom: 1px solid gray;flex-grow: 1;}#sk-container-id-3 div.sk-label:hover label.sk-toggleable__label {background-color: #d4ebff;}#sk-container-id-3 div.sk-serial::before {content: \"\";position: absolute;border-left: 1px solid gray;box-sizing: border-box;top: 0;bottom: 0;left: 50%;z-index: 0;}#sk-container-id-3 div.sk-serial {display: flex;flex-direction: column;align-items: center;background-color: white;padding-right: 0.2em;padding-left: 0.2em;position: relative;}#sk-container-id-3 div.sk-item {position: relative;z-index: 1;}#sk-container-id-3 div.sk-parallel {display: flex;align-items: stretch;justify-content: center;background-color: white;position: relative;}#sk-container-id-3 div.sk-item::before, #sk-container-id-3 div.sk-parallel-item::before {content: \"\";position: absolute;border-left: 1px solid gray;box-sizing: border-box;top: 0;bottom: 0;left: 50%;z-index: -1;}#sk-container-id-3 div.sk-parallel-item {display: flex;flex-direction: column;z-index: 1;position: relative;background-color: white;}#sk-container-id-3 div.sk-parallel-item:first-child::after {align-self: flex-end;width: 50%;}#sk-container-id-3 div.sk-parallel-item:last-child::after {align-self: flex-start;width: 50%;}#sk-container-id-3 div.sk-parallel-item:only-child::after {width: 0;}#sk-container-id-3 div.sk-dashed-wrapped {border: 1px dashed gray;margin: 0 0.4em 0.5em 0.4em;box-sizing: border-box;padding-bottom: 0.4em;background-color: white;}#sk-container-id-3 div.sk-label label {font-family: monospace;font-weight: bold;display: inline-block;line-height: 1.2em;}#sk-container-id-3 div.sk-label-container {text-align: center;}#sk-container-id-3 div.sk-container {/* jupyter's `normalize.less` sets `[hidden] { display: none; }` but bootstrap.min.css set `[hidden] { display: none !important; }` so we also need the `!important` here to be able to override the default hidden behavior on the sphinx rendered scikit-learn.org. See: https://github.com/scikit-learn/scikit-learn/issues/21755 */display: inline-block !important;position: relative;}#sk-container-id-3 div.sk-text-repr-fallback {display: none;}</style><div id=\"sk-container-id-3\" class=\"sk-top-container\"><div class=\"sk-text-repr-fallback\"><pre>RandomizedSearchCV(cv=5, estimator=DecisionTreeClassifier(), n_iter=100,\n",
       "                   param_distributions=[{&#x27;criterion&#x27;: [&#x27;gini&#x27;, &#x27;entropy&#x27;],\n",
       "                                         &#x27;max_depth&#x27;: [10, 20, 50, 100, 500],\n",
       "                                         &#x27;max_leaf_nodes&#x27;: [10, 20, 50, 100,\n",
       "                                                            500, 1000, 1500],\n",
       "                                         &#x27;min_samples_split&#x27;: [10, 20, 50, 100,\n",
       "                                                               500, 1000,\n",
       "                                                               2000]}])</pre><b>In a Jupyter environment, please rerun this cell to show the HTML representation or trust the notebook. <br />On GitHub, the HTML representation is unable to render, please try loading this page with nbviewer.org.</b></div><div class=\"sk-container\" hidden><div class=\"sk-item sk-dashed-wrapped\"><div class=\"sk-label-container\"><div class=\"sk-label sk-toggleable\"><input class=\"sk-toggleable__control sk-hidden--visually\" id=\"sk-estimator-id-3\" type=\"checkbox\" ><label for=\"sk-estimator-id-3\" class=\"sk-toggleable__label sk-toggleable__label-arrow\">RandomizedSearchCV</label><div class=\"sk-toggleable__content\"><pre>RandomizedSearchCV(cv=5, estimator=DecisionTreeClassifier(), n_iter=100,\n",
       "                   param_distributions=[{&#x27;criterion&#x27;: [&#x27;gini&#x27;, &#x27;entropy&#x27;],\n",
       "                                         &#x27;max_depth&#x27;: [10, 20, 50, 100, 500],\n",
       "                                         &#x27;max_leaf_nodes&#x27;: [10, 20, 50, 100,\n",
       "                                                            500, 1000, 1500],\n",
       "                                         &#x27;min_samples_split&#x27;: [10, 20, 50, 100,\n",
       "                                                               500, 1000,\n",
       "                                                               2000]}])</pre></div></div></div><div class=\"sk-parallel\"><div class=\"sk-parallel-item\"><div class=\"sk-item\"><div class=\"sk-label-container\"><div class=\"sk-label sk-toggleable\"><input class=\"sk-toggleable__control sk-hidden--visually\" id=\"sk-estimator-id-4\" type=\"checkbox\" ><label for=\"sk-estimator-id-4\" class=\"sk-toggleable__label sk-toggleable__label-arrow\">estimator: DecisionTreeClassifier</label><div class=\"sk-toggleable__content\"><pre>DecisionTreeClassifier()</pre></div></div></div><div class=\"sk-serial\"><div class=\"sk-item\"><div class=\"sk-estimator sk-toggleable\"><input class=\"sk-toggleable__control sk-hidden--visually\" id=\"sk-estimator-id-5\" type=\"checkbox\" ><label for=\"sk-estimator-id-5\" class=\"sk-toggleable__label sk-toggleable__label-arrow\">DecisionTreeClassifier</label><div class=\"sk-toggleable__content\"><pre>DecisionTreeClassifier()</pre></div></div></div></div></div></div></div></div></div></div>"
      ],
      "text/plain": [
       "RandomizedSearchCV(cv=5, estimator=DecisionTreeClassifier(), n_iter=100,\n",
       "                   param_distributions=[{'criterion': ['gini', 'entropy'],\n",
       "                                         'max_depth': [10, 20, 50, 100, 500],\n",
       "                                         'max_leaf_nodes': [10, 20, 50, 100,\n",
       "                                                            500, 1000, 1500],\n",
       "                                         'min_samples_split': [10, 20, 50, 100,\n",
       "                                                               500, 1000,\n",
       "                                                               2000]}])"
      ]
     },
     "execution_count": 78,
     "metadata": {},
     "output_type": "execute_result"
    }
   ],
   "source": [
    "rsc_pumpkin.fit(dt_X_train,dt_y_train)"
   ]
  },
  {
   "cell_type": "markdown",
   "metadata": {},
   "source": [
    "By calling the `best_params_` variable, we can get the dictionary of best hyperparameter values for our tuned decision tree model."
   ]
  },
  {
   "cell_type": "code",
   "execution_count": 79,
   "metadata": {},
   "outputs": [
    {
     "data": {
      "text/plain": [
       "{'min_samples_split': 100,\n",
       " 'max_leaf_nodes': 10,\n",
       " 'max_depth': 10,\n",
       " 'criterion': 'gini'}"
      ]
     },
     "execution_count": 79,
     "metadata": {},
     "output_type": "execute_result"
    }
   ],
   "source": [
    "rsc_pumpkin.best_params_"
   ]
  },
  {
   "cell_type": "markdown",
   "metadata": {},
   "source": [
    "Now that we have the best hyperparameters based from `RandomizedSearchCV`, we can define a new estimator model based on these hyperparameters. We follow the same pipeline as the baseline model, in which we fit the model using our train data and create predictions on our test data."
   ]
  },
  {
   "cell_type": "code",
   "execution_count": 80,
   "metadata": {},
   "outputs": [],
   "source": [
    "pumpkin_dt_tuned = DecisionTreeClassifier(min_samples_split=100, max_leaf_nodes=10, max_depth=20,criterion=\"gini\")"
   ]
  },
  {
   "cell_type": "code",
   "execution_count": 81,
   "metadata": {},
   "outputs": [
    {
     "data": {
      "text/html": [
       "<style>#sk-container-id-4 {color: black;}#sk-container-id-4 pre{padding: 0;}#sk-container-id-4 div.sk-toggleable {background-color: white;}#sk-container-id-4 label.sk-toggleable__label {cursor: pointer;display: block;width: 100%;margin-bottom: 0;padding: 0.3em;box-sizing: border-box;text-align: center;}#sk-container-id-4 label.sk-toggleable__label-arrow:before {content: \"▸\";float: left;margin-right: 0.25em;color: #696969;}#sk-container-id-4 label.sk-toggleable__label-arrow:hover:before {color: black;}#sk-container-id-4 div.sk-estimator:hover label.sk-toggleable__label-arrow:before {color: black;}#sk-container-id-4 div.sk-toggleable__content {max-height: 0;max-width: 0;overflow: hidden;text-align: left;background-color: #f0f8ff;}#sk-container-id-4 div.sk-toggleable__content pre {margin: 0.2em;color: black;border-radius: 0.25em;background-color: #f0f8ff;}#sk-container-id-4 input.sk-toggleable__control:checked~div.sk-toggleable__content {max-height: 200px;max-width: 100%;overflow: auto;}#sk-container-id-4 input.sk-toggleable__control:checked~label.sk-toggleable__label-arrow:before {content: \"▾\";}#sk-container-id-4 div.sk-estimator input.sk-toggleable__control:checked~label.sk-toggleable__label {background-color: #d4ebff;}#sk-container-id-4 div.sk-label input.sk-toggleable__control:checked~label.sk-toggleable__label {background-color: #d4ebff;}#sk-container-id-4 input.sk-hidden--visually {border: 0;clip: rect(1px 1px 1px 1px);clip: rect(1px, 1px, 1px, 1px);height: 1px;margin: -1px;overflow: hidden;padding: 0;position: absolute;width: 1px;}#sk-container-id-4 div.sk-estimator {font-family: monospace;background-color: #f0f8ff;border: 1px dotted black;border-radius: 0.25em;box-sizing: border-box;margin-bottom: 0.5em;}#sk-container-id-4 div.sk-estimator:hover {background-color: #d4ebff;}#sk-container-id-4 div.sk-parallel-item::after {content: \"\";width: 100%;border-bottom: 1px solid gray;flex-grow: 1;}#sk-container-id-4 div.sk-label:hover label.sk-toggleable__label {background-color: #d4ebff;}#sk-container-id-4 div.sk-serial::before {content: \"\";position: absolute;border-left: 1px solid gray;box-sizing: border-box;top: 0;bottom: 0;left: 50%;z-index: 0;}#sk-container-id-4 div.sk-serial {display: flex;flex-direction: column;align-items: center;background-color: white;padding-right: 0.2em;padding-left: 0.2em;position: relative;}#sk-container-id-4 div.sk-item {position: relative;z-index: 1;}#sk-container-id-4 div.sk-parallel {display: flex;align-items: stretch;justify-content: center;background-color: white;position: relative;}#sk-container-id-4 div.sk-item::before, #sk-container-id-4 div.sk-parallel-item::before {content: \"\";position: absolute;border-left: 1px solid gray;box-sizing: border-box;top: 0;bottom: 0;left: 50%;z-index: -1;}#sk-container-id-4 div.sk-parallel-item {display: flex;flex-direction: column;z-index: 1;position: relative;background-color: white;}#sk-container-id-4 div.sk-parallel-item:first-child::after {align-self: flex-end;width: 50%;}#sk-container-id-4 div.sk-parallel-item:last-child::after {align-self: flex-start;width: 50%;}#sk-container-id-4 div.sk-parallel-item:only-child::after {width: 0;}#sk-container-id-4 div.sk-dashed-wrapped {border: 1px dashed gray;margin: 0 0.4em 0.5em 0.4em;box-sizing: border-box;padding-bottom: 0.4em;background-color: white;}#sk-container-id-4 div.sk-label label {font-family: monospace;font-weight: bold;display: inline-block;line-height: 1.2em;}#sk-container-id-4 div.sk-label-container {text-align: center;}#sk-container-id-4 div.sk-container {/* jupyter's `normalize.less` sets `[hidden] { display: none; }` but bootstrap.min.css set `[hidden] { display: none !important; }` so we also need the `!important` here to be able to override the default hidden behavior on the sphinx rendered scikit-learn.org. See: https://github.com/scikit-learn/scikit-learn/issues/21755 */display: inline-block !important;position: relative;}#sk-container-id-4 div.sk-text-repr-fallback {display: none;}</style><div id=\"sk-container-id-4\" class=\"sk-top-container\"><div class=\"sk-text-repr-fallback\"><pre>DecisionTreeClassifier(max_depth=20, max_leaf_nodes=10, min_samples_split=100)</pre><b>In a Jupyter environment, please rerun this cell to show the HTML representation or trust the notebook. <br />On GitHub, the HTML representation is unable to render, please try loading this page with nbviewer.org.</b></div><div class=\"sk-container\" hidden><div class=\"sk-item\"><div class=\"sk-estimator sk-toggleable\"><input class=\"sk-toggleable__control sk-hidden--visually\" id=\"sk-estimator-id-6\" type=\"checkbox\" checked><label for=\"sk-estimator-id-6\" class=\"sk-toggleable__label sk-toggleable__label-arrow\">DecisionTreeClassifier</label><div class=\"sk-toggleable__content\"><pre>DecisionTreeClassifier(max_depth=20, max_leaf_nodes=10, min_samples_split=100)</pre></div></div></div></div></div>"
      ],
      "text/plain": [
       "DecisionTreeClassifier(max_depth=20, max_leaf_nodes=10, min_samples_split=100)"
      ]
     },
     "execution_count": 81,
     "metadata": {},
     "output_type": "execute_result"
    }
   ],
   "source": [
    "pumpkin_dt_tuned.fit(dt_X_train,dt_y_train)"
   ]
  },
  {
   "cell_type": "code",
   "execution_count": 82,
   "metadata": {},
   "outputs": [
    {
     "data": {
      "text/plain": [
       "array([1, 0, 0, 1, 0, 1, 0, 1, 0, 1, 0, 0, 1, 0, 1, 0, 0, 0, 1, 0, 1, 0,\n",
       "       1, 0, 1, 0, 0, 0, 1, 1, 1, 0, 1, 1, 1, 0, 0, 1, 0, 0, 0, 0, 0, 1,\n",
       "       1, 1, 1, 1, 1, 0, 1, 0, 0, 1, 1, 0, 0, 0, 0, 1, 1, 0, 0, 1, 0, 1,\n",
       "       0, 0, 0, 1, 0, 1, 0, 1, 0, 0, 0, 0, 1, 1, 0, 0, 1, 0, 1, 1, 1, 1,\n",
       "       0, 1, 0, 1, 0, 1, 0, 1, 1, 1, 0, 1, 1, 0, 0, 0, 1, 0, 1, 1, 0, 1,\n",
       "       1, 0, 1, 0, 0, 0, 0, 0, 0, 1, 1, 0, 1, 0, 0, 1, 1, 0, 1, 1, 1, 1,\n",
       "       0, 0, 0, 0, 0, 0, 1, 0, 0, 1, 0, 1, 1, 1, 0, 1, 1, 1, 1, 0, 1, 0,\n",
       "       1, 1, 0, 0, 1, 1, 1, 0, 0, 0, 1, 0, 1, 1, 1, 0, 1, 0, 1, 1, 0, 1,\n",
       "       1, 1, 1, 0, 1, 0, 0, 0, 1, 1, 0, 1, 0, 0, 0, 1, 0, 1, 1, 0, 0, 1,\n",
       "       1, 0, 1, 1, 1, 0, 1, 1, 1, 0, 1, 0, 1, 1, 0, 0, 1, 1, 0, 0, 1, 1,\n",
       "       0, 0, 0, 0, 0, 1, 0, 1, 0, 0, 1, 0, 0, 1, 0, 1, 1, 0, 0, 1, 1, 1,\n",
       "       0, 0, 0, 1, 0, 0, 1, 0, 1, 1, 1, 0, 1, 1, 0, 0, 1, 0, 0, 0, 0, 1,\n",
       "       1, 1, 0, 1, 0, 0, 1, 0, 1, 1, 1, 1, 1, 1, 0, 0, 1, 0, 0, 1, 0, 0,\n",
       "       1, 0, 1, 0, 1, 1, 0, 0, 0, 1, 0, 1, 1, 0, 1, 0, 0, 1, 1, 1, 1, 1,\n",
       "       1, 1, 1, 1, 0, 1, 1, 1, 1, 0, 0, 1, 1, 0, 1, 1, 1, 0, 0, 0, 1, 1,\n",
       "       0, 1, 1, 0, 1, 1, 0, 0, 1, 1, 0, 1, 0, 1, 1, 0, 1, 1, 0, 0, 1, 0,\n",
       "       1, 0, 1, 1, 1, 0, 0, 1, 0, 1, 1, 1, 1, 0, 0, 1, 1, 0, 0, 0, 0, 0,\n",
       "       0, 1, 0, 0, 1, 0, 0, 0, 1, 0, 0, 1, 0, 0, 0, 1, 0, 0, 1, 0, 0, 1,\n",
       "       1, 0, 1, 1, 0, 0, 1, 0, 0, 1, 1, 0, 1, 1, 1, 1, 1, 0, 0, 0, 0, 0,\n",
       "       1, 0, 0, 0, 0, 1, 1, 1, 1, 1, 1, 0, 1, 0, 1, 1, 1, 1, 1, 0, 1, 1,\n",
       "       0, 0, 1, 1, 1, 1, 1, 0, 1, 1, 1, 1, 0, 1, 1, 1, 0, 1, 1, 1, 0, 0,\n",
       "       1, 1, 1, 1, 0, 0, 1, 0, 0, 0, 0, 1, 0, 0, 0, 0, 0, 1, 1, 1, 1, 0,\n",
       "       1, 0, 0, 1, 1, 1, 0, 1, 1, 1, 1, 0, 1, 1, 1, 1, 0, 1, 0, 0, 1, 0,\n",
       "       0, 0, 0, 0, 1, 0, 1, 0, 1, 0, 0, 0, 0, 0, 0, 1, 1, 1, 0, 0, 0, 1,\n",
       "       1, 1, 0, 0, 1, 1, 1, 1, 1, 1, 0, 0, 0, 1, 0, 1, 0, 1, 1, 1, 0, 0,\n",
       "       1, 0, 1, 0, 1, 0, 0, 1, 1, 0, 0, 1, 0, 1, 1, 1, 0, 1, 1, 0, 0, 1,\n",
       "       0, 0, 1, 1, 0, 0, 0, 0, 0, 1, 1, 1, 1, 1, 0, 1, 1, 1, 0, 0, 0, 0,\n",
       "       0, 0, 1, 0, 1, 1, 1, 1, 1, 1, 1, 1, 0, 0, 1, 0, 1, 0, 1, 0, 0, 1,\n",
       "       0, 0, 0, 0, 0, 1, 0, 1, 0, 0, 1, 1, 0, 0, 1, 0, 0, 0, 1, 0, 0, 0,\n",
       "       0, 0, 0, 0, 0, 1, 0, 0, 1, 0, 1, 1, 1, 0, 0, 1, 1, 0, 1, 1, 1, 1,\n",
       "       0, 1, 1, 1, 1, 1, 1, 0, 0, 0, 0, 1, 1, 0, 1, 1, 1, 1, 1, 0, 1, 1,\n",
       "       1, 0, 1, 0, 1, 1, 1, 1, 0, 0, 0, 1, 0, 0, 1, 1, 1, 1, 1, 0, 0, 0,\n",
       "       1, 0, 0, 0, 0, 0, 0, 0, 1, 0, 0, 0, 1, 0, 1, 1, 0, 0, 0, 1, 1, 1,\n",
       "       0, 1, 1, 0, 1, 1, 1, 0, 0, 1, 1, 1, 1, 0, 1, 1, 1, 1, 0, 1, 0, 0,\n",
       "       1, 1])"
      ]
     },
     "execution_count": 82,
     "metadata": {},
     "output_type": "execute_result"
    }
   ],
   "source": [
    "pumpkin_dt_tuned_preds = pumpkin_dt_tuned.predict(dt_X_test)\n",
    "pumpkin_dt_tuned_preds"
   ]
  },
  {
   "cell_type": "markdown",
   "metadata": {},
   "source": [
    "Now that we have fitted the tuned decision tree model and created predictions on our test data, we can describe and visualize this tuned tree."
   ]
  },
  {
   "cell_type": "code",
   "execution_count": 83,
   "metadata": {},
   "outputs": [
    {
     "name": "stdout",
     "output_type": "stream",
     "text": [
      "The binary tree structure has 19 nodes and has the following tree structure:\n",
      "\n",
      "node=0 is a split node: go to node 1 if X[:, 10] <= 2.0382500886917114 else to node 2.\n",
      "\tnode=1 is a split node: go to node 3 if X[:, 6] <= 0.8511500060558319 else to node 4.\n",
      "\tnode=2 is a split node: go to node 5 if X[:, 6] <= 0.8832499980926514 else to node 6.\n",
      "\t\tnode=3 is a split node: go to node 9 if X[:, 4] <= 108591.5 else to node 10.\n",
      "\t\tnode=4 is a split node: go to node 7 if X[:, 7] <= 0.991349995136261 else to node 8.\n",
      "\t\tnode=5 is a split node: go to node 13 if X[:, 7] <= 0.9905499815940857 else to node 14.\n",
      "\t\tnode=6 is a leaf node, values: [[ 30. 590.]].\n",
      "\t\t\tnode=7 is a split node: go to node 11 if X[:, 1] <= 978.4070129394531 else to node 12.\n",
      "\t\t\tnode=8 is a leaf node, values: [[19. 39.]].\n",
      "\t\t\tnode=9 is a split node: go to node 17 if X[:, 11] <= 0.7415499985218048 else to node 18.\n",
      "\t\t\tnode=10 is a leaf node, values: [[0. 6.]].\n",
      "\t\t\t\tnode=11 is a leaf node, values: [[2. 9.]].\n",
      "\t\t\t\tnode=12 is a split node: go to node 15 if X[:, 1] <= 1253.9349975585938 else to node 16.\n",
      "\t\t\tnode=13 is a leaf node, values: [[37. 42.]].\n",
      "\t\t\tnode=14 is a leaf node, values: [[ 9. 49.]].\n",
      "\t\t\t\t\tnode=15 is a leaf node, values: [[155.  31.]].\n",
      "\t\t\t\t\tnode=16 is a leaf node, values: [[4. 8.]].\n",
      "\t\t\t\tnode=17 is a leaf node, values: [[216.  38.]].\n",
      "\t\t\t\tnode=18 is a leaf node, values: [[449.  17.]].\n"
     ]
    }
   ],
   "source": [
    "describe_tree(pumpkin_dt_tuned)"
   ]
  },
  {
   "cell_type": "code",
   "execution_count": 84,
   "metadata": {},
   "outputs": [
    {
     "data": {
      "image/png": "[encoded data removed]",
      "text/plain": [
       "<Figure size 640x480 with 1 Axes>"
      ]
     },
     "metadata": {},
     "output_type": "display_data"
    }
   ],
   "source": [
    "tree.plot_tree(pumpkin_dt_tuned)\n",
    "plt.show()"
   ]
  },
  {
   "cell_type": "markdown",
   "metadata": {},
   "source": [
    "We significantly ended up with lesser nodes and a more shallow depth of tree. Our tuned tree now has 19 nodes, and at the root node, it looks at the feature at index 6 to ask the first question. This is the same as our original tree, and it asks about the `Eccentricity` of the pumpkin seed."
   ]
  },
  {
   "cell_type": "markdown",
   "metadata": {},
   "source": [
    "### *Model 3: Logistic Regression*"
   ]
  },
  {
   "cell_type": "markdown",
   "metadata": {},
   "source": [
    "Since the dataset mainly consists of 2 classes (\"Cercevelik\" and \"Urgup Sivrisi\"), we can use Logistic Regression in predicting the pumpkin seed class based on the provided features.  This is primarily because Logistic Regression excels in binary classification problems.  The dataset's features, including area, perimeter, major axis lengths, and others, provide valuable information for predicting seed class."
   ]
  },
  {
   "cell_type": "markdown",
   "metadata": {},
   "source": [
    "We will use `sklearn`'s `SGDClassifier` to create our logistic regression model. A binomial logistic regression is optimal for our model since there are only two classes (`Çerçevelik` or `Ürgüp Sivrisi`) in our dataset."
   ]
  },
  {
   "cell_type": "markdown",
   "metadata": {},
   "source": [
    "We will split the data into 70% for the training set and 30% for the testing set.\n",
    "\n",
    "We will use the normalized data to ensure reliable and efficient SGDClassifier performance."
   ]
  },
  {
   "cell_type": "code",
   "execution_count": 85,
   "metadata": {},
   "outputs": [
    {
     "name": "stdout",
     "output_type": "stream",
     "text": [
      "X_train shape :  (1750, 12)\n",
      "y_train shape :  (1750,)\n",
      "X_test shape :  (750, 12)\n",
      "y_test shape :  (750,)\n"
     ]
    }
   ],
   "source": [
    "logreg_X_train, logreg_X_test, logreg_y_train, logreg_y_test = train_test_split(X_norm, y, test_size=0.3, random_state=1)\n",
    "print(\"X_train shape : \", logreg_X_train.shape)\n",
    "print(\"y_train shape : \", logreg_y_train.shape)\n",
    "print(\"X_test shape : \", logreg_X_test.shape)\n",
    "print(\"y_test shape : \", logreg_y_test.shape)"
   ]
  },
  {
   "cell_type": "markdown",
   "metadata": {},
   "source": [
    "Visualize the train data."
   ]
  },
  {
   "cell_type": "code",
   "execution_count": 86,
   "metadata": {},
   "outputs": [
    {
     "data": {
      "text/plain": [
       "Text(0.5, 1.0, 'Train data')"
      ]
     },
     "execution_count": 86,
     "metadata": {},
     "output_type": "execute_result"
    },
    {
     "data": {
      "image/png": "[encoded data removed]",
      "text/plain": [
       "<Figure size 640x480 with 1 Axes>"
      ]
     },
     "metadata": {},
     "output_type": "display_data"
    }
   ],
   "source": [
    "plt.scatter(logreg_X_train[:, 0], logreg_X_train[:, 1], c=logreg_y_train)\n",
    "plt.title('Train data')"
   ]
  },
  {
   "cell_type": "markdown",
   "metadata": {},
   "source": [
    "Visualize the test data."
   ]
  },
  {
   "cell_type": "code",
   "execution_count": 87,
   "metadata": {},
   "outputs": [
    {
     "data": {
      "text/plain": [
       "Text(0.5, 1.0, 'Test data')"
      ]
     },
     "execution_count": 87,
     "metadata": {},
     "output_type": "execute_result"
    },
    {
     "data": {
      "image/png": "[encoded data removed]",
      "text/plain": [
       "<Figure size 640x480 with 1 Axes>"
      ]
     },
     "metadata": {},
     "output_type": "display_data"
    }
   ],
   "source": [
    "plt.scatter(logreg_X_test[:, 0], logreg_X_test[:, 1], c=logreg_y_test)\n",
    "plt.title('Test data')"
   ]
  },
  {
   "cell_type": "markdown",
   "metadata": {},
   "source": [
    "Import the `SGDClassifier` class."
   ]
  },
  {
   "cell_type": "code",
   "execution_count": 88,
   "metadata": {},
   "outputs": [],
   "source": [
    "from sklearn.linear_model import SGDClassifier"
   ]
  },
  {
   "cell_type": "markdown",
   "metadata": {},
   "source": [
    "**Setting `SGDClassifier` parameters**\n",
    "\n",
    "| Name                      | Parameter       | Value      | Description                                                                                                                     |\n",
    "|---------------------------|-----------------|------------|---------------------------------------------------------------------------------------------------------------------------------|\n",
    "| **Loss function**         | `loss`          | 'log_loss' | Set to `'log_loss'` for logistic regression.                                                                                    |\n",
    "| **Initial learning rate** | `eta0`          | 0.001      | Set the initial learning rate to a small value (`0.001`) to ensure gradual updates, preventing overshooting optimal parameters. |\n",
    "| **Maximum iterations**    | `max_iter`      | 200        | Limit the training iterations to `200` to prevent overfitting.                                                                  |\n",
    "| **Learning rate**         | `learning_rate` | 'constant' | Maintain a constant learning rate throughout training.                                                                          |\n",
    "| **Random state**          | `random_state`  | 1          | Ensure reproducibility by fixing the random seed.                                                                               |\n",
    "| **Verbose**               | `verbose`       | 1          | Display training progress.                                                                                                      |"
   ]
  },
  {
   "cell_type": "code",
   "execution_count": 89,
   "metadata": {},
   "outputs": [],
   "source": [
    "logreg = SGDClassifier(\n",
    "    loss='log_loss',\n",
    "    eta0=0.001,\n",
    "    max_iter=200,\n",
    "    learning_rate='constant',\n",
    "    random_state=1,\n",
    "    verbose=1,\n",
    ")"
   ]
  },
  {
   "cell_type": "markdown",
   "metadata": {},
   "source": [
    "Train the model by calling the `fit()` function"
   ]
  },
  {
   "cell_type": "code",
   "execution_count": 90,
   "metadata": {},
   "outputs": [
    {
     "name": "stdout",
     "output_type": "stream",
     "text": [
      "-- Epoch 1\n",
      "Norm: 0.21, NNZs: 12, Bias: -0.028420, T: 1750, Avg. loss: 0.679999\n",
      "Total training time: 0.00 seconds.\n",
      "-- Epoch 2\n",
      "Norm: 0.41, NNZs: 12, Bias: -0.029970, T: 3500, Avg. loss: 0.656103\n",
      "Total training time: 0.00 seconds.\n",
      "-- Epoch 3\n",
      "Norm: 0.60, NNZs: 12, Bias: -0.041565, T: 5250, Avg. loss: 0.634575\n",
      "Total training time: 0.00 seconds.\n",
      "-- Epoch 4\n",
      "Norm: 0.78, NNZs: 12, Bias: -0.040902, T: 7000, Avg. loss: 0.615108\n",
      "Total training time: 0.00 seconds.\n",
      "-- Epoch 5\n",
      "Norm: 0.95, NNZs: 12, Bias: -0.048916, T: 8750, Avg. loss: 0.597496\n",
      "Total training time: 0.00 seconds.\n",
      "-- Epoch 6\n",
      "Norm: 1.11, NNZs: 12, Bias: -0.056832, T: 10500, Avg. loss: 0.581523\n",
      "Total training time: 0.00 seconds.\n",
      "-- Epoch 7\n",
      "Norm: 1.27, NNZs: 12, Bias: -0.051700, T: 12250, Avg. loss: 0.566833\n",
      "Total training time: 0.00 seconds.\n",
      "-- Epoch 8\n",
      "Norm: 1.41, NNZs: 12, Bias: -0.067736, T: 14000, Avg. loss: 0.553692\n",
      "Total training time: 0.00 seconds.\n",
      "-- Epoch 9\n",
      "Norm: 1.56, NNZs: 12, Bias: -0.062887, T: 15750, Avg. loss: 0.541551\n",
      "Total training time: 0.00 seconds.\n",
      "-- Epoch 10\n",
      "Norm: 1.69, NNZs: 12, Bias: -0.077559, T: 17500, Avg. loss: 0.530364\n",
      "Total training time: 0.01 seconds.\n",
      "-- Epoch 11\n",
      "Norm: 1.82, NNZs: 12, Bias: -0.069263, T: 19250, Avg. loss: 0.520386\n",
      "Total training time: 0.01 seconds.\n",
      "-- Epoch 12\n",
      "Norm: 1.95, NNZs: 12, Bias: -0.071531, T: 21000, Avg. loss: 0.511037\n",
      "Total training time: 0.01 seconds.\n",
      "-- Epoch 13\n",
      "Norm: 2.07, NNZs: 12, Bias: -0.081550, T: 22750, Avg. loss: 0.502409\n",
      "Total training time: 0.01 seconds.\n",
      "-- Epoch 14\n",
      "Norm: 2.18, NNZs: 12, Bias: -0.085348, T: 24500, Avg. loss: 0.494361\n",
      "Total training time: 0.01 seconds.\n",
      "-- Epoch 15\n",
      "Norm: 2.29, NNZs: 12, Bias: -0.081724, T: 26250, Avg. loss: 0.487035\n",
      "Total training time: 0.01 seconds.\n",
      "-- Epoch 16\n",
      "Norm: 2.40, NNZs: 12, Bias: -0.080506, T: 28000, Avg. loss: 0.480003\n",
      "Total training time: 0.01 seconds.\n",
      "-- Epoch 17\n",
      "Norm: 2.51, NNZs: 12, Bias: -0.082669, T: 29750, Avg. loss: 0.473746\n",
      "Total training time: 0.01 seconds.\n",
      "-- Epoch 18\n",
      "Norm: 2.61, NNZs: 12, Bias: -0.084932, T: 31500, Avg. loss: 0.467756\n",
      "Total training time: 0.01 seconds.\n",
      "-- Epoch 19\n",
      "Norm: 2.70, NNZs: 12, Bias: -0.093528, T: 33250, Avg. loss: 0.462235\n",
      "Total training time: 0.01 seconds.\n",
      "-- Epoch 20\n",
      "Norm: 2.80, NNZs: 12, Bias: -0.091688, T: 35000, Avg. loss: 0.456998\n",
      "Total training time: 0.01 seconds.\n",
      "-- Epoch 21\n",
      "Norm: 2.89, NNZs: 12, Bias: -0.095260, T: 36750, Avg. loss: 0.452122\n",
      "Total training time: 0.01 seconds.\n",
      "-- Epoch 22\n",
      "Norm: 2.97, NNZs: 12, Bias: -0.098325, T: 38500, Avg. loss: 0.447493\n",
      "Total training time: 0.01 seconds.\n",
      "-- Epoch 23\n",
      "Norm: 3.06, NNZs: 12, Bias: -0.095347, T: 40250, Avg. loss: 0.443144\n",
      "Total training time: 0.01 seconds.\n",
      "-- Epoch 24\n",
      "Norm: 3.14, NNZs: 12, Bias: -0.099382, T: 42000, Avg. loss: 0.439128\n",
      "Total training time: 0.01 seconds.\n",
      "-- Epoch 25\n",
      "Norm: 3.22, NNZs: 12, Bias: -0.099145, T: 43750, Avg. loss: 0.435263\n",
      "Total training time: 0.01 seconds.\n",
      "-- Epoch 26\n",
      "Norm: 3.30, NNZs: 12, Bias: -0.113857, T: 45500, Avg. loss: 0.431361\n",
      "Total training time: 0.01 seconds.\n",
      "-- Epoch 27\n",
      "Norm: 3.38, NNZs: 12, Bias: -0.104257, T: 47250, Avg. loss: 0.428222\n",
      "Total training time: 0.01 seconds.\n",
      "-- Epoch 28\n",
      "Norm: 3.45, NNZs: 12, Bias: -0.103458, T: 49000, Avg. loss: 0.424930\n",
      "Total training time: 0.01 seconds.\n",
      "-- Epoch 29\n",
      "Norm: 3.52, NNZs: 12, Bias: -0.113865, T: 50750, Avg. loss: 0.421697\n",
      "Total training time: 0.01 seconds.\n",
      "-- Epoch 30\n",
      "Norm: 3.59, NNZs: 12, Bias: -0.111625, T: 52500, Avg. loss: 0.418920\n",
      "Total training time: 0.01 seconds.\n",
      "-- Epoch 31\n",
      "Norm: 3.66, NNZs: 12, Bias: -0.111233, T: 54250, Avg. loss: 0.416118\n",
      "Total training time: 0.01 seconds.\n",
      "-- Epoch 32\n",
      "Norm: 3.73, NNZs: 12, Bias: -0.112918, T: 56000, Avg. loss: 0.413429\n",
      "Total training time: 0.01 seconds.\n",
      "-- Epoch 33\n",
      "Norm: 3.79, NNZs: 12, Bias: -0.117494, T: 57750, Avg. loss: 0.410905\n",
      "Total training time: 0.02 seconds.\n",
      "-- Epoch 34\n",
      "Norm: 3.85, NNZs: 12, Bias: -0.112247, T: 59500, Avg. loss: 0.408497\n",
      "Total training time: 0.02 seconds.\n",
      "-- Epoch 35\n",
      "Norm: 3.92, NNZs: 12, Bias: -0.111555, T: 61250, Avg. loss: 0.406183\n",
      "Total training time: 0.02 seconds.\n",
      "-- Epoch 36\n",
      "Norm: 3.98, NNZs: 12, Bias: -0.113569, T: 63000, Avg. loss: 0.403973\n",
      "Total training time: 0.02 seconds.\n",
      "-- Epoch 37\n",
      "Norm: 4.04, NNZs: 12, Bias: -0.118391, T: 64750, Avg. loss: 0.401905\n",
      "Total training time: 0.02 seconds.\n",
      "-- Epoch 38\n",
      "Norm: 4.09, NNZs: 12, Bias: -0.122635, T: 66500, Avg. loss: 0.399854\n",
      "Total training time: 0.02 seconds.\n",
      "-- Epoch 39\n",
      "Norm: 4.15, NNZs: 12, Bias: -0.123073, T: 68250, Avg. loss: 0.397953\n",
      "Total training time: 0.02 seconds.\n",
      "-- Epoch 40\n",
      "Norm: 4.21, NNZs: 12, Bias: -0.120098, T: 70000, Avg. loss: 0.396126\n",
      "Total training time: 0.02 seconds.\n",
      "-- Epoch 41\n",
      "Norm: 4.26, NNZs: 12, Bias: -0.116460, T: 71750, Avg. loss: 0.394254\n",
      "Total training time: 0.02 seconds.\n",
      "-- Epoch 42\n",
      "Norm: 4.31, NNZs: 12, Bias: -0.125257, T: 73500, Avg. loss: 0.392578\n",
      "Total training time: 0.02 seconds.\n",
      "-- Epoch 43\n",
      "Norm: 4.37, NNZs: 12, Bias: -0.121051, T: 75250, Avg. loss: 0.390981\n",
      "Total training time: 0.02 seconds.\n",
      "-- Epoch 44\n",
      "Norm: 4.42, NNZs: 12, Bias: -0.120942, T: 77000, Avg. loss: 0.389426\n",
      "Total training time: 0.02 seconds.\n",
      "-- Epoch 45\n",
      "Norm: 4.47, NNZs: 12, Bias: -0.125552, T: 78750, Avg. loss: 0.387911\n",
      "Total training time: 0.02 seconds.\n",
      "-- Epoch 46\n",
      "Norm: 4.52, NNZs: 12, Bias: -0.128120, T: 80500, Avg. loss: 0.386440\n",
      "Total training time: 0.02 seconds.\n",
      "-- Epoch 47\n",
      "Norm: 4.56, NNZs: 12, Bias: -0.133487, T: 82250, Avg. loss: 0.384976\n",
      "Total training time: 0.02 seconds.\n",
      "-- Epoch 48\n",
      "Norm: 4.61, NNZs: 12, Bias: -0.132271, T: 84000, Avg. loss: 0.383730\n",
      "Total training time: 0.02 seconds.\n",
      "-- Epoch 49\n",
      "Norm: 4.66, NNZs: 12, Bias: -0.133908, T: 85750, Avg. loss: 0.382360\n",
      "Total training time: 0.02 seconds.\n",
      "-- Epoch 50\n",
      "Norm: 4.70, NNZs: 12, Bias: -0.132615, T: 87500, Avg. loss: 0.381171\n",
      "Total training time: 0.02 seconds.\n",
      "-- Epoch 51\n",
      "Norm: 4.75, NNZs: 12, Bias: -0.132150, T: 89250, Avg. loss: 0.379930\n",
      "Total training time: 0.02 seconds.\n",
      "-- Epoch 52\n",
      "Norm: 4.79, NNZs: 12, Bias: -0.132196, T: 91000, Avg. loss: 0.378764\n",
      "Total training time: 0.02 seconds.\n",
      "-- Epoch 53\n",
      "Norm: 4.84, NNZs: 12, Bias: -0.132651, T: 92750, Avg. loss: 0.377640\n",
      "Total training time: 0.02 seconds.\n",
      "-- Epoch 54\n",
      "Norm: 4.88, NNZs: 12, Bias: -0.132799, T: 94500, Avg. loss: 0.376538\n",
      "Total training time: 0.02 seconds.\n",
      "-- Epoch 55\n",
      "Norm: 4.92, NNZs: 12, Bias: -0.138436, T: 96250, Avg. loss: 0.375453\n",
      "Total training time: 0.02 seconds.\n",
      "-- Epoch 56\n",
      "Norm: 4.96, NNZs: 12, Bias: -0.143481, T: 98000, Avg. loss: 0.374349\n",
      "Total training time: 0.02 seconds.\n",
      "-- Epoch 57\n",
      "Norm: 5.00, NNZs: 12, Bias: -0.138088, T: 99750, Avg. loss: 0.373476\n",
      "Total training time: 0.03 seconds.\n",
      "-- Epoch 58\n",
      "Norm: 5.04, NNZs: 12, Bias: -0.137876, T: 101500, Avg. loss: 0.372506\n",
      "Total training time: 0.03 seconds.\n",
      "-- Epoch 59\n",
      "Norm: 5.08, NNZs: 12, Bias: -0.142545, T: 103250, Avg. loss: 0.371477\n",
      "Total training time: 0.03 seconds.\n",
      "-- Epoch 60\n",
      "Norm: 5.12, NNZs: 12, Bias: -0.145288, T: 105000, Avg. loss: 0.370664\n",
      "Total training time: 0.03 seconds.\n",
      "-- Epoch 61\n",
      "Norm: 5.16, NNZs: 12, Bias: -0.144265, T: 106750, Avg. loss: 0.369823\n",
      "Total training time: 0.03 seconds.\n",
      "-- Epoch 62\n",
      "Norm: 5.19, NNZs: 12, Bias: -0.140906, T: 108500, Avg. loss: 0.368924\n",
      "Total training time: 0.03 seconds.\n",
      "-- Epoch 63\n",
      "Norm: 5.23, NNZs: 12, Bias: -0.139892, T: 110250, Avg. loss: 0.368115\n",
      "Total training time: 0.03 seconds.\n",
      "-- Epoch 64\n",
      "Norm: 5.27, NNZs: 12, Bias: -0.145303, T: 112000, Avg. loss: 0.367335\n",
      "Total training time: 0.03 seconds.\n",
      "Convergence after 64 epochs took 0.03 seconds\n"
     ]
    },
    {
     "data": {
      "text/html": [
       "<style>#sk-container-id-5 {color: black;}#sk-container-id-5 pre{padding: 0;}#sk-container-id-5 div.sk-toggleable {background-color: white;}#sk-container-id-5 label.sk-toggleable__label {cursor: pointer;display: block;width: 100%;margin-bottom: 0;padding: 0.3em;box-sizing: border-box;text-align: center;}#sk-container-id-5 label.sk-toggleable__label-arrow:before {content: \"▸\";float: left;margin-right: 0.25em;color: #696969;}#sk-container-id-5 label.sk-toggleable__label-arrow:hover:before {color: black;}#sk-container-id-5 div.sk-estimator:hover label.sk-toggleable__label-arrow:before {color: black;}#sk-container-id-5 div.sk-toggleable__content {max-height: 0;max-width: 0;overflow: hidden;text-align: left;background-color: #f0f8ff;}#sk-container-id-5 div.sk-toggleable__content pre {margin: 0.2em;color: black;border-radius: 0.25em;background-color: #f0f8ff;}#sk-container-id-5 input.sk-toggleable__control:checked~div.sk-toggleable__content {max-height: 200px;max-width: 100%;overflow: auto;}#sk-container-id-5 input.sk-toggleable__control:checked~label.sk-toggleable__label-arrow:before {content: \"▾\";}#sk-container-id-5 div.sk-estimator input.sk-toggleable__control:checked~label.sk-toggleable__label {background-color: #d4ebff;}#sk-container-id-5 div.sk-label input.sk-toggleable__control:checked~label.sk-toggleable__label {background-color: #d4ebff;}#sk-container-id-5 input.sk-hidden--visually {border: 0;clip: rect(1px 1px 1px 1px);clip: rect(1px, 1px, 1px, 1px);height: 1px;margin: -1px;overflow: hidden;padding: 0;position: absolute;width: 1px;}#sk-container-id-5 div.sk-estimator {font-family: monospace;background-color: #f0f8ff;border: 1px dotted black;border-radius: 0.25em;box-sizing: border-box;margin-bottom: 0.5em;}#sk-container-id-5 div.sk-estimator:hover {background-color: #d4ebff;}#sk-container-id-5 div.sk-parallel-item::after {content: \"\";width: 100%;border-bottom: 1px solid gray;flex-grow: 1;}#sk-container-id-5 div.sk-label:hover label.sk-toggleable__label {background-color: #d4ebff;}#sk-container-id-5 div.sk-serial::before {content: \"\";position: absolute;border-left: 1px solid gray;box-sizing: border-box;top: 0;bottom: 0;left: 50%;z-index: 0;}#sk-container-id-5 div.sk-serial {display: flex;flex-direction: column;align-items: center;background-color: white;padding-right: 0.2em;padding-left: 0.2em;position: relative;}#sk-container-id-5 div.sk-item {position: relative;z-index: 1;}#sk-container-id-5 div.sk-parallel {display: flex;align-items: stretch;justify-content: center;background-color: white;position: relative;}#sk-container-id-5 div.sk-item::before, #sk-container-id-5 div.sk-parallel-item::before {content: \"\";position: absolute;border-left: 1px solid gray;box-sizing: border-box;top: 0;bottom: 0;left: 50%;z-index: -1;}#sk-container-id-5 div.sk-parallel-item {display: flex;flex-direction: column;z-index: 1;position: relative;background-color: white;}#sk-container-id-5 div.sk-parallel-item:first-child::after {align-self: flex-end;width: 50%;}#sk-container-id-5 div.sk-parallel-item:last-child::after {align-self: flex-start;width: 50%;}#sk-container-id-5 div.sk-parallel-item:only-child::after {width: 0;}#sk-container-id-5 div.sk-dashed-wrapped {border: 1px dashed gray;margin: 0 0.4em 0.5em 0.4em;box-sizing: border-box;padding-bottom: 0.4em;background-color: white;}#sk-container-id-5 div.sk-label label {font-family: monospace;font-weight: bold;display: inline-block;line-height: 1.2em;}#sk-container-id-5 div.sk-label-container {text-align: center;}#sk-container-id-5 div.sk-container {/* jupyter's `normalize.less` sets `[hidden] { display: none; }` but bootstrap.min.css set `[hidden] { display: none !important; }` so we also need the `!important` here to be able to override the default hidden behavior on the sphinx rendered scikit-learn.org. See: https://github.com/scikit-learn/scikit-learn/issues/21755 */display: inline-block !important;position: relative;}#sk-container-id-5 div.sk-text-repr-fallback {display: none;}</style><div id=\"sk-container-id-5\" class=\"sk-top-container\"><div class=\"sk-text-repr-fallback\"><pre>SGDClassifier(eta0=0.001, learning_rate=&#x27;constant&#x27;, loss=&#x27;log_loss&#x27;,\n",
       "              max_iter=200, random_state=1, verbose=1)</pre><b>In a Jupyter environment, please rerun this cell to show the HTML representation or trust the notebook. <br />On GitHub, the HTML representation is unable to render, please try loading this page with nbviewer.org.</b></div><div class=\"sk-container\" hidden><div class=\"sk-item\"><div class=\"sk-estimator sk-toggleable\"><input class=\"sk-toggleable__control sk-hidden--visually\" id=\"sk-estimator-id-7\" type=\"checkbox\" checked><label for=\"sk-estimator-id-7\" class=\"sk-toggleable__label sk-toggleable__label-arrow\">SGDClassifier</label><div class=\"sk-toggleable__content\"><pre>SGDClassifier(eta0=0.001, learning_rate=&#x27;constant&#x27;, loss=&#x27;log_loss&#x27;,\n",
       "              max_iter=200, random_state=1, verbose=1)</pre></div></div></div></div></div>"
      ],
      "text/plain": [
       "SGDClassifier(eta0=0.001, learning_rate='constant', loss='log_loss',\n",
       "              max_iter=200, random_state=1, verbose=1)"
      ]
     },
     "execution_count": 90,
     "metadata": {},
     "output_type": "execute_result"
    }
   ],
   "source": [
    "logreg.fit(logreg_X_train, logreg_y_train)"
   ]
  },
  {
   "cell_type": "markdown",
   "metadata": {},
   "source": [
    "To see if our model does well, we test our trained model on the test set and get the prediction results.\n"
   ]
  },
  {
   "cell_type": "code",
   "execution_count": 91,
   "metadata": {},
   "outputs": [
    {
     "name": "stdout",
     "output_type": "stream",
     "text": [
      "[0 0 0 1 0 1 0 1 0 1 0 0 1 0 1 0 0 0 1 0 1 0 1 0 1 0 0 0 1 1 1 0 1 1 1 0 1\n",
      " 0 0 0 0 1 0 1 1 1 1 1 1 0 1 0 0 1 1 0 0 0 0 1 1 0 0 1 0 1 0 0 0 0 0 1 0 1\n",
      " 0 0 0 0 1 0 0 0 0 0 1 0 1 0 0 0 0 1 0 0 0 1 0 1 0 1 1 0 0 0 0 0 1 1 0 1 1\n",
      " 0 1 0 0 0 0 0 0 0 1 0 1 0 0 1 1 0 1 1 1 1 0 0 0 0 0 0 1 0 0 1 0 1 1 1 0 1\n",
      " 1 1 1 0 1 0 1 1 0 0 1 1 1 0 0 0 1 0 1 0 1 0 1 0 0 1 0 1 1 1 1 0 1 0 0 0 1\n",
      " 1 0 0 0 0 0 1 0 1 1 0 0 1 1 0 1 1 1 0 1 1 1 0 0 0 1 1 0 0 1 1 0 0 1 1 0 0\n",
      " 0 0 1 1 0 1 0 0 1 0 0 1 0 1 1 0 0 1 0 1 0 0 0 1 0 0 1 0 1 1 1 0 1 1 0 0 1\n",
      " 0 0 0 0 1 1 1 0 1 0 0 0 0 1 1 1 1 1 1 0 0 1 0 0 1 0 0 1 0 1 0 1 0 0 0 0 1\n",
      " 0 1 0 0 1 0 0 0 1 1 1 1 1 1 1 1 0 1 0 0 1 0 0 1 1 0 0 1 1 0 0 0 1 1 0 1 1\n",
      " 0 1 1 0 0 1 1 0 1 0 1 0 0 1 1 0 0 1 0 0 0 1 1 0 0 0 1 0 1 1 1 1 0 0 1 1 0\n",
      " 0 0 0 0 0 1 0 0 1 0 0 0 1 0 0 1 0 0 0 1 0 0 1 0 0 0 1 0 1 1 0 0 1 0 0 1 1\n",
      " 0 1 1 1 1 1 0 0 0 0 0 0 0 0 0 0 0 1 0 1 1 1 0 1 0 1 1 1 1 1 0 1 1 0 0 1 1\n",
      " 1 1 1 0 1 1 1 1 0 1 1 1 0 1 0 1 0 0 1 1 1 1 0 0 1 0 0 0 0 1 0 0 0 0 0 1 1\n",
      " 1 1 0 1 0 0 1 1 1 0 1 1 0 1 0 1 1 1 0 0 1 0 0 1 0 0 0 0 0 1 0 1 0 1 0 0 0\n",
      " 0 0 0 1 1 1 0 0 0 1 1 1 0 0 1 1 1 1 1 1 0 0 0 1 0 1 0 1 0 1 0 0 1 0 1 0 1\n",
      " 0 0 1 1 0 0 1 0 1 1 1 0 1 1 0 0 0 0 0 1 1 0 0 0 0 0 1 1 1 1 1 0 1 1 0 0 0\n",
      " 0 0 0 0 1 0 1 1 0 1 0 1 1 0 0 0 1 0 1 0 0 0 0 1 0 0 0 0 0 1 0 1 0 0 1 1 0\n",
      " 0 1 0 0 0 0 0 0 0 0 0 0 1 0 1 0 0 1 0 1 1 1 0 0 1 1 0 0 1 0 1 0 1 1 0 1 1\n",
      " 1 0 0 0 0 1 1 0 1 1 1 1 1 0 1 1 1 0 1 0 1 1 0 1 0 0 0 1 0 0 1 1 1 1 1 0 0\n",
      " 0 1 0 0 0 0 0 0 0 1 0 0 0 1 0 1 1 0 0 0 1 1 1 0 1 1 0 1 1 1 0 0 1 1 1 0 0\n",
      " 1 1 1 1 0 1 0 0 1 1]\n"
     ]
    }
   ],
   "source": [
    "logreg_pred = logreg.predict(logreg_X_test)\n",
    "print(logreg_pred)"
   ]
  },
  {
   "cell_type": "markdown",
   "metadata": {},
   "source": [
    "## **7** | **Error Analysis**"
   ]
  },
  {
   "cell_type": "markdown",
   "metadata": {},
   "source": [
    "### *Model 1: K-Nearest Neighbors*"
   ]
  },
  {
   "cell_type": "markdown",
   "metadata": {},
   "source": [
    "Let's evaluate the KNN model. First, let's print out the confusion matrix."
   ]
  },
  {
   "cell_type": "code",
   "execution_count": 92,
   "metadata": {},
   "outputs": [
    {
     "name": "stdout",
     "output_type": "stream",
     "text": [
      "Confusion Matrix:\n",
      "[[346  33]\n",
      " [ 65 306]]\n"
     ]
    }
   ],
   "source": [
    "print(\"Confusion Matrix:\")\n",
    "print(confusion_matrix(y_test, y_pred))"
   ]
  },
  {
   "cell_type": "markdown",
   "metadata": {},
   "source": [
    "Note that Çerçevelik is encoded as `0` and Ürgüp Sivrisi as `1`.  \n",
    "<b>True positives:</b> $306$ instances were labeled correctly as Ürgüp Sivrisi.<br>\n",
    "<b>True negatives:</b> $346$ instances were labeled correctly as Çerçevelik.<br>\n",
    "<b>False negatives:</b> $65$ instances were labeled incorrectly as Çerçevelik.<br>\n",
    "<b>False positives:</b> $33$ instances were labeled incorrectly as Ürgüp Sivrisi.<br>"
   ]
  },
  {
   "cell_type": "markdown",
   "metadata": {},
   "source": [
    "Let's get the evaluation metrics per class using `classification_report()`, and then the overall test accuracy."
   ]
  },
  {
   "cell_type": "code",
   "execution_count": 93,
   "metadata": {},
   "outputs": [
    {
     "name": "stdout",
     "output_type": "stream",
     "text": [
      "Classification Report:\n",
      "               precision    recall  f1-score   support\n",
      "\n",
      "   Cercevelik       0.84      0.91      0.88       379\n",
      "Urgup Sivrisi       0.90      0.82      0.86       371\n",
      "\n",
      "     accuracy                           0.87       750\n",
      "    macro avg       0.87      0.87      0.87       750\n",
      " weighted avg       0.87      0.87      0.87       750\n",
      "\n",
      "Test Accuracy: 0.8693333333333333\n"
     ]
    }
   ],
   "source": [
    "print(\"Classification Report:\")\n",
    "print(classification_report(y_test, y_pred, target_names=label_encoder.classes_))\n",
    "\n",
    "print(\"Test Accuracy:\", accuracy_score(y_test, y_pred))"
   ]
  },
  {
   "cell_type": "markdown",
   "metadata": {},
   "source": [
    "### *Model 2: Decision Trees*"
   ]
  },
  {
   "cell_type": "markdown",
   "metadata": {},
   "source": [
    "We can now get the confusion matrix of the results of the tuned Decision Tree model."
   ]
  },
  {
   "cell_type": "code",
   "execution_count": 94,
   "metadata": {},
   "outputs": [
    {
     "name": "stdout",
     "output_type": "stream",
     "text": [
      "Confusion Matrix:\n",
      "[[321  58]\n",
      " [ 41 330]]\n"
     ]
    }
   ],
   "source": [
    "# Confusion matrix of the model\n",
    "print(\"Confusion Matrix:\")\n",
    "print(confusion_matrix(dt_y_test, pumpkin_dt_tuned_preds))"
   ]
  },
  {
   "cell_type": "markdown",
   "metadata": {},
   "source": [
    "Note that Çerçevelik is encoded as 0 and Ürgüp Sivrisi as 1. The confusion matrix of the tuned tree resulted in the following values:\n",
    "- **True Positives:** 330 instances were labeled correctly as Urgup Sivrisi.\n",
    "- **True Negatives:** 321 instances were labeled correctly as Cercevelik.\n",
    "- **False Negatives:** 41 instances were labeled incorrectly as Cercevelik.\n",
    "- **False Positives:** 58 instances were labeled incorrectly as Urgup Sivrisi."
   ]
  },
  {
   "cell_type": "markdown",
   "metadata": {},
   "source": [
    "From the classification report, we can get the evaluation metrics of the tuned model. We can also get its accuracy by separately calling the `accuracy_score()` function."
   ]
  },
  {
   "cell_type": "code",
   "execution_count": 95,
   "metadata": {},
   "outputs": [
    {
     "name": "stdout",
     "output_type": "stream",
     "text": [
      "Classification Report:\n",
      "               precision    recall  f1-score   support\n",
      "\n",
      "   Cercevelik       0.89      0.85      0.87       379\n",
      "Urgup Sivrisi       0.85      0.89      0.87       371\n",
      "\n",
      "     accuracy                           0.87       750\n",
      "    macro avg       0.87      0.87      0.87       750\n",
      " weighted avg       0.87      0.87      0.87       750\n",
      "\n",
      "Test Accuracy: 0.868\n"
     ]
    }
   ],
   "source": [
    "print(\"Classification Report:\")\n",
    "print(classification_report(y_test, pumpkin_dt_tuned_preds, target_names=label_encoder.classes_))\n",
    "\n",
    "print(\"Test Accuracy:\", accuracy_score(y_test, pumpkin_dt_tuned_preds))"
   ]
  },
  {
   "cell_type": "markdown",
   "metadata": {},
   "source": [
    "The tuned model resulted in a test accuracy of `0.868` for this dataset."
   ]
  },
  {
   "cell_type": "markdown",
   "metadata": {},
   "source": [
    "### *Model 3: Logistic Regression*"
   ]
  },
  {
   "cell_type": "markdown",
   "metadata": {},
   "source": [
    "Print the confusion matrix to evaluate the performance of the Logistic Regression model. "
   ]
  },
  {
   "cell_type": "code",
   "execution_count": 96,
   "metadata": {},
   "outputs": [
    {
     "name": "stdout",
     "output_type": "stream",
     "text": [
      "Confusion Matrix:\n",
      "[[335  44]\n",
      " [ 70 301]]\n"
     ]
    }
   ],
   "source": [
    "print(\"Confusion Matrix:\")\n",
    "print(confusion_matrix(logreg_y_test, logreg_pred))"
   ]
  },
  {
   "cell_type": "markdown",
   "metadata": {},
   "source": [
    "Note that Çerçevelik is encoded as `0` and Ürgüp Sivrisi as `1`. \n",
    "- **True positives**: 301 instances were labeled correctly as Ürgüp Sivrisi\n",
    "- **True negatives**: 335 instances were labeled correctly as Çerçevelik\n",
    "- **False positives**: 44 instances were labeled incorrectly as Ürgüp Sivrisi\n",
    "- **False negatives**: 70 instances were labeled incorrectly as Çerçevelik"
   ]
  },
  {
   "cell_type": "markdown",
   "metadata": {},
   "source": [
    "Print the precision, recall, and other evaluation metrics per class using `classification_report()`."
   ]
  },
  {
   "cell_type": "code",
   "execution_count": 97,
   "metadata": {},
   "outputs": [
    {
     "name": "stdout",
     "output_type": "stream",
     "text": [
      "Classification Report:\n",
      "               precision    recall  f1-score   support\n",
      "\n",
      "   Cercevelik       0.83      0.88      0.85       379\n",
      "Urgup Sivrisi       0.87      0.81      0.84       371\n",
      "\n",
      "     accuracy                           0.85       750\n",
      "    macro avg       0.85      0.85      0.85       750\n",
      " weighted avg       0.85      0.85      0.85       750\n",
      "\n"
     ]
    }
   ],
   "source": [
    "print(\"Classification Report:\")\n",
    "print(classification_report(logreg_y_test, logreg_pred, target_names=label_encoder.classes_))"
   ]
  },
  {
   "cell_type": "markdown",
   "metadata": {},
   "source": [
    "The **Çerçevelik** class has a precision of **0.83** and a recall of **0.88**, while the **Ürgüp Sivrisi** class has a precision of **0.87** and a recall of **0.81**."
   ]
  },
  {
   "cell_type": "markdown",
   "metadata": {},
   "source": [
    "Print the accuracy of the Logistic Regression model."
   ]
  },
  {
   "cell_type": "code",
   "execution_count": 98,
   "metadata": {},
   "outputs": [
    {
     "name": "stdout",
     "output_type": "stream",
     "text": [
      "Test Accuracy: 0.848\n"
     ]
    }
   ],
   "source": [
    "print(\"Test Accuracy:\", accuracy_score(logreg_y_test, logreg_pred))"
   ]
  },
  {
   "cell_type": "markdown",
   "metadata": {},
   "source": [
    "The Logistic Regression model has an accuracy of **0.848**."
   ]
  },
  {
   "cell_type": "markdown",
   "metadata": {},
   "source": [
    "## **8** | **Improving Model Performance**"
   ]
  },
  {
   "cell_type": "markdown",
   "metadata": {},
   "source": [
    "### *Model 1: K-Nearest Neighbors*"
   ]
  },
  {
   "cell_type": "markdown",
   "metadata": {},
   "source": [
    "To improve the performance of KNN, let's use Grid Search to get the best combination of hyperparameter `k` and `distance metric`. First, we'll import the needed library for Grid Search."
   ]
  },
  {
   "cell_type": "code",
   "execution_count": 99,
   "metadata": {},
   "outputs": [],
   "source": [
    "from sklearn.model_selection import GridSearchCV"
   ]
  },
  {
   "cell_type": "markdown",
   "metadata": {},
   "source": [
    "We'll set the parameter grid with the same range of k as before (1-20) and the distance metrics as `euclidean`, `manhattan`, and `minkowski`."
   ]
  },
  {
   "cell_type": "code",
   "execution_count": 100,
   "metadata": {},
   "outputs": [],
   "source": [
    "knn = KNeighborsClassifier() # Instantiate\n",
    "\n",
    "param_grid = {\n",
    "    'n_neighbors': range(1, 21), # values for k\n",
    "    'metric': ['euclidean', 'manhattan', 'minkowski'] # distance metrics\n",
    "}\n"
   ]
  },
  {
   "cell_type": "markdown",
   "metadata": {},
   "source": [
    "We'll perform grid search using $10$-fold cross-validation."
   ]
  },
  {
   "cell_type": "code",
   "execution_count": 101,
   "metadata": {},
   "outputs": [
    {
     "name": "stdout",
     "output_type": "stream",
     "text": [
      "Best Hyperparameters: {'metric': 'manhattan', 'n_neighbors': 17}\n",
      "Best Cross-validation Accuracy: 0.8771428571428572\n"
     ]
    }
   ],
   "source": [
    "grid_search = GridSearchCV(knn, param_grid, cv=10, scoring='accuracy') # Instantiate\n",
    "grid_search.fit(X_train, y_train)\n",
    "\n",
    "print(\"Best Hyperparameters:\", grid_search.best_params_)\n",
    "print(\"Best Cross-validation Accuracy:\", grid_search.best_score_)"
   ]
  },
  {
   "cell_type": "markdown",
   "metadata": {},
   "source": [
    "Next, let's try using Random Search with similar parameters used in Grid Search."
   ]
  },
  {
   "cell_type": "code",
   "execution_count": 102,
   "metadata": {},
   "outputs": [
    {
     "name": "stdout",
     "output_type": "stream",
     "text": [
      "Best Hyperparameters: {'n_neighbors': 17, 'metric': 'manhattan'}\n",
      "Best Cross-validation Accuracy: 0.8771428571428572\n"
     ]
    }
   ],
   "source": [
    "from sklearn.model_selection import RandomizedSearchCV\n",
    "\n",
    "random_search = RandomizedSearchCV(knn, param_grid, n_iter=50, cv=10, random_state=1, scoring='accuracy')\n",
    "random_search.fit(X_train, y_train)\n",
    "\n",
    "print(\"Best Hyperparameters:\", random_search.best_params_)\n",
    "print(\"Best Cross-validation Accuracy:\", random_search.best_score_)"
   ]
  },
  {
   "cell_type": "markdown",
   "metadata": {},
   "source": [
    "Since Grid Search and Random Search have the same conclusion, let's just use grid search moving forward. Now, we'll test the model with the best k (17) and using manhattan distance metric."
   ]
  },
  {
   "cell_type": "code",
   "execution_count": 103,
   "metadata": {},
   "outputs": [
    {
     "data": {
      "text/plain": [
       "array([0, 0, 0, 1, 0, 1, 0, 1, 0, 1, 0, 0, 1, 0, 1, 0, 0, 0, 1, 0, 0, 0,\n",
       "       1, 0, 1, 0, 0, 0, 1, 1, 1, 0, 1, 1, 1, 0, 0, 1, 0, 0, 0, 0, 0, 1,\n",
       "       1, 1, 1, 1, 1, 0, 1, 0, 0, 1, 1, 0, 0, 0, 0, 1, 1, 0, 0, 1, 0, 1,\n",
       "       0, 0, 0, 1, 0, 1, 0, 1, 0, 0, 0, 0, 1, 0, 0, 0, 0, 0, 1, 1, 1, 0,\n",
       "       0, 1, 0, 1, 0, 1, 0, 1, 1, 1, 0, 1, 1, 0, 0, 0, 0, 0, 1, 1, 0, 1,\n",
       "       1, 0, 1, 0, 0, 0, 0, 0, 0, 0, 1, 0, 1, 0, 0, 1, 1, 0, 1, 1, 1, 1,\n",
       "       0, 0, 0, 0, 0, 0, 1, 0, 0, 1, 0, 1, 1, 1, 0, 1, 1, 1, 1, 0, 1, 0,\n",
       "       1, 1, 0, 0, 1, 1, 1, 0, 0, 0, 1, 0, 0, 0, 1, 0, 1, 0, 0, 1, 0, 1,\n",
       "       1, 1, 1, 0, 1, 0, 0, 0, 1, 1, 0, 0, 0, 0, 0, 1, 0, 1, 1, 0, 0, 1,\n",
       "       1, 0, 1, 1, 1, 0, 1, 1, 1, 0, 1, 0, 1, 1, 0, 0, 1, 1, 0, 0, 1, 1,\n",
       "       0, 0, 0, 0, 0, 1, 0, 1, 0, 0, 1, 0, 0, 1, 0, 1, 1, 0, 0, 1, 1, 1,\n",
       "       0, 0, 0, 1, 0, 0, 1, 0, 1, 1, 1, 0, 1, 1, 0, 0, 1, 0, 0, 0, 0, 1,\n",
       "       1, 1, 0, 1, 0, 0, 1, 0, 1, 1, 1, 1, 0, 1, 0, 0, 1, 0, 0, 1, 0, 0,\n",
       "       1, 0, 1, 0, 1, 0, 0, 0, 0, 1, 0, 1, 0, 0, 1, 0, 0, 1, 1, 1, 1, 1,\n",
       "       1, 1, 1, 1, 0, 1, 1, 0, 1, 0, 0, 1, 1, 0, 1, 1, 1, 0, 0, 0, 1, 1,\n",
       "       0, 1, 1, 0, 1, 1, 0, 0, 1, 1, 0, 1, 0, 1, 0, 0, 1, 1, 0, 0, 1, 0,\n",
       "       0, 0, 1, 1, 0, 0, 0, 1, 0, 1, 1, 1, 1, 0, 0, 1, 1, 0, 0, 0, 0, 0,\n",
       "       0, 1, 0, 0, 1, 0, 0, 0, 1, 0, 0, 1, 0, 1, 0, 1, 0, 0, 1, 0, 0, 0,\n",
       "       1, 0, 1, 1, 0, 1, 1, 0, 0, 1, 1, 0, 1, 1, 1, 1, 1, 0, 0, 0, 0, 0,\n",
       "       0, 0, 0, 0, 0, 0, 1, 1, 1, 1, 1, 0, 1, 0, 1, 1, 1, 1, 1, 0, 1, 1,\n",
       "       0, 0, 1, 1, 1, 1, 0, 0, 1, 1, 1, 1, 0, 1, 1, 1, 0, 1, 0, 1, 0, 0,\n",
       "       1, 1, 1, 0, 0, 0, 1, 0, 0, 0, 0, 0, 0, 0, 0, 0, 0, 1, 1, 1, 1, 0,\n",
       "       1, 0, 0, 1, 1, 1, 0, 1, 1, 0, 1, 0, 1, 1, 1, 0, 0, 1, 0, 0, 1, 0,\n",
       "       0, 0, 0, 0, 1, 0, 1, 0, 1, 0, 0, 0, 0, 0, 0, 1, 1, 1, 0, 0, 0, 1,\n",
       "       1, 1, 0, 0, 1, 1, 1, 1, 1, 1, 0, 0, 0, 1, 0, 0, 0, 1, 0, 1, 0, 0,\n",
       "       1, 0, 1, 0, 1, 0, 0, 1, 1, 0, 0, 1, 0, 1, 1, 1, 0, 1, 1, 0, 0, 0,\n",
       "       0, 0, 1, 1, 0, 0, 0, 0, 0, 1, 1, 1, 1, 1, 0, 1, 1, 1, 0, 0, 0, 0,\n",
       "       0, 0, 1, 0, 1, 1, 0, 1, 0, 1, 1, 0, 0, 0, 1, 0, 1, 0, 0, 0, 0, 1,\n",
       "       0, 0, 0, 0, 0, 1, 0, 1, 0, 0, 1, 1, 0, 0, 1, 0, 0, 0, 1, 0, 0, 0,\n",
       "       0, 0, 0, 0, 0, 1, 0, 0, 1, 0, 1, 1, 1, 0, 0, 1, 1, 0, 0, 1, 0, 1,\n",
       "       0, 1, 1, 0, 1, 1, 1, 0, 0, 0, 0, 1, 1, 0, 1, 1, 1, 1, 1, 0, 1, 0,\n",
       "       1, 0, 1, 0, 1, 1, 0, 0, 0, 0, 0, 1, 0, 0, 1, 1, 1, 1, 1, 0, 0, 0,\n",
       "       1, 0, 0, 0, 0, 0, 0, 0, 1, 0, 0, 0, 1, 0, 1, 1, 0, 0, 0, 1, 1, 1,\n",
       "       0, 1, 1, 0, 1, 1, 1, 0, 0, 1, 1, 1, 0, 0, 1, 1, 1, 1, 0, 1, 0, 0,\n",
       "       1, 1])"
      ]
     },
     "execution_count": 103,
     "metadata": {},
     "output_type": "execute_result"
    }
   ],
   "source": [
    "best_knn = grid_search.best_estimator_\n",
    "y_pred = best_knn.predict(X_test)\n",
    "y_pred"
   ]
  },
  {
   "cell_type": "markdown",
   "metadata": {},
   "source": [
    "Let's evaluate the model by printing out some evaluation metrics again."
   ]
  },
  {
   "cell_type": "code",
   "execution_count": 104,
   "metadata": {},
   "outputs": [
    {
     "name": "stdout",
     "output_type": "stream",
     "text": [
      "Confusion Matrix:\n",
      "[[342  37]\n",
      " [ 59 312]]\n",
      "Classification Report:\n",
      "               precision    recall  f1-score   support\n",
      "\n",
      "   Cercevelik       0.85      0.90      0.88       379\n",
      "Urgup Sivrisi       0.89      0.84      0.87       371\n",
      "\n",
      "     accuracy                           0.87       750\n",
      "    macro avg       0.87      0.87      0.87       750\n",
      " weighted avg       0.87      0.87      0.87       750\n",
      "\n",
      "Test Accuracy: 0.872\n"
     ]
    }
   ],
   "source": [
    "print(\"Confusion Matrix:\")\n",
    "print(confusion_matrix(y_test, y_pred))\n",
    "\n",
    "print(\"Classification Report:\")\n",
    "print(classification_report(y_test, y_pred, target_names=label_encoder.classes_))\n",
    "\n",
    "print(\"Test Accuracy:\", accuracy_score(y_test, y_pred))"
   ]
  },
  {
   "cell_type": "markdown",
   "metadata": {},
   "source": [
    "### *Model 2: Decision Trees*"
   ]
  },
  {
   "cell_type": "code",
   "execution_count": 105,
   "metadata": {},
   "outputs": [],
   "source": [
    "# HistGradientBoostingClassifier\n",
    "from sklearn.ensemble import HistGradientBoostingClassifier"
   ]
  },
  {
   "cell_type": "code",
   "execution_count": 106,
   "metadata": {},
   "outputs": [],
   "source": [
    "# create instance of HistGradientBoostingClassifier with default params\n",
    "pumpkin_boosting = HistGradientBoostingClassifier()"
   ]
  },
  {
   "cell_type": "code",
   "execution_count": 107,
   "metadata": {},
   "outputs": [
    {
     "data": {
      "text/html": [
       "<style>#sk-container-id-6 {color: black;}#sk-container-id-6 pre{padding: 0;}#sk-container-id-6 div.sk-toggleable {background-color: white;}#sk-container-id-6 label.sk-toggleable__label {cursor: pointer;display: block;width: 100%;margin-bottom: 0;padding: 0.3em;box-sizing: border-box;text-align: center;}#sk-container-id-6 label.sk-toggleable__label-arrow:before {content: \"▸\";float: left;margin-right: 0.25em;color: #696969;}#sk-container-id-6 label.sk-toggleable__label-arrow:hover:before {color: black;}#sk-container-id-6 div.sk-estimator:hover label.sk-toggleable__label-arrow:before {color: black;}#sk-container-id-6 div.sk-toggleable__content {max-height: 0;max-width: 0;overflow: hidden;text-align: left;background-color: #f0f8ff;}#sk-container-id-6 div.sk-toggleable__content pre {margin: 0.2em;color: black;border-radius: 0.25em;background-color: #f0f8ff;}#sk-container-id-6 input.sk-toggleable__control:checked~div.sk-toggleable__content {max-height: 200px;max-width: 100%;overflow: auto;}#sk-container-id-6 input.sk-toggleable__control:checked~label.sk-toggleable__label-arrow:before {content: \"▾\";}#sk-container-id-6 div.sk-estimator input.sk-toggleable__control:checked~label.sk-toggleable__label {background-color: #d4ebff;}#sk-container-id-6 div.sk-label input.sk-toggleable__control:checked~label.sk-toggleable__label {background-color: #d4ebff;}#sk-container-id-6 input.sk-hidden--visually {border: 0;clip: rect(1px 1px 1px 1px);clip: rect(1px, 1px, 1px, 1px);height: 1px;margin: -1px;overflow: hidden;padding: 0;position: absolute;width: 1px;}#sk-container-id-6 div.sk-estimator {font-family: monospace;background-color: #f0f8ff;border: 1px dotted black;border-radius: 0.25em;box-sizing: border-box;margin-bottom: 0.5em;}#sk-container-id-6 div.sk-estimator:hover {background-color: #d4ebff;}#sk-container-id-6 div.sk-parallel-item::after {content: \"\";width: 100%;border-bottom: 1px solid gray;flex-grow: 1;}#sk-container-id-6 div.sk-label:hover label.sk-toggleable__label {background-color: #d4ebff;}#sk-container-id-6 div.sk-serial::before {content: \"\";position: absolute;border-left: 1px solid gray;box-sizing: border-box;top: 0;bottom: 0;left: 50%;z-index: 0;}#sk-container-id-6 div.sk-serial {display: flex;flex-direction: column;align-items: center;background-color: white;padding-right: 0.2em;padding-left: 0.2em;position: relative;}#sk-container-id-6 div.sk-item {position: relative;z-index: 1;}#sk-container-id-6 div.sk-parallel {display: flex;align-items: stretch;justify-content: center;background-color: white;position: relative;}#sk-container-id-6 div.sk-item::before, #sk-container-id-6 div.sk-parallel-item::before {content: \"\";position: absolute;border-left: 1px solid gray;box-sizing: border-box;top: 0;bottom: 0;left: 50%;z-index: -1;}#sk-container-id-6 div.sk-parallel-item {display: flex;flex-direction: column;z-index: 1;position: relative;background-color: white;}#sk-container-id-6 div.sk-parallel-item:first-child::after {align-self: flex-end;width: 50%;}#sk-container-id-6 div.sk-parallel-item:last-child::after {align-self: flex-start;width: 50%;}#sk-container-id-6 div.sk-parallel-item:only-child::after {width: 0;}#sk-container-id-6 div.sk-dashed-wrapped {border: 1px dashed gray;margin: 0 0.4em 0.5em 0.4em;box-sizing: border-box;padding-bottom: 0.4em;background-color: white;}#sk-container-id-6 div.sk-label label {font-family: monospace;font-weight: bold;display: inline-block;line-height: 1.2em;}#sk-container-id-6 div.sk-label-container {text-align: center;}#sk-container-id-6 div.sk-container {/* jupyter's `normalize.less` sets `[hidden] { display: none; }` but bootstrap.min.css set `[hidden] { display: none !important; }` so we also need the `!important` here to be able to override the default hidden behavior on the sphinx rendered scikit-learn.org. See: https://github.com/scikit-learn/scikit-learn/issues/21755 */display: inline-block !important;position: relative;}#sk-container-id-6 div.sk-text-repr-fallback {display: none;}</style><div id=\"sk-container-id-6\" class=\"sk-top-container\"><div class=\"sk-text-repr-fallback\"><pre>HistGradientBoostingClassifier()</pre><b>In a Jupyter environment, please rerun this cell to show the HTML representation or trust the notebook. <br />On GitHub, the HTML representation is unable to render, please try loading this page with nbviewer.org.</b></div><div class=\"sk-container\" hidden><div class=\"sk-item\"><div class=\"sk-estimator sk-toggleable\"><input class=\"sk-toggleable__control sk-hidden--visually\" id=\"sk-estimator-id-8\" type=\"checkbox\" checked><label for=\"sk-estimator-id-8\" class=\"sk-toggleable__label sk-toggleable__label-arrow\">HistGradientBoostingClassifier</label><div class=\"sk-toggleable__content\"><pre>HistGradientBoostingClassifier()</pre></div></div></div></div></div>"
      ],
      "text/plain": [
       "HistGradientBoostingClassifier()"
      ]
     },
     "execution_count": 107,
     "metadata": {},
     "output_type": "execute_result"
    }
   ],
   "source": [
    "# fit\n",
    "pumpkin_boosting.fit(dt_X_train, dt_y_train)"
   ]
  },
  {
   "cell_type": "code",
   "execution_count": 108,
   "metadata": {},
   "outputs": [
    {
     "data": {
      "text/plain": [
       "array([1, 0, 0, 1, 0, 1, 0, 1, 0, 1, 0, 0, 1, 0, 1, 0, 0, 0, 1, 0, 1, 0,\n",
       "       1, 0, 1, 0, 0, 0, 1, 1, 1, 0, 1, 1, 1, 0, 0, 1, 0, 0, 0, 0, 0, 1,\n",
       "       1, 1, 1, 1, 1, 0, 1, 0, 0, 0, 1, 0, 0, 0, 0, 1, 0, 0, 0, 1, 0, 1,\n",
       "       0, 0, 0, 1, 0, 1, 0, 1, 0, 0, 0, 0, 1, 1, 0, 0, 1, 0, 1, 1, 1, 1,\n",
       "       0, 1, 0, 1, 0, 1, 0, 1, 1, 1, 0, 1, 1, 0, 0, 0, 0, 0, 1, 1, 1, 0,\n",
       "       1, 0, 1, 0, 0, 0, 0, 0, 0, 0, 1, 0, 1, 0, 0, 1, 1, 0, 1, 1, 1, 1,\n",
       "       0, 0, 0, 0, 0, 0, 1, 0, 0, 1, 0, 1, 1, 1, 0, 1, 1, 1, 1, 0, 1, 0,\n",
       "       1, 1, 0, 0, 1, 1, 1, 0, 0, 0, 1, 0, 1, 0, 0, 0, 1, 0, 1, 1, 0, 1,\n",
       "       1, 1, 1, 0, 1, 0, 0, 0, 1, 1, 0, 1, 0, 0, 0, 1, 0, 1, 1, 0, 0, 1,\n",
       "       1, 0, 1, 1, 1, 0, 1, 0, 1, 0, 1, 0, 1, 0, 1, 0, 1, 1, 0, 0, 1, 0,\n",
       "       0, 0, 0, 0, 0, 1, 0, 1, 0, 0, 1, 0, 0, 1, 0, 0, 1, 0, 0, 1, 1, 1,\n",
       "       0, 0, 0, 1, 0, 0, 1, 0, 1, 1, 1, 0, 1, 1, 0, 0, 1, 0, 0, 0, 0, 1,\n",
       "       1, 1, 0, 1, 0, 0, 1, 0, 1, 1, 1, 1, 1, 0, 0, 0, 1, 0, 0, 1, 0, 0,\n",
       "       1, 0, 1, 0, 1, 1, 0, 0, 0, 1, 0, 1, 1, 0, 1, 0, 0, 1, 1, 0, 1, 1,\n",
       "       1, 1, 1, 1, 0, 1, 1, 1, 1, 0, 0, 1, 1, 1, 1, 1, 1, 0, 0, 0, 1, 1,\n",
       "       0, 0, 1, 0, 1, 1, 0, 0, 1, 1, 0, 1, 0, 1, 1, 0, 1, 1, 0, 0, 1, 0,\n",
       "       0, 0, 1, 1, 1, 0, 0, 1, 0, 1, 1, 1, 1, 0, 0, 1, 1, 0, 0, 0, 0, 0,\n",
       "       0, 1, 0, 0, 1, 0, 0, 0, 1, 0, 0, 1, 0, 1, 0, 1, 0, 0, 1, 0, 0, 0,\n",
       "       1, 0, 1, 1, 0, 0, 0, 0, 0, 0, 1, 0, 1, 1, 1, 1, 1, 0, 0, 0, 0, 0,\n",
       "       1, 0, 0, 0, 0, 0, 1, 1, 1, 1, 1, 0, 1, 0, 1, 1, 1, 0, 1, 0, 1, 1,\n",
       "       0, 0, 1, 1, 1, 1, 1, 0, 1, 1, 1, 1, 0, 1, 1, 1, 0, 1, 0, 1, 0, 0,\n",
       "       1, 1, 1, 0, 0, 1, 1, 0, 0, 0, 0, 1, 0, 0, 0, 0, 0, 1, 1, 1, 1, 0,\n",
       "       1, 0, 0, 1, 1, 1, 0, 1, 1, 1, 1, 0, 1, 1, 1, 1, 0, 1, 0, 0, 1, 0,\n",
       "       0, 0, 0, 0, 1, 0, 1, 0, 1, 0, 0, 0, 0, 0, 0, 1, 1, 1, 0, 0, 0, 1,\n",
       "       1, 1, 0, 0, 1, 1, 1, 1, 1, 1, 0, 0, 0, 1, 1, 0, 0, 1, 1, 1, 0, 0,\n",
       "       1, 0, 1, 0, 0, 0, 0, 1, 1, 0, 0, 1, 0, 1, 1, 1, 0, 1, 1, 0, 0, 1,\n",
       "       0, 0, 1, 1, 1, 0, 0, 0, 0, 1, 1, 1, 1, 1, 0, 1, 1, 0, 0, 0, 0, 0,\n",
       "       0, 0, 1, 0, 1, 1, 0, 1, 1, 1, 1, 1, 0, 0, 1, 0, 1, 0, 1, 0, 0, 1,\n",
       "       0, 0, 0, 0, 0, 1, 0, 1, 0, 0, 1, 1, 0, 0, 1, 0, 0, 0, 1, 0, 0, 0,\n",
       "       0, 0, 0, 0, 0, 1, 0, 0, 1, 0, 1, 1, 0, 0, 0, 1, 1, 0, 0, 1, 1, 1,\n",
       "       0, 1, 1, 1, 1, 1, 1, 0, 0, 0, 0, 1, 1, 0, 1, 1, 1, 1, 1, 0, 1, 0,\n",
       "       1, 0, 1, 0, 1, 1, 1, 0, 1, 0, 0, 1, 0, 0, 1, 1, 1, 1, 1, 0, 0, 0,\n",
       "       1, 0, 0, 0, 0, 0, 0, 0, 1, 0, 0, 0, 1, 0, 1, 1, 0, 0, 0, 1, 1, 1,\n",
       "       0, 1, 1, 0, 1, 1, 1, 0, 0, 1, 1, 1, 1, 0, 1, 1, 1, 1, 0, 0, 0, 0,\n",
       "       0, 1])"
      ]
     },
     "execution_count": 108,
     "metadata": {},
     "output_type": "execute_result"
    }
   ],
   "source": [
    "pumpkin_boosting_test_preds = pumpkin_boosting.predict(dt_X_test)\n",
    "\n",
    "pumpkin_boosting_test_preds"
   ]
  },
  {
   "cell_type": "code",
   "execution_count": 109,
   "metadata": {},
   "outputs": [
    {
     "name": "stdout",
     "output_type": "stream",
     "text": [
      "Confusion Matrix:\n",
      "[[341  38]\n",
      " [ 45 326]]\n",
      "Classification Report:\n",
      "               precision    recall  f1-score   support\n",
      "\n",
      "   Cercevelik       0.88      0.90      0.89       379\n",
      "Urgup Sivrisi       0.90      0.88      0.89       371\n",
      "\n",
      "     accuracy                           0.89       750\n",
      "    macro avg       0.89      0.89      0.89       750\n",
      " weighted avg       0.89      0.89      0.89       750\n",
      "\n",
      "Test Accuracy: 0.8893333333333333\n"
     ]
    }
   ],
   "source": [
    "print(\"Confusion Matrix:\")\n",
    "print(confusion_matrix(dt_y_test, pumpkin_boosting_test_preds))\n",
    "\n",
    "print(\"Classification Report:\")\n",
    "print(classification_report(dt_y_test, pumpkin_boosting_test_preds, target_names=label_encoder.classes_))\n",
    "\n",
    "print(\"Test Accuracy:\", accuracy_score(dt_y_test, pumpkin_boosting_test_preds))"
   ]
  },
  {
   "cell_type": "markdown",
   "metadata": {},
   "source": [
    "RandomSearchCV using hyperparameters of DT  \n",
    "*Resources:* https://www.restack.io/p/hyperparameter-tuning-answer-histgradientboostingclassifier-tuning-cat-ai"
   ]
  },
  {
   "cell_type": "code",
   "execution_count": 110,
   "metadata": {},
   "outputs": [],
   "source": [
    "hyperparameters_boosting = [\n",
    "    {\n",
    "        \"learning_rate\": [0.01,0.05,0.1],\n",
    "        \"max_iter\": [100, 200, 300, 400, 500],\n",
    "        \"max_depth\": [10,20,50,100,500]\n",
    "    }\n",
    "]"
   ]
  },
  {
   "cell_type": "code",
   "execution_count": 111,
   "metadata": {},
   "outputs": [],
   "source": [
    "rsc_pumpkin_boosting = RandomizedSearchCV(estimator=pumpkin_boosting,param_distributions=hyperparameters_boosting,n_iter=50,cv=5)"
   ]
  },
  {
   "cell_type": "code",
   "execution_count": 112,
   "metadata": {},
   "outputs": [],
   "source": [
    "# uncomment this if i forgot to uncomment it (also remove this comment line)\n",
    "# rsc_pumpkin_boosting.fit(dt_X_train,dt_y_train)"
   ]
  },
  {
   "cell_type": "code",
   "execution_count": 113,
   "metadata": {},
   "outputs": [],
   "source": [
    "# Uncomment this if i forgot to uncomment it (also remove this comment line)\n",
    "# rsc_pumpkin_boosting.best_params_"
   ]
  },
  {
   "cell_type": "code",
   "execution_count": 114,
   "metadata": {},
   "outputs": [],
   "source": [
    "pumpkin_boosting_tuned = HistGradientBoostingClassifier(max_iter=400,max_depth=10,learning_rate=0.01)"
   ]
  },
  {
   "cell_type": "code",
   "execution_count": 115,
   "metadata": {},
   "outputs": [
    {
     "data": {
      "text/html": [
       "<style>#sk-container-id-7 {color: black;}#sk-container-id-7 pre{padding: 0;}#sk-container-id-7 div.sk-toggleable {background-color: white;}#sk-container-id-7 label.sk-toggleable__label {cursor: pointer;display: block;width: 100%;margin-bottom: 0;padding: 0.3em;box-sizing: border-box;text-align: center;}#sk-container-id-7 label.sk-toggleable__label-arrow:before {content: \"▸\";float: left;margin-right: 0.25em;color: #696969;}#sk-container-id-7 label.sk-toggleable__label-arrow:hover:before {color: black;}#sk-container-id-7 div.sk-estimator:hover label.sk-toggleable__label-arrow:before {color: black;}#sk-container-id-7 div.sk-toggleable__content {max-height: 0;max-width: 0;overflow: hidden;text-align: left;background-color: #f0f8ff;}#sk-container-id-7 div.sk-toggleable__content pre {margin: 0.2em;color: black;border-radius: 0.25em;background-color: #f0f8ff;}#sk-container-id-7 input.sk-toggleable__control:checked~div.sk-toggleable__content {max-height: 200px;max-width: 100%;overflow: auto;}#sk-container-id-7 input.sk-toggleable__control:checked~label.sk-toggleable__label-arrow:before {content: \"▾\";}#sk-container-id-7 div.sk-estimator input.sk-toggleable__control:checked~label.sk-toggleable__label {background-color: #d4ebff;}#sk-container-id-7 div.sk-label input.sk-toggleable__control:checked~label.sk-toggleable__label {background-color: #d4ebff;}#sk-container-id-7 input.sk-hidden--visually {border: 0;clip: rect(1px 1px 1px 1px);clip: rect(1px, 1px, 1px, 1px);height: 1px;margin: -1px;overflow: hidden;padding: 0;position: absolute;width: 1px;}#sk-container-id-7 div.sk-estimator {font-family: monospace;background-color: #f0f8ff;border: 1px dotted black;border-radius: 0.25em;box-sizing: border-box;margin-bottom: 0.5em;}#sk-container-id-7 div.sk-estimator:hover {background-color: #d4ebff;}#sk-container-id-7 div.sk-parallel-item::after {content: \"\";width: 100%;border-bottom: 1px solid gray;flex-grow: 1;}#sk-container-id-7 div.sk-label:hover label.sk-toggleable__label {background-color: #d4ebff;}#sk-container-id-7 div.sk-serial::before {content: \"\";position: absolute;border-left: 1px solid gray;box-sizing: border-box;top: 0;bottom: 0;left: 50%;z-index: 0;}#sk-container-id-7 div.sk-serial {display: flex;flex-direction: column;align-items: center;background-color: white;padding-right: 0.2em;padding-left: 0.2em;position: relative;}#sk-container-id-7 div.sk-item {position: relative;z-index: 1;}#sk-container-id-7 div.sk-parallel {display: flex;align-items: stretch;justify-content: center;background-color: white;position: relative;}#sk-container-id-7 div.sk-item::before, #sk-container-id-7 div.sk-parallel-item::before {content: \"\";position: absolute;border-left: 1px solid gray;box-sizing: border-box;top: 0;bottom: 0;left: 50%;z-index: -1;}#sk-container-id-7 div.sk-parallel-item {display: flex;flex-direction: column;z-index: 1;position: relative;background-color: white;}#sk-container-id-7 div.sk-parallel-item:first-child::after {align-self: flex-end;width: 50%;}#sk-container-id-7 div.sk-parallel-item:last-child::after {align-self: flex-start;width: 50%;}#sk-container-id-7 div.sk-parallel-item:only-child::after {width: 0;}#sk-container-id-7 div.sk-dashed-wrapped {border: 1px dashed gray;margin: 0 0.4em 0.5em 0.4em;box-sizing: border-box;padding-bottom: 0.4em;background-color: white;}#sk-container-id-7 div.sk-label label {font-family: monospace;font-weight: bold;display: inline-block;line-height: 1.2em;}#sk-container-id-7 div.sk-label-container {text-align: center;}#sk-container-id-7 div.sk-container {/* jupyter's `normalize.less` sets `[hidden] { display: none; }` but bootstrap.min.css set `[hidden] { display: none !important; }` so we also need the `!important` here to be able to override the default hidden behavior on the sphinx rendered scikit-learn.org. See: https://github.com/scikit-learn/scikit-learn/issues/21755 */display: inline-block !important;position: relative;}#sk-container-id-7 div.sk-text-repr-fallback {display: none;}</style><div id=\"sk-container-id-7\" class=\"sk-top-container\"><div class=\"sk-text-repr-fallback\"><pre>HistGradientBoostingClassifier(learning_rate=0.01, max_depth=10, max_iter=400)</pre><b>In a Jupyter environment, please rerun this cell to show the HTML representation or trust the notebook. <br />On GitHub, the HTML representation is unable to render, please try loading this page with nbviewer.org.</b></div><div class=\"sk-container\" hidden><div class=\"sk-item\"><div class=\"sk-estimator sk-toggleable\"><input class=\"sk-toggleable__control sk-hidden--visually\" id=\"sk-estimator-id-9\" type=\"checkbox\" checked><label for=\"sk-estimator-id-9\" class=\"sk-toggleable__label sk-toggleable__label-arrow\">HistGradientBoostingClassifier</label><div class=\"sk-toggleable__content\"><pre>HistGradientBoostingClassifier(learning_rate=0.01, max_depth=10, max_iter=400)</pre></div></div></div></div></div>"
      ],
      "text/plain": [
       "HistGradientBoostingClassifier(learning_rate=0.01, max_depth=10, max_iter=400)"
      ]
     },
     "execution_count": 115,
     "metadata": {},
     "output_type": "execute_result"
    }
   ],
   "source": [
    "pumpkin_boosting_tuned.fit(dt_X_train,dt_y_train)"
   ]
  },
  {
   "cell_type": "code",
   "execution_count": 116,
   "metadata": {},
   "outputs": [
    {
     "data": {
      "text/plain": [
       "array([1, 0, 0, 1, 0, 1, 0, 1, 0, 1, 0, 0, 1, 0, 1, 0, 0, 0, 1, 0, 1, 0,\n",
       "       1, 0, 1, 0, 0, 0, 1, 1, 0, 0, 1, 1, 1, 0, 0, 1, 0, 0, 0, 0, 0, 1,\n",
       "       1, 1, 1, 1, 1, 0, 1, 0, 0, 0, 1, 0, 0, 0, 0, 1, 0, 0, 0, 1, 0, 1,\n",
       "       0, 0, 0, 1, 0, 1, 0, 1, 0, 0, 0, 0, 1, 1, 0, 0, 1, 0, 1, 1, 1, 1,\n",
       "       0, 1, 0, 1, 0, 1, 0, 1, 1, 1, 0, 1, 1, 0, 0, 0, 1, 0, 1, 1, 0, 1,\n",
       "       1, 0, 1, 0, 0, 0, 0, 0, 0, 0, 1, 0, 1, 0, 0, 1, 1, 0, 1, 1, 1, 1,\n",
       "       0, 1, 0, 0, 0, 0, 1, 0, 0, 1, 0, 1, 1, 1, 0, 1, 1, 1, 1, 0, 1, 0,\n",
       "       1, 1, 0, 0, 1, 1, 1, 0, 0, 0, 1, 0, 0, 0, 1, 0, 1, 0, 1, 1, 0, 1,\n",
       "       1, 1, 1, 0, 1, 0, 0, 0, 1, 1, 0, 1, 0, 0, 0, 1, 0, 1, 1, 0, 0, 1,\n",
       "       1, 0, 1, 1, 1, 0, 1, 0, 1, 0, 1, 0, 1, 0, 0, 0, 1, 1, 0, 0, 1, 0,\n",
       "       0, 0, 0, 0, 0, 1, 0, 1, 0, 0, 1, 0, 0, 1, 0, 0, 1, 0, 0, 1, 1, 1,\n",
       "       0, 0, 0, 1, 0, 0, 1, 0, 1, 1, 1, 0, 1, 1, 0, 0, 1, 0, 0, 0, 0, 1,\n",
       "       1, 1, 0, 1, 0, 0, 1, 0, 1, 1, 1, 1, 1, 0, 0, 0, 1, 0, 0, 1, 0, 0,\n",
       "       1, 0, 1, 0, 1, 1, 0, 0, 0, 1, 0, 1, 1, 0, 1, 0, 0, 1, 1, 0, 1, 1,\n",
       "       1, 1, 1, 1, 0, 1, 1, 1, 1, 0, 0, 1, 1, 0, 1, 1, 1, 0, 0, 0, 1, 1,\n",
       "       0, 0, 1, 0, 1, 1, 0, 0, 1, 1, 0, 1, 0, 1, 1, 0, 1, 1, 0, 0, 1, 0,\n",
       "       1, 0, 1, 1, 1, 0, 0, 1, 0, 1, 1, 1, 1, 0, 0, 1, 1, 0, 0, 0, 0, 0,\n",
       "       0, 1, 0, 0, 1, 0, 0, 0, 1, 0, 0, 1, 0, 1, 0, 1, 0, 0, 1, 0, 0, 0,\n",
       "       1, 0, 1, 1, 0, 0, 1, 0, 0, 1, 1, 0, 1, 1, 1, 1, 1, 0, 0, 0, 0, 0,\n",
       "       1, 0, 0, 0, 0, 0, 1, 1, 1, 1, 1, 0, 1, 0, 1, 1, 1, 1, 1, 0, 1, 1,\n",
       "       0, 0, 1, 1, 1, 1, 1, 0, 1, 1, 1, 1, 0, 1, 1, 1, 0, 1, 0, 1, 0, 0,\n",
       "       1, 1, 1, 0, 0, 1, 1, 0, 0, 0, 0, 1, 0, 0, 0, 0, 0, 1, 1, 1, 1, 0,\n",
       "       1, 0, 0, 1, 0, 1, 0, 1, 1, 1, 1, 0, 1, 1, 1, 1, 0, 1, 0, 0, 1, 0,\n",
       "       0, 0, 0, 0, 1, 0, 1, 0, 1, 0, 0, 0, 0, 0, 0, 1, 1, 1, 0, 0, 0, 1,\n",
       "       1, 1, 0, 0, 1, 1, 1, 1, 1, 1, 0, 0, 0, 1, 0, 0, 0, 1, 1, 1, 0, 0,\n",
       "       1, 0, 1, 0, 0, 0, 0, 1, 1, 0, 0, 1, 0, 1, 1, 1, 0, 1, 1, 0, 0, 1,\n",
       "       0, 0, 1, 1, 0, 0, 0, 0, 0, 1, 1, 1, 1, 1, 0, 1, 1, 0, 0, 0, 0, 0,\n",
       "       0, 0, 1, 0, 1, 1, 0, 1, 1, 1, 1, 1, 0, 0, 1, 0, 1, 0, 1, 0, 0, 1,\n",
       "       0, 0, 0, 0, 0, 1, 0, 1, 0, 0, 1, 1, 0, 0, 1, 0, 0, 0, 1, 0, 0, 0,\n",
       "       0, 0, 0, 0, 0, 1, 0, 0, 1, 0, 1, 1, 0, 0, 0, 1, 1, 0, 1, 1, 1, 1,\n",
       "       0, 1, 1, 1, 1, 1, 1, 0, 0, 0, 0, 1, 1, 0, 1, 1, 1, 1, 1, 0, 1, 0,\n",
       "       1, 0, 0, 0, 1, 1, 1, 0, 0, 0, 0, 1, 0, 0, 1, 1, 1, 1, 1, 0, 0, 0,\n",
       "       1, 0, 0, 0, 0, 0, 0, 0, 1, 0, 0, 0, 1, 0, 1, 1, 0, 0, 0, 1, 1, 1,\n",
       "       0, 1, 1, 0, 1, 1, 1, 0, 0, 1, 1, 1, 1, 0, 1, 1, 1, 1, 0, 0, 0, 0,\n",
       "       0, 1])"
      ]
     },
     "execution_count": 116,
     "metadata": {},
     "output_type": "execute_result"
    }
   ],
   "source": [
    "pumpkin_boosting_tuned_preds = pumpkin_boosting_tuned.predict(dt_X_test)\n",
    "\n",
    "pumpkin_boosting_tuned_preds"
   ]
  },
  {
   "cell_type": "code",
   "execution_count": 117,
   "metadata": {},
   "outputs": [
    {
     "name": "stdout",
     "output_type": "stream",
     "text": [
      "Confusion Matrix:\n",
      "[[341  38]\n",
      " [ 46 325]]\n",
      "Classification Report:\n",
      "               precision    recall  f1-score   support\n",
      "\n",
      "   Cercevelik       0.88      0.90      0.89       379\n",
      "Urgup Sivrisi       0.90      0.88      0.89       371\n",
      "\n",
      "     accuracy                           0.89       750\n",
      "    macro avg       0.89      0.89      0.89       750\n",
      " weighted avg       0.89      0.89      0.89       750\n",
      "\n",
      "Test Accuracy: 0.888\n"
     ]
    }
   ],
   "source": [
    "print(\"Confusion Matrix:\")\n",
    "print(confusion_matrix(dt_y_test, pumpkin_boosting_tuned_preds))\n",
    "\n",
    "print(\"Classification Report:\")\n",
    "print(classification_report(dt_y_test, pumpkin_boosting_tuned_preds, target_names=label_encoder.classes_))\n",
    "\n",
    "print(\"Test Accuracy:\", accuracy_score(dt_y_test, pumpkin_boosting_tuned_preds))"
   ]
  },
  {
   "cell_type": "markdown",
   "metadata": {},
   "source": [
    "Test accuracy of the tuned HistGradientBoostingClassifier resulted in `0.888`, which does not seem to be much of an improvement as there is only `0.02` difference in accuracy from the actual tuned decision tree model."
   ]
  },
  {
   "cell_type": "markdown",
   "metadata": {},
   "source": [
    "### *Model 3: Logistic Regression*"
   ]
  },
  {
   "cell_type": "markdown",
   "metadata": {},
   "source": [
    "Get the parameters of `SGDClassifier`."
   ]
  },
  {
   "cell_type": "code",
   "execution_count": null,
   "metadata": {},
   "outputs": [],
   "source": [
    "logreg.get_params().keys()"
   ]
  },
  {
   "cell_type": "markdown",
   "metadata": {},
   "source": [
    "We will mainly focus on tweaking the `'eta0'`, `'max_iter'`, and `'learning_rate'` parameters."
   ]
  },
  {
   "cell_type": "markdown",
   "metadata": {},
   "source": [
    "The possible values of each parameter can be found in the documentation:\n",
    "https://scikit-learn.org/1.5/modules/generated/sklearn.linear_model.SGDClassifier.html"
   ]
  },
  {
   "cell_type": "markdown",
   "metadata": {},
   "source": [
    "Specify the hyperparameters and their ranges."
   ]
  },
  {
   "cell_type": "code",
   "execution_count": null,
   "metadata": {},
   "outputs": [],
   "source": [
    "logreg_params = {\n",
    "    'eta0': [0.001, 0.01, 0.1],\n",
    "    'max_iter': [100, 200, 500],\n",
    "    'learning_rate': ['constant', 'optimal', 'invscaling', 'adaptive']\n",
    "}"
   ]
  },
  {
   "cell_type": "markdown",
   "metadata": {},
   "source": [
    "We'll perform hyperparameter tuning using `GridSearchCV`.\n",
    "\n",
    "Set the cross-validation (`cv`) parameter to `10` to improve accuracy by providing more precise estimates."
   ]
  },
  {
   "cell_type": "code",
   "execution_count": null,
   "metadata": {},
   "outputs": [],
   "source": [
    "logreg_gs = GridSearchCV(logreg, logreg_params, cv=10, scoring='accuracy')"
   ]
  },
  {
   "cell_type": "markdown",
   "metadata": {},
   "source": [
    "Train our models on our training data."
   ]
  },
  {
   "cell_type": "code",
   "execution_count": null,
   "metadata": {},
   "outputs": [],
   "source": [
    "logreg_gs.fit(logreg_X_train, logreg_y_train)"
   ]
  },
  {
   "cell_type": "markdown",
   "metadata": {},
   "source": [
    "Find the best hyperparameters found by the grid search."
   ]
  },
  {
   "cell_type": "code",
   "execution_count": null,
   "metadata": {},
   "outputs": [],
   "source": [
    "logreg_gs.best_params_"
   ]
  },
  {
   "cell_type": "markdown",
   "metadata": {},
   "source": [
    "Print the best score of the grid search."
   ]
  },
  {
   "cell_type": "code",
   "execution_count": null,
   "metadata": {},
   "outputs": [],
   "source": [
    "logreg_gs.best_score_"
   ]
  },
  {
   "cell_type": "markdown",
   "metadata": {},
   "source": [
    "Now, let's try conducting hyperparameter tuning using `RandomizedSearchCV` to see if it's better than `GridSearchCV`.\n",
    "\n",
    "We also set the cross-validation (`cv`) to `10`, similar to above.\n",
    "\n",
    "We will set the number of iterations (`n_iter`) parameter to be equal to the number of total possible combinations of hyperparameters.  In this case, since there are $3$ values for `eta0`, $3$ values for `max_iter`, and $4$ values for `learning_rate`, then `n_iter` should be set to $3 \\times 3 \\times 4 = 36$."
   ]
  },
  {
   "cell_type": "code",
   "execution_count": null,
   "metadata": {},
   "outputs": [],
   "source": [
    "logreg_rs = RandomizedSearchCV(\n",
    "    logreg,\n",
    "    logreg_params,\n",
    "    n_iter=36,\n",
    "    cv=10,\n",
    "    random_state=1,\n",
    "    scoring='accuracy'\n",
    ")"
   ]
  },
  {
   "cell_type": "markdown",
   "metadata": {},
   "source": [
    "Train our models on our training data."
   ]
  },
  {
   "cell_type": "code",
   "execution_count": null,
   "metadata": {},
   "outputs": [],
   "source": [
    "logreg_rs.fit(logreg_X_train, logreg_y_train)"
   ]
  },
  {
   "cell_type": "markdown",
   "metadata": {},
   "source": [
    "Find the best hyperparameters found by the randomized search."
   ]
  },
  {
   "cell_type": "code",
   "execution_count": null,
   "metadata": {},
   "outputs": [],
   "source": [
    "logreg_rs.best_params_"
   ]
  },
  {
   "cell_type": "markdown",
   "metadata": {},
   "source": [
    "\n",
    "Print the best score of the grid search."
   ]
  },
  {
   "cell_type": "code",
   "execution_count": null,
   "metadata": {},
   "outputs": [],
   "source": [
    "logreg_rs.best_score_"
   ]
  },
  {
   "cell_type": "markdown",
   "metadata": {},
   "source": [
    "Since `GridSearchCV` and `RandomizedSearchCV` both found the same best hyperparameters and both also got the same best score, we will just use the hyperparameters of `GridSearchCV` in making an estimator."
   ]
  },
  {
   "cell_type": "markdown",
   "metadata": {},
   "source": [
    "Create a new estimator based on the best hyperparameters found by `GridSearchCV`."
   ]
  },
  {
   "cell_type": "code",
   "execution_count": null,
   "metadata": {},
   "outputs": [],
   "source": [
    "logreg_best = SGDClassifier(\n",
    "    loss='log_loss',\n",
    "    eta0=logreg_rs.best_params_['eta0'],\n",
    "    max_iter=logreg_rs.best_params_['max_iter'],\n",
    "    learning_rate=logreg_rs.best_params_['learning_rate'],\n",
    "    random_state=1,\n",
    "    verbose=1\n",
    ")"
   ]
  },
  {
   "cell_type": "markdown",
   "metadata": {},
   "source": [
    "Train the estimator on our data."
   ]
  },
  {
   "cell_type": "code",
   "execution_count": null,
   "metadata": {},
   "outputs": [],
   "source": [
    "logreg_best.fit(logreg_X_train, logreg_y_train)"
   ]
  },
  {
   "cell_type": "markdown",
   "metadata": {},
   "source": [
    "Get the prediction results on the test data."
   ]
  },
  {
   "cell_type": "code",
   "execution_count": null,
   "metadata": {},
   "outputs": [],
   "source": [
    "logreg_best_pred = logreg_best.predict(logreg_X_test)\n",
    "print(logreg_best_pred)"
   ]
  },
  {
   "cell_type": "markdown",
   "metadata": {},
   "source": [
    "Evaluate the performance of the best model by printing the evaluation metrics."
   ]
  },
  {
   "cell_type": "code",
   "execution_count": null,
   "metadata": {},
   "outputs": [],
   "source": [
    "print(\"Confusion Matrix:\")\n",
    "print(confusion_matrix(logreg_y_test, logreg_best_pred))\n",
    "\n",
    "print(\"Classification Report:\")\n",
    "print(classification_report(logreg_y_test, logreg_best_pred, target_names=label_encoder.classes_))\n",
    "\n",
    "print(\"Test Accuracy:\", accuracy_score(logreg_y_test, logreg_best_pred))"
   ]
  },
  {
   "cell_type": "markdown",
   "metadata": {},
   "source": [
    "In comparison with the initial model, the **accuracy** of the best model increased to `0.864` from `0.848`.\n",
    "\n",
    "The **precision** of the **Cercevelik** class also increased to `0.85` from `0.83`, and the **recall** of the **Urgup Sivrisi** class increased to `0.85` from `0.81`."
   ]
  },
  {
   "cell_type": "markdown",
   "metadata": {},
   "source": [
    "## **9** | **Model Performance Summary**"
   ]
  },
  {
   "cell_type": "markdown",
   "metadata": {},
   "source": [
    "## **10** | **Insights and Conclusions**"
   ]
  },
  {
   "cell_type": "markdown",
   "metadata": {},
   "source": [
    "## **11** | **References**"
   ]
  },
  {
   "cell_type": "markdown",
   "metadata": {},
   "source": [
    "Koklu, M., Sarigil, S., & Ozbek, O. (2021). The use of machine learning methods in classification\n",
    "of pumpkin seeds (Cucurbita pepo L.). Genetic Resources and Crop Evolution, 68 (7), 2713-2726.\n",
    "Doi: https://doi.org/10.1007/s10722-021-01226-0"
   ]
  }
 ],
 "metadata": {
  "kernelspec": {
   "display_name": "Python 3",
   "language": "python",
   "name": "python3"
  },
  "language_info": {
   "codemirror_mode": {
    "name": "ipython",
    "version": 3
   },
   "file_extension": ".py",
   "mimetype": "text/x-python",
   "name": "python",
   "nbconvert_exporter": "python",
   "pygments_lexer": "ipython3",
   "version": "3.11.5"
  }
 },
 "nbformat": 4,
 "nbformat_minor": 4
}
