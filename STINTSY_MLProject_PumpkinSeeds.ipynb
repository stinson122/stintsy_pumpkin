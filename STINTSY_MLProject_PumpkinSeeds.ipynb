{
 "cells": [
  {
   "cell_type": "markdown",
   "metadata": {},
   "source": [
    "# **STINTSY Machine Learning Project: Pumpkin Seeds Dataset**"
   ]
  },
  {
   "cell_type": "markdown",
   "metadata": {},
   "source": [
    "**STINTSY S11 - Milky Way** \\\n",
    "*Group Members:*\n",
    "- Gutierrez, Mark Daniel\n",
    "- Refuerzo, Lloyd Dominic\n",
    "- Romblon, Kathleen Mae\n",
    "- Stinson, Audrey Lauren"
   ]
  },
  {
   "cell_type": "markdown",
   "metadata": {},
   "source": [
    "## **1** | **Introduction**"
   ]
  },
  {
   "cell_type": "markdown",
   "metadata": {},
   "source": [
    "The pumpkin plant belongs to the Cucurbitaceae family and has seasonal varieties. Confectionery pumpkins, grown in Turkey, are usually produced from the pumpkin species, Cucurbita pepo L and sometimes from the Cucurbita moschata Duchesne type. Pumpkin seeds are considered as important for human health because it contains 37 percent of carbohydrate, 35 percent to 40 percent of fat and protein along with calcium, potassium, phosphorus, magnesium, iron, and zinc. Pumpkins are divided into many types, and one of these species is known as “Urgup Sivrisi”. Urgup Sivrisi is a type of pumpkin seed that has a long, white, very bright, thin, and hardly distinguishable shell with a pointed tip. The other type of pumpkin seeds is “Cercevelik”. It is a particular species grown in Turkey, Nevsehir, Karacaoren, and known as “Topak” in Turkey. <span style=\"color:#42adf5\">(*taken directly from* Details *section of the Pumpkin Seeds Dataset pdf*)</span>"
   ]
  },
  {
   "cell_type": "markdown",
   "metadata": {},
   "source": [
    "The target task for this dataset is to correctly classify whether an image of a pumpkin seed is of the species type \"Urgup Sivrisi\" or \"Cercevelik\". The dataset then offers a <span style=\"color:#f5b942\">classification problem</span> that the group will address through the use of various machine learning models, namely **k-Nearest Neighbors**, **Decision Trees**, and **Convolutional Neural Networks (CNNs) / Logistic Regression**. <span style=\"color:red\">(note/to delete/todo: pick between logreg and cnns)</span>"
   ]
  },
  {
   "cell_type": "markdown",
   "metadata": {},
   "source": [
    "## **2** | **About the Dataset**"
   ]
  },
  {
   "cell_type": "markdown",
   "metadata": {},
   "source": [
    "The dataset, collected by Koklu et al. (2021), contains extracted features from 2500 images of two varieties of pumpkin seeds, Urgup Sivrisi and Cercevelik. These images were taken inside a product shooting box to prevent shadows from showing if light from outside of the box were to get in. To process the original RGB images, they were converted to gray-toned images, and then to binary images to simplify the value of each pixel in the image. As the RGB images will be converted to binary images for the image processing part, the shadows can make the acquired size and shape of the seed appear smaller."
   ]
  },
  {
   "cell_type": "markdown",
   "metadata": {},
   "source": [
    "From the image binarization of each of the 2500 images, 12 features were extracted for each instance. The extracted features are based on the shape of the pumpkin seeds, where each pixel in the image was calculated while considering the values of other nearby pixels."
   ]
  },
  {
   "cell_type": "markdown",
   "metadata": {},
   "source": [
    "As such, the extracted features are as follows:"
   ]
  },
  {
   "cell_type": "markdown",
   "metadata": {},
   "source": [
    "1. <span style=\"color:#f5b942\">Area:</span> Number of pixels within the borders of a pumpkin seed\n",
    "2. <span style=\"color:#f5b942\">Perimeter:</span> Circumference in pixels of a pumpkin seed\n",
    "3. <span style=\"color:#f5b942\">Major Axis Length:</span> Large axis distance of a pumpkin seed\n",
    "4. <span style=\"color:#f5b942\">Minor Axis Length:</span> Small axis distance of a pumpkin seed\n",
    "5. <span style=\"color:#f5b942\">Convex Area:</span> Number of pixels of the smallest convex shell at the region formed by the pumpkin seed\n",
    "6. <span style=\"color:#f5b942\">Equiv Diameter:</span> Computed as $\\sqrt{4a/\\pi}$, where *a* is the area of the pumpkin seed\n",
    "7. <span style=\"color:#f5b942\">Eccentricity:</span> Eccentricity of a pumpkin seed\n",
    "8. <span style=\"color:#f5b942\">Solidity:</span> Convex condition of the pumpkin seeds\n",
    "9. <span style=\"color:#f5b942\">Extent:</span> Ratio of a pumpkin seed area to the bounding box pixels\n",
    "10. <span style=\"color:#f5b942\">Roundness:</span> Ovality of pumpkin seeds without considering the distortion of the edges\n",
    "11. <span style=\"color:#f5b942\">Aspect Ration:</span> Aspect ratio of the pumpkin seeds\n",
    "12. <span style=\"color:#f5b942\">Compactness:</span> Proportion of the area of the pumpkin seed relative to the area of the circle with the same circumference"
   ]
  },
  {
   "cell_type": "markdown",
   "metadata": {},
   "source": [
    "## **3** | **List of Requirements**"
   ]
  },
  {
   "cell_type": "markdown",
   "metadata": {},
   "source": [
    "The following cell imports the libraries needed to run the notebook:"
   ]
  },
  {
   "cell_type": "code",
   "execution_count": null,
   "metadata": {},
   "outputs": [],
   "source": [
    "import pandas as pd\n",
    "import numpy as np\n",
    "from sklearn.preprocessing import LabelEncoder, MinMaxScaler\n",
    "\n",
    "import matplotlib.pyplot as plt\n",
    "import seaborn as sns"
   ]
  },
  {
   "cell_type": "markdown",
   "metadata": {},
   "source": [
    "## **4** | **Data Preprocessing**"
   ]
  },
  {
   "cell_type": "markdown",
   "metadata": {},
   "source": [
    "### *Importing the dataset*"
   ]
  },
  {
   "cell_type": "markdown",
   "metadata": {},
   "source": [
    "For the following cell, we will be using the `read_csv` function to import the pumpkin seeds dataset to our notebook."
   ]
  },
  {
   "cell_type": "code",
   "execution_count": null,
   "metadata": {},
   "outputs": [],
   "source": [
    "data = pd.read_csv('pumpkin_seeds.csv')"
   ]
  },
  {
   "cell_type": "markdown",
   "metadata": {},
   "source": [
    "To check that we have imported the data, we can take a look at the first and last 10 instances in the dataset."
   ]
  },
  {
   "cell_type": "code",
   "execution_count": null,
   "metadata": {},
   "outputs": [],
   "source": [
    "data.head(10)"
   ]
  },
  {
   "cell_type": "code",
   "execution_count": null,
   "metadata": {},
   "outputs": [],
   "source": [
    "data.tail(10)"
   ]
  },
  {
   "cell_type": "code",
   "execution_count": null,
   "metadata": {},
   "outputs": [],
   "source": [
    "# (no. of instances, no. of columns [features + target label])\n",
    "data.shape"
   ]
  },
  {
   "cell_type": "markdown",
   "metadata": {},
   "source": [
    "The dataset consists of 13 columns, where the first 12 columns are the input features and the last column is the target label. There are 2500 instances in total, and the shape of the dataset is (2500, 13)."
   ]
  },
  {
   "cell_type": "markdown",
   "metadata": {},
   "source": [
    "Optionally, we can see the statistical summary of the dataset by calling the `describe()` function."
   ]
  },
  {
   "cell_type": "code",
   "execution_count": null,
   "metadata": {},
   "outputs": [],
   "source": [
    "data.describe()"
   ]
  },
  {
   "cell_type": "markdown",
   "metadata": {},
   "source": [
    "### *Data Cleaning*"
   ]
  },
  {
   "cell_type": "markdown",
   "metadata": {},
   "source": [
    "As we can see, one of the features, `Aspect_Ration`, is spelled incorrectly. To fix this, we will rename that column to `Aspect_Ratio`."
   ]
  },
  {
   "cell_type": "code",
   "execution_count": null,
   "metadata": {},
   "outputs": [],
   "source": [
    "#renaming and reformatting the features\n",
    "data.columns = ['Area', 'Perimeter', 'Major_Axis_Length', 'Minor_Axis_Length', 'Convex_Area', 'Equiv_Diameter',\n",
    "                'Eccentricity', 'Solidity', 'Extent', 'Roundness', 'Aspect_Ratio', 'Compactness', 'Class']"
   ]
  },
  {
   "cell_type": "markdown",
   "metadata": {},
   "source": [
    "The class labels can be renamed so that it only includes letters from the English alphabet, and this will be done by running the following cell block."
   ]
  },
  {
   "cell_type": "code",
   "execution_count": null,
   "metadata": {},
   "outputs": [],
   "source": [
    "data['Class'] = data['Class'].str.strip().str.title().replace({'Çerçevelik': 'Cercevelik'})\n",
    "data['Class'] = data['Class'].str.strip().str.title().replace({'Ürgüp Sivrisi': 'Urgup Sivrisi'})\n",
    "#data.info()\n",
    "#data.hist(figsize=(12,12))\n",
    "#plt.show()"
   ]
  },
  {
   "cell_type": "markdown",
   "metadata": {},
   "source": [
    "In continuation, we can check if there are other representations of the Class column by calling the `unique()` function on it. Since there are only two unique values, we do not need to make any changes for this column for now."
   ]
  },
  {
   "cell_type": "code",
   "execution_count": null,
   "metadata": {},
   "outputs": [],
   "source": [
    "data['Class'].unique()"
   ]
  },
  {
   "cell_type": "markdown",
   "metadata": {},
   "source": [
    "Using the `info()` function, we can check any feature with incorrect datatype. If there are inconsistencies with the datatype, it is likely to be assigned an `object` datatype. It should also be noted that for features that we would usually assume to have a `string` datatype, it is possible that they have `object` datatype."
   ]
  },
  {
   "cell_type": "code",
   "execution_count": null,
   "metadata": {},
   "outputs": [],
   "source": [
    "data.info()"
   ]
  },
  {
   "cell_type": "markdown",
   "metadata": {},
   "source": [
    "Only one of these features have the `object` datatype assigned to it, which is the `Class` column. However, since we have already queried its unique values in the previous section, we know that there shouldn't be inconsistencies in this column, so we can keep this column as is."
   ]
  },
  {
   "cell_type": "markdown",
   "metadata": {},
   "source": [
    "Next, we need to check if there are any missing values or instances where a default value has been assigned. In a pandas dataframe, these are usually represented as `None` or `NaN`, so we can query for any null values in our dataset. Additionally, we can also check if there are any duplicated instances."
   ]
  },
  {
   "cell_type": "code",
   "execution_count": null,
   "metadata": {},
   "outputs": [],
   "source": [
    "display(data.isnull().sum())\n",
    "display(data.duplicated().sum())"
   ]
  },
  {
   "cell_type": "markdown",
   "metadata": {},
   "source": [
    "Now that we have finished checking the data, we can now split the data into features (X) and the target label (y)."
   ]
  },
  {
   "cell_type": "code",
   "execution_count": null,
   "metadata": {},
   "outputs": [],
   "source": [
    "#split features and label\n",
    "X = data.drop(columns=['Class']).values\n",
    "y = data['Class'].values"
   ]
  },
  {
   "cell_type": "markdown",
   "metadata": {},
   "source": [
    "Some models may require that our features are normalized, so we'll define a normalized X variable using the `MinMaxScaler` library's `fit_transform()` function."
   ]
  },
  {
   "cell_type": "code",
   "execution_count": null,
   "metadata": {},
   "outputs": [],
   "source": [
    "#normalize\n",
    "scaler = MinMaxScaler()\n",
    "X_norm = scaler.fit_transform(X)"
   ]
  },
  {
   "cell_type": "markdown",
   "metadata": {},
   "source": [
    "Our class labels can be represented numerically. To do this, we use the `LabelEncoder` library's `fit_transform()` function on our target label `y` to represent **Cercevelik** as class `0` and **Urgup Sivrisi** as class `1`."
   ]
  },
  {
   "cell_type": "code",
   "execution_count": null,
   "metadata": {},
   "outputs": [],
   "source": [
    "#Encode Cercevelik as 0, Urgup Sivrisi as 1\n",
    "label_encoder = LabelEncoder()\n",
    "y = label_encoder.fit_transform(y)\n",
    "\n",
    "#Check if y is properly transformed\n",
    "np.unique(y)"
   ]
  },
  {
   "cell_type": "markdown",
   "metadata": {},
   "source": [
    "Similarly, for the purposes of our exploratory data analysis, we will also transform the `Class` column in our dataframe so that **Cercevelik** is represented as `0` and **Urgup Sivrisi** is represented as class `1`."
   ]
  },
  {
   "cell_type": "code",
   "execution_count": null,
   "metadata": {},
   "outputs": [],
   "source": [
    "data['Class'] = label_encoder.fit_transform(data['Class'])\n",
    "\n",
    "data['Class'].unique()"
   ]
  },
  {
   "cell_type": "markdown",
   "metadata": {},
   "source": [
    "## **5** | **Exploratory Data Analysis**"
   ]
  },
  {
   "cell_type": "markdown",
   "metadata": {},
   "source": [
    "### Correlation Checking"
   ]
  },
  {
   "cell_type": "markdown",
   "metadata": {},
   "source": [
    "Let’s play around with the data and find association among them. First, we check the correlation between features and labels."
   ]
  },
  {
   "cell_type": "code",
   "execution_count": null,
   "metadata": {},
   "outputs": [],
   "source": [
    "data.corr()['Class'].sort_values()"
   ]
  },
  {
   "cell_type": "markdown",
   "metadata": {},
   "source": [
    "As shown above, the first four features which have strongest relationship with Class are <b>Aspect_Ratio, Eccentricity, Major_Axis_Length and Perimeter</b>."
   ]
  },
  {
   "cell_type": "markdown",
   "metadata": {},
   "source": [
    "Then we display the correlations of each combination of two features."
   ]
  },
  {
   "cell_type": "code",
   "execution_count": null,
   "metadata": {},
   "outputs": [],
   "source": [
    "corr = data.corr().round(2)\n",
    "sns.heatmap(corr,cmap=\"rocket\",annot=True)"
   ]
  },
  {
   "cell_type": "markdown",
   "metadata": {},
   "source": [
    "The brighter the color is, the stronger the relationship between 2 variables.<br>\n",
    "Notably, 3 features have perfect positive correlation with each other: Area, Convex Area and Equiv Diameter. Other closely correlated features are Aspect Ratio and Eccentricity with 0.95 correlation, then Perimeter with Area, Convex Area and Equiv Diameter with 0.93 correlation. Meanwhile, compactness and aspect ratio are highly inversely correlated at -0.99 correlation, impying compactness decreases with increasing aspect ratio.<br>\n",
    "Let’s plot some interesting pattern."
   ]
  },
  {
   "cell_type": "markdown",
   "metadata": {},
   "source": [
    "### The number of data in each class"
   ]
  },
  {
   "cell_type": "code",
   "execution_count": null,
   "metadata": {},
   "outputs": [],
   "source": [
    "g = sns.catplot(data=data,x='Class',kind='count')\n",
    "g.set_axis_labels(\"\", \"The number of seeds\")\n",
    "g.set_xticklabels([\"Cercevelik\", \"Urgup Sivrisi\"])"
   ]
  },
  {
   "cell_type": "markdown",
   "metadata": {},
   "source": [
    "We can see that in the dataset, the number of instances classified as Çerçevelik seeds is slightly more than that of Ürgüp Sivrisi."
   ]
  },
  {
   "cell_type": "markdown",
   "metadata": {},
   "source": [
    "### Boxplot"
   ]
  },
  {
   "cell_type": "markdown",
   "metadata": {},
   "source": [
    "We display the relationship between Class and the first four features which have strongest relationship with it."
   ]
  },
  {
   "cell_type": "code",
   "execution_count": null,
   "metadata": {},
   "outputs": [],
   "source": [
    "# Boxplot\n",
    "f = plt.figure(figsize=(12,8))\n",
    "\n",
    "plt.subplot(2,2,1)\n",
    "# Aspect_Ration vs Class\n",
    "a=sns.boxplot(data=data,x='Class',y='Aspect_Ratio')\n",
    "a.set_xticklabels([\"Cercevelik\", \"Urgup Sivrisi\"])\n",
    "\n",
    "plt.subplot(2,2,2)\n",
    "# Eccentricity vs Class\n",
    "b=sns.boxplot(data=data,x='Class',y='Eccentricity')\n",
    "b.set_xticklabels([\"Cercevelik\", \"Urgup Sivrisi\"])\n",
    "\n",
    "plt.subplot(2,2,3)\n",
    "# Major_Axis_Length vs Class\n",
    "c=sns.boxplot(data=data,x='Class',y='Major_Axis_Length')\n",
    "c.set_xticklabels([\"Cercevelik\", \"Urgup Sivrisi\"])\n",
    "\n",
    "plt.subplot(2,2,4)\n",
    "# Perimeter vs Class\n",
    "d=sns.boxplot(data=data,x='Class',y='Perimeter')\n",
    "d.set_xticklabels([\"Cercevelik\", \"Urgup Sivrisi\"])"
   ]
  },
  {
   "cell_type": "markdown",
   "metadata": {},
   "source": [
    "Ürgüp Sivrisi has a higher median in all 4 features. Since these features are related to shape and size, this may imply that Ürgüp Sivrisi seeds are generally bigger and more elongated than Çerçevelik seeds."
   ]
  },
  {
   "cell_type": "markdown",
   "metadata": {},
   "source": [
    "### Scatterplot"
   ]
  },
  {
   "cell_type": "markdown",
   "metadata": {},
   "source": [
    "As we can see from the correlation plot, some other combinations of the variables also show strong relationships (around 0.95). Let’s have a look at the four of them."
   ]
  },
  {
   "cell_type": "code",
   "execution_count": null,
   "metadata": {},
   "outputs": [],
   "source": [
    "#The relationships among other features\n",
    "f = plt.figure(figsize=(16,12))\n",
    "#Roundness vs. Compactness\n",
    "plt.subplot(2,2,1)\n",
    "sns.scatterplot(data=data,x='Compactness', y='Roundness',hue='Class')\n",
    "plt.grid()\n",
    "\n",
    "#Perimeter vs. Major_Axis_Length\n",
    "plt.subplot(2,2,2)\n",
    "sns.scatterplot(data=data,x='Perimeter', y='Major_Axis_Length',hue='Class')\n",
    "plt.grid()\n",
    "\n",
    "#Perimeter vs. Area\n",
    "plt.subplot(2,2,3)\n",
    "sns.scatterplot(data=data,x='Perimeter', y='Area',hue='Class')\n",
    "plt.grid()\n",
    "\n",
    "#Perimeter vs. Convex_Area\n",
    "plt.subplot(2,2,4)\n",
    "sns.scatterplot(data=data,x='Perimeter', y='Convex_Area',hue='Class')\n",
    "plt.grid()"
   ]
  },
  {
   "cell_type": "markdown",
   "metadata": {},
   "source": [
    "The scatterplot is divided according to their class. As you can see two features got very strong relationships. While they don’t have strong relationships with **Class**, which can be seen from the distribution of orange and blue points, representing two different seed classes. The distribution of two classes doesn’t appear like cluster."
   ]
  },
  {
   "cell_type": "markdown",
   "metadata": {},
   "source": [
    "## **6** | **Initial Model Training**"
   ]
  },
  {
   "cell_type": "markdown",
   "metadata": {},
   "source": [
    "### Model 1: K-Nearest Neighbors"
   ]
  },
  {
   "cell_type": "markdown",
   "metadata": {},
   "source": [
    "First, we import the needed libraries for KNN model training and evaluation metrics."
   ]
  },
  {
   "cell_type": "code",
   "execution_count": null,
   "metadata": {},
   "outputs": [],
   "source": [
    "from sklearn.model_selection import train_test_split, cross_val_score\n",
    "from sklearn.neighbors import KNeighborsClassifier\n",
    "from sklearn.metrics import classification_report, confusion_matrix, accuracy_score"
   ]
  },
  {
   "cell_type": "markdown",
   "metadata": {},
   "source": [
    "We'll split the data to training set (70%) and testing set (30%)."
   ]
  },
  {
   "cell_type": "code",
   "execution_count": null,
   "metadata": {},
   "outputs": [],
   "source": [
    "X_train, X_test, y_train, y_test = train_test_split(X_norm, y, test_size=0.3, random_state=1)\n",
    "print(\"X train: \\n\" + str(X_train))\n",
    "print(\"y train: \\n\" + str(y_train))\n",
    "print(\"X test: \\n\" + str(X_test))\n",
    "print(\"y test: \\n\" + str(y_test))"
   ]
  },
  {
   "cell_type": "markdown",
   "metadata": {},
   "source": [
    "Possible values for the hyperparameter k will be numbers 1-20.<br>For each k, we will store the average cross-validation accuracy in accuracy_scores. We will use these scores to determine the best k later on."
   ]
  },
  {
   "cell_type": "code",
   "execution_count": null,
   "metadata": {},
   "outputs": [],
   "source": [
    "k_choices = range(1, 21)\n",
    "accuracy_scores = []\n",
    "for k in k_choices:\n",
    "    knn = KNeighborsClassifier(n_neighbors=k)\n",
    "    score = cross_val_score(knn, X_train, y_train, cv=10).mean()\n",
    "    accuracy_scores.append(score)"
   ]
  },
  {
   "cell_type": "markdown",
   "metadata": {},
   "source": [
    "Let's visualize the data."
   ]
  },
  {
   "cell_type": "code",
   "execution_count": null,
   "metadata": {},
   "outputs": [],
   "source": [
    "for i in range(len(accuracy_scores)):\n",
    "    plt.scatter(k_choices[i], accuracy_scores[i])\n",
    "plt.xlabel(\"k\")\n",
    "plt.ylabel(\"Cross-validation accuracy\")\n",
    "plt.title(\"Cross-validation on k\")\n",
    "plt.grid()\n",
    "plt.show()"
   ]
  },
  {
   "cell_type": "markdown",
   "metadata": {},
   "source": [
    "The best k seems to be between 12.5 and 15.0, with a cross-validation accuracy higher than 0.87. Now let's compute this based on the accuracy scores."
   ]
  },
  {
   "cell_type": "code",
   "execution_count": null,
   "metadata": {},
   "outputs": [],
   "source": [
    "best_k = k_choices[np.argmax(accuracy_scores)]\n",
    "print(\"Best k:\", best_k)\n",
    "print(\"Accuracy:\", max(accuracy_scores))"
   ]
  },
  {
   "cell_type": "markdown",
   "metadata": {},
   "source": [
    "Let's train the model using the best k (14)."
   ]
  },
  {
   "cell_type": "code",
   "execution_count": null,
   "metadata": {},
   "outputs": [],
   "source": [
    "knn = KNeighborsClassifier(n_neighbors=best_k)\n",
    "knn.fit(X_train, y_train)"
   ]
  },
  {
   "cell_type": "markdown",
   "metadata": {},
   "source": [
    "Let's test the model on the testing data."
   ]
  },
  {
   "cell_type": "code",
   "execution_count": null,
   "metadata": {},
   "outputs": [],
   "source": [
    "y_pred = knn.predict(X_test)\n",
    "y_pred"
   ]
  },
  {
   "cell_type": "markdown",
   "metadata": {},
   "source": [
    "Let's evaluate the model. First, let's print out the confusion matrix."
   ]
  },
  {
   "cell_type": "code",
   "execution_count": null,
   "metadata": {},
   "outputs": [],
   "source": [
    "print(\"Confusion Matrix:\")\n",
    "print(confusion_matrix(y_test, y_pred))"
   ]
  },
  {
   "cell_type": "markdown",
   "metadata": {},
   "source": [
    "Note that Çerçevelik is encoded as 0 and Ürgüp Sivrisi as 1.<br>\n",
    "<b>True positives:</b> 342 instances were labeled correctly as Ürgüp Sivrisi.<br>\n",
    "<b>True negatives:</b> 309 instances were labeled correctly as Çerçevelik.<br>\n",
    "<b>False negatives:</b> 37 instances were labeled incorrectly as Çerçevelik.<br>\n",
    "<b>False positives:</b> 62 instances were labeled incorrectly as Ürgüp Sivrisi.<br>"
   ]
  },
  {
   "cell_type": "markdown",
   "metadata": {},
   "source": [
    "Let's get the evaluation metrics per class using classification_report(), and then the overall test accuracy."
   ]
  },
  {
   "cell_type": "code",
   "execution_count": null,
   "metadata": {},
   "outputs": [],
   "source": [
    "print(\"Classification Report:\")\n",
    "print(classification_report(y_test, y_pred, target_names=label_encoder.classes_))\n",
    "\n",
    "print(\"Test Accuracy:\", accuracy_score(y_test, y_pred))"
   ]
  },
  {
   "cell_type": "markdown",
   "metadata": {},
   "source": [
    "## **7** | **Error Analysis**"
   ]
  },
  {
   "cell_type": "markdown",
   "metadata": {},
   "source": [
    "## **8** | **Improving Model Performance**"
   ]
  },
  {
   "cell_type": "markdown",
   "metadata": {},
   "source": [
    "## **9** | **Model Performance Summary**"
   ]
  },
  {
   "cell_type": "markdown",
   "metadata": {},
   "source": [
    "## **10** | **Insights and Conclusions**"
   ]
  },
  {
   "cell_type": "markdown",
   "metadata": {},
   "source": [
    "## **11** | **References**"
   ]
  }
 ],
 "metadata": {
  "kernelspec": {
   "display_name": "Python 3.12.4 ('base')",
   "language": "python",
   "name": "python3"
  },
  "language_info": {
   "codemirror_mode": {
    "name": "ipython",
    "version": 3
   },
   "file_extension": ".py",
   "mimetype": "text/x-python",
   "name": "python",
   "nbconvert_exporter": "python",
   "pygments_lexer": "ipython3",
   "version": "3.12.4"
  },
  "vscode": {
   "interpreter": {
    "hash": "a1c8104cc5e3aba9e41defd315d03ec8aa063b2ba681f04b2cccf6c6756a7249"
   }
  }
 },
 "nbformat": 4,
 "nbformat_minor": 4
}
